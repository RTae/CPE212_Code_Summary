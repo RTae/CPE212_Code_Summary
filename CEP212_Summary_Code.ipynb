{
  "nbformat": 4,
  "nbformat_minor": 0,
  "metadata": {
    "colab": {
      "name": "CEP212_Summary_Code.ipynb",
      "provenance": [],
      "collapsed_sections": [
        "wOfq27fX90mg"
      ],
      "toc_visible": true,
      "authorship_tag": "ABX9TyMBrYhKgeCpS3Of/20GW9Pf",
      "include_colab_link": true
    },
    "kernelspec": {
      "name": "python3",
      "display_name": "Python 3"
    }
  },
  "cells": [
    {
      "cell_type": "markdown",
      "metadata": {
        "id": "view-in-github",
        "colab_type": "text"
      },
      "source": [
        "<a href=\"https://colab.research.google.com/github/RTae/CPE212_Code_Summary/blob/master/CEP212_Summary_Code.ipynb\" target=\"_parent\"><img src=\"https://colab.research.google.com/assets/colab-badge.svg\" alt=\"Open In Colab\"/></a>"
      ]
    },
    {
      "cell_type": "markdown",
      "metadata": {
        "id": "bWrB3ALg6YUu",
        "colab_type": "text"
      },
      "source": [
        "#Decase and Conquer"
      ]
    },
    {
      "cell_type": "markdown",
      "metadata": {
        "id": "7aJPI8DE6vb0",
        "colab_type": "text"
      },
      "source": [
        "1) Decrease by a constant"
      ]
    },
    {
      "cell_type": "markdown",
      "metadata": {
        "id": "euu7MEOJ7Gqd",
        "colab_type": "text"
      },
      "source": [
        "- Insertion sort"
      ]
    },
    {
      "cell_type": "code",
      "metadata": {
        "id": "o1fL7Tbe7QvQ",
        "colab_type": "code",
        "colab": {}
      },
      "source": [
        "def insertionSort(seq): \n",
        "  \n",
        "    for i in range(1, len(seq)): \n",
        "        key = seq[i] \n",
        "        j = i-1\n",
        "        while j >=0 and key < seq[j] : \n",
        "                seq[j+1] = seq[j] \n",
        "                j -= 1\n",
        "        seq[j+1] = key\n",
        "\n",
        "    return seq"
      ],
      "execution_count": 0,
      "outputs": []
    },
    {
      "cell_type": "code",
      "metadata": {
        "id": "dpBSRiqK8Uhp",
        "colab_type": "code",
        "outputId": "aca45425-8010-498b-cb92-382b40f9155a",
        "colab": {
          "base_uri": "https://localhost:8080/",
          "height": 34
        }
      },
      "source": [
        "seq = [23, 54, 0, 2, 5, 20, 49]\n",
        "sorted = insertionSort(seq)\n",
        "\n",
        "print(sorted)"
      ],
      "execution_count": 0,
      "outputs": [
        {
          "output_type": "stream",
          "text": [
            "[0, 2, 5, 20, 23, 49, 54]\n"
          ],
          "name": "stdout"
        }
      ]
    },
    {
      "cell_type": "markdown",
      "metadata": {
        "id": "wp0Rcu_W_zJ_",
        "colab_type": "text"
      },
      "source": [
        "- DFS (Depth First Search)"
      ]
    },
    {
      "cell_type": "code",
      "metadata": {
        "id": "k4pi2kJP86-0",
        "colab_type": "code",
        "colab": {}
      },
      "source": [
        "from collections import defaultdict \n",
        "  \n",
        "class Graph: \n",
        "  \n",
        "    def __init__(self,vertices): \n",
        "        self.graph = defaultdict(list) \n",
        "        self.V = vertices\n",
        "  \n",
        "    def addEdge(self, u, v): \n",
        "        self.graph[u].append(v) \n",
        "  \n",
        "    def DFSUtil(self, v, visited): \n",
        "\n",
        "        visited[v] = True\n",
        "        print(v, end = ' ') \n",
        "\n",
        "        for i in self.graph[v]: \n",
        "            if visited[i] == False: \n",
        "                self.DFSUtil(i, visited) \n",
        "  \n",
        "    def DFS(self, v): \n",
        "        visited = [False] * (max(self.graph)+1) \n",
        "        self.DFSUtil(v, visited)\n",
        "\n",
        "    def topologicalSortUtil(self,v,visited,stack): \n",
        "  \n",
        "        visited[v] = True\n",
        "  \n",
        "        for i in self.graph[v]: \n",
        "            if visited[i] == False: \n",
        "                self.topologicalSortUtil(i,visited,stack) \n",
        "  \n",
        "        stack.insert(0,v) \n",
        "  \n",
        "    def topologicalSort(self): \n",
        "        visited = [False]*self.V \n",
        "        stack =[] \n",
        "\n",
        "        for i in range(self.V): \n",
        "            if visited[i] == False: \n",
        "                self.topologicalSortUtil(i,visited,stack) \n",
        "  \n",
        "        print(stack) "
      ],
      "execution_count": 0,
      "outputs": []
    },
    {
      "cell_type": "code",
      "metadata": {
        "id": "LBfAHtbz_5tF",
        "colab_type": "code",
        "outputId": "78d0da11-34d1-49e1-a7e5-5f70dce81c4f",
        "colab": {
          "base_uri": "https://localhost:8080/",
          "height": 51
        }
      },
      "source": [
        "g = Graph(4) \n",
        "g.addEdge(0, 1) \n",
        "g.addEdge(0, 2) \n",
        "g.addEdge(1, 2) \n",
        "g.addEdge(2, 0) \n",
        "g.addEdge(2, 3) \n",
        "g.addEdge(3, 3) \n",
        "  \n",
        "print(\"Following is DFS from (starting from vertex 2)\") \n",
        "g.DFS(0)"
      ],
      "execution_count": 0,
      "outputs": [
        {
          "output_type": "stream",
          "text": [
            "Following is DFS from (starting from vertex 2)\n",
            "0 1 2 3 "
          ],
          "name": "stdout"
        }
      ]
    },
    {
      "cell_type": "markdown",
      "metadata": {
        "id": "D2P1UsGFxii9",
        "colab_type": "text"
      },
      "source": [
        "- Topological sort"
      ]
    },
    {
      "cell_type": "code",
      "metadata": {
        "id": "RmoR_SHPxiIV",
        "colab_type": "code",
        "outputId": "3265a201-efad-4be8-ef61-27e3de4ab392",
        "colab": {
          "base_uri": "https://localhost:8080/",
          "height": 51
        }
      },
      "source": [
        "g= Graph(5) \n",
        "g.addEdge(0, 2); \n",
        "g.addEdge(1, 2); \n",
        "g.addEdge(2, 3); \n",
        "g.addEdge(2, 4); \n",
        "g.addEdge(3, 4); \n",
        "  \n",
        "print(\"Following is a Topological Sort of the given graph\")\n",
        "g.topologicalSort() "
      ],
      "execution_count": 0,
      "outputs": [
        {
          "output_type": "stream",
          "text": [
            "Following is a Topological Sort of the given graph\n",
            "[1, 0, 2, 3, 4]\n"
          ],
          "name": "stdout"
        }
      ]
    },
    {
      "cell_type": "markdown",
      "metadata": {
        "id": "pv-4OlczBChk",
        "colab_type": "text"
      },
      "source": [
        "- Generating combinatorial"
      ]
    },
    {
      "cell_type": "markdown",
      "metadata": {
        "id": "nF3iyWNFBj6b",
        "colab_type": "text"
      },
      "source": [
        ">Permutation using Decrease by one"
      ]
    },
    {
      "cell_type": "code",
      "metadata": {
        "id": "YWhhahJ2CSKU",
        "colab_type": "code",
        "colab": {}
      },
      "source": [
        "def permutation(lst): \n",
        "  \n",
        "    if len(lst) == 0: \n",
        "        return [] \n",
        "\n",
        "    if len(lst) == 1: \n",
        "        return [lst] \n",
        "\n",
        "    l = [] \n",
        "  \n",
        "    for i in range(len(lst)): \n",
        "       m = lst[i] \n",
        "  \n",
        "       remLst = lst[:i] + lst[i+1:] \n",
        "\n",
        "       for p in permutation(remLst): \n",
        "           l.append([m] + p) \n",
        "    return l "
      ],
      "execution_count": 0,
      "outputs": []
    },
    {
      "cell_type": "code",
      "metadata": {
        "id": "Og8UPr6cBISs",
        "colab_type": "code",
        "outputId": "3c664afe-6c9b-4094-c190-cd29fc771cf0",
        "colab": {
          "base_uri": "https://localhost:8080/",
          "height": 1000
        }
      },
      "source": [
        "permutation(['A','B','C','D','E','F','G','I','J'])"
      ],
      "execution_count": 0,
      "outputs": [
        {
          "output_type": "execute_result",
          "data": {
            "text/plain": [
              "[['A', 'B', 'C', 'D', 'E', 'F', 'G', 'I', 'J'],\n",
              " ['A', 'B', 'C', 'D', 'E', 'F', 'G', 'J', 'I'],\n",
              " ['A', 'B', 'C', 'D', 'E', 'F', 'I', 'G', 'J'],\n",
              " ['A', 'B', 'C', 'D', 'E', 'F', 'I', 'J', 'G'],\n",
              " ['A', 'B', 'C', 'D', 'E', 'F', 'J', 'G', 'I'],\n",
              " ['A', 'B', 'C', 'D', 'E', 'F', 'J', 'I', 'G'],\n",
              " ['A', 'B', 'C', 'D', 'E', 'G', 'F', 'I', 'J'],\n",
              " ['A', 'B', 'C', 'D', 'E', 'G', 'F', 'J', 'I'],\n",
              " ['A', 'B', 'C', 'D', 'E', 'G', 'I', 'F', 'J'],\n",
              " ['A', 'B', 'C', 'D', 'E', 'G', 'I', 'J', 'F'],\n",
              " ['A', 'B', 'C', 'D', 'E', 'G', 'J', 'F', 'I'],\n",
              " ['A', 'B', 'C', 'D', 'E', 'G', 'J', 'I', 'F'],\n",
              " ['A', 'B', 'C', 'D', 'E', 'I', 'F', 'G', 'J'],\n",
              " ['A', 'B', 'C', 'D', 'E', 'I', 'F', 'J', 'G'],\n",
              " ['A', 'B', 'C', 'D', 'E', 'I', 'G', 'F', 'J'],\n",
              " ['A', 'B', 'C', 'D', 'E', 'I', 'G', 'J', 'F'],\n",
              " ['A', 'B', 'C', 'D', 'E', 'I', 'J', 'F', 'G'],\n",
              " ['A', 'B', 'C', 'D', 'E', 'I', 'J', 'G', 'F'],\n",
              " ['A', 'B', 'C', 'D', 'E', 'J', 'F', 'G', 'I'],\n",
              " ['A', 'B', 'C', 'D', 'E', 'J', 'F', 'I', 'G'],\n",
              " ['A', 'B', 'C', 'D', 'E', 'J', 'G', 'F', 'I'],\n",
              " ['A', 'B', 'C', 'D', 'E', 'J', 'G', 'I', 'F'],\n",
              " ['A', 'B', 'C', 'D', 'E', 'J', 'I', 'F', 'G'],\n",
              " ['A', 'B', 'C', 'D', 'E', 'J', 'I', 'G', 'F'],\n",
              " ['A', 'B', 'C', 'D', 'F', 'E', 'G', 'I', 'J'],\n",
              " ['A', 'B', 'C', 'D', 'F', 'E', 'G', 'J', 'I'],\n",
              " ['A', 'B', 'C', 'D', 'F', 'E', 'I', 'G', 'J'],\n",
              " ['A', 'B', 'C', 'D', 'F', 'E', 'I', 'J', 'G'],\n",
              " ['A', 'B', 'C', 'D', 'F', 'E', 'J', 'G', 'I'],\n",
              " ['A', 'B', 'C', 'D', 'F', 'E', 'J', 'I', 'G'],\n",
              " ['A', 'B', 'C', 'D', 'F', 'G', 'E', 'I', 'J'],\n",
              " ['A', 'B', 'C', 'D', 'F', 'G', 'E', 'J', 'I'],\n",
              " ['A', 'B', 'C', 'D', 'F', 'G', 'I', 'E', 'J'],\n",
              " ['A', 'B', 'C', 'D', 'F', 'G', 'I', 'J', 'E'],\n",
              " ['A', 'B', 'C', 'D', 'F', 'G', 'J', 'E', 'I'],\n",
              " ['A', 'B', 'C', 'D', 'F', 'G', 'J', 'I', 'E'],\n",
              " ['A', 'B', 'C', 'D', 'F', 'I', 'E', 'G', 'J'],\n",
              " ['A', 'B', 'C', 'D', 'F', 'I', 'E', 'J', 'G'],\n",
              " ['A', 'B', 'C', 'D', 'F', 'I', 'G', 'E', 'J'],\n",
              " ['A', 'B', 'C', 'D', 'F', 'I', 'G', 'J', 'E'],\n",
              " ['A', 'B', 'C', 'D', 'F', 'I', 'J', 'E', 'G'],\n",
              " ['A', 'B', 'C', 'D', 'F', 'I', 'J', 'G', 'E'],\n",
              " ['A', 'B', 'C', 'D', 'F', 'J', 'E', 'G', 'I'],\n",
              " ['A', 'B', 'C', 'D', 'F', 'J', 'E', 'I', 'G'],\n",
              " ['A', 'B', 'C', 'D', 'F', 'J', 'G', 'E', 'I'],\n",
              " ['A', 'B', 'C', 'D', 'F', 'J', 'G', 'I', 'E'],\n",
              " ['A', 'B', 'C', 'D', 'F', 'J', 'I', 'E', 'G'],\n",
              " ['A', 'B', 'C', 'D', 'F', 'J', 'I', 'G', 'E'],\n",
              " ['A', 'B', 'C', 'D', 'G', 'E', 'F', 'I', 'J'],\n",
              " ['A', 'B', 'C', 'D', 'G', 'E', 'F', 'J', 'I'],\n",
              " ['A', 'B', 'C', 'D', 'G', 'E', 'I', 'F', 'J'],\n",
              " ['A', 'B', 'C', 'D', 'G', 'E', 'I', 'J', 'F'],\n",
              " ['A', 'B', 'C', 'D', 'G', 'E', 'J', 'F', 'I'],\n",
              " ['A', 'B', 'C', 'D', 'G', 'E', 'J', 'I', 'F'],\n",
              " ['A', 'B', 'C', 'D', 'G', 'F', 'E', 'I', 'J'],\n",
              " ['A', 'B', 'C', 'D', 'G', 'F', 'E', 'J', 'I'],\n",
              " ['A', 'B', 'C', 'D', 'G', 'F', 'I', 'E', 'J'],\n",
              " ['A', 'B', 'C', 'D', 'G', 'F', 'I', 'J', 'E'],\n",
              " ['A', 'B', 'C', 'D', 'G', 'F', 'J', 'E', 'I'],\n",
              " ['A', 'B', 'C', 'D', 'G', 'F', 'J', 'I', 'E'],\n",
              " ['A', 'B', 'C', 'D', 'G', 'I', 'E', 'F', 'J'],\n",
              " ['A', 'B', 'C', 'D', 'G', 'I', 'E', 'J', 'F'],\n",
              " ['A', 'B', 'C', 'D', 'G', 'I', 'F', 'E', 'J'],\n",
              " ['A', 'B', 'C', 'D', 'G', 'I', 'F', 'J', 'E'],\n",
              " ['A', 'B', 'C', 'D', 'G', 'I', 'J', 'E', 'F'],\n",
              " ['A', 'B', 'C', 'D', 'G', 'I', 'J', 'F', 'E'],\n",
              " ['A', 'B', 'C', 'D', 'G', 'J', 'E', 'F', 'I'],\n",
              " ['A', 'B', 'C', 'D', 'G', 'J', 'E', 'I', 'F'],\n",
              " ['A', 'B', 'C', 'D', 'G', 'J', 'F', 'E', 'I'],\n",
              " ['A', 'B', 'C', 'D', 'G', 'J', 'F', 'I', 'E'],\n",
              " ['A', 'B', 'C', 'D', 'G', 'J', 'I', 'E', 'F'],\n",
              " ['A', 'B', 'C', 'D', 'G', 'J', 'I', 'F', 'E'],\n",
              " ['A', 'B', 'C', 'D', 'I', 'E', 'F', 'G', 'J'],\n",
              " ['A', 'B', 'C', 'D', 'I', 'E', 'F', 'J', 'G'],\n",
              " ['A', 'B', 'C', 'D', 'I', 'E', 'G', 'F', 'J'],\n",
              " ['A', 'B', 'C', 'D', 'I', 'E', 'G', 'J', 'F'],\n",
              " ['A', 'B', 'C', 'D', 'I', 'E', 'J', 'F', 'G'],\n",
              " ['A', 'B', 'C', 'D', 'I', 'E', 'J', 'G', 'F'],\n",
              " ['A', 'B', 'C', 'D', 'I', 'F', 'E', 'G', 'J'],\n",
              " ['A', 'B', 'C', 'D', 'I', 'F', 'E', 'J', 'G'],\n",
              " ['A', 'B', 'C', 'D', 'I', 'F', 'G', 'E', 'J'],\n",
              " ['A', 'B', 'C', 'D', 'I', 'F', 'G', 'J', 'E'],\n",
              " ['A', 'B', 'C', 'D', 'I', 'F', 'J', 'E', 'G'],\n",
              " ['A', 'B', 'C', 'D', 'I', 'F', 'J', 'G', 'E'],\n",
              " ['A', 'B', 'C', 'D', 'I', 'G', 'E', 'F', 'J'],\n",
              " ['A', 'B', 'C', 'D', 'I', 'G', 'E', 'J', 'F'],\n",
              " ['A', 'B', 'C', 'D', 'I', 'G', 'F', 'E', 'J'],\n",
              " ['A', 'B', 'C', 'D', 'I', 'G', 'F', 'J', 'E'],\n",
              " ['A', 'B', 'C', 'D', 'I', 'G', 'J', 'E', 'F'],\n",
              " ['A', 'B', 'C', 'D', 'I', 'G', 'J', 'F', 'E'],\n",
              " ['A', 'B', 'C', 'D', 'I', 'J', 'E', 'F', 'G'],\n",
              " ['A', 'B', 'C', 'D', 'I', 'J', 'E', 'G', 'F'],\n",
              " ['A', 'B', 'C', 'D', 'I', 'J', 'F', 'E', 'G'],\n",
              " ['A', 'B', 'C', 'D', 'I', 'J', 'F', 'G', 'E'],\n",
              " ['A', 'B', 'C', 'D', 'I', 'J', 'G', 'E', 'F'],\n",
              " ['A', 'B', 'C', 'D', 'I', 'J', 'G', 'F', 'E'],\n",
              " ['A', 'B', 'C', 'D', 'J', 'E', 'F', 'G', 'I'],\n",
              " ['A', 'B', 'C', 'D', 'J', 'E', 'F', 'I', 'G'],\n",
              " ['A', 'B', 'C', 'D', 'J', 'E', 'G', 'F', 'I'],\n",
              " ['A', 'B', 'C', 'D', 'J', 'E', 'G', 'I', 'F'],\n",
              " ['A', 'B', 'C', 'D', 'J', 'E', 'I', 'F', 'G'],\n",
              " ['A', 'B', 'C', 'D', 'J', 'E', 'I', 'G', 'F'],\n",
              " ['A', 'B', 'C', 'D', 'J', 'F', 'E', 'G', 'I'],\n",
              " ['A', 'B', 'C', 'D', 'J', 'F', 'E', 'I', 'G'],\n",
              " ['A', 'B', 'C', 'D', 'J', 'F', 'G', 'E', 'I'],\n",
              " ['A', 'B', 'C', 'D', 'J', 'F', 'G', 'I', 'E'],\n",
              " ['A', 'B', 'C', 'D', 'J', 'F', 'I', 'E', 'G'],\n",
              " ['A', 'B', 'C', 'D', 'J', 'F', 'I', 'G', 'E'],\n",
              " ['A', 'B', 'C', 'D', 'J', 'G', 'E', 'F', 'I'],\n",
              " ['A', 'B', 'C', 'D', 'J', 'G', 'E', 'I', 'F'],\n",
              " ['A', 'B', 'C', 'D', 'J', 'G', 'F', 'E', 'I'],\n",
              " ['A', 'B', 'C', 'D', 'J', 'G', 'F', 'I', 'E'],\n",
              " ['A', 'B', 'C', 'D', 'J', 'G', 'I', 'E', 'F'],\n",
              " ['A', 'B', 'C', 'D', 'J', 'G', 'I', 'F', 'E'],\n",
              " ['A', 'B', 'C', 'D', 'J', 'I', 'E', 'F', 'G'],\n",
              " ['A', 'B', 'C', 'D', 'J', 'I', 'E', 'G', 'F'],\n",
              " ['A', 'B', 'C', 'D', 'J', 'I', 'F', 'E', 'G'],\n",
              " ['A', 'B', 'C', 'D', 'J', 'I', 'F', 'G', 'E'],\n",
              " ['A', 'B', 'C', 'D', 'J', 'I', 'G', 'E', 'F'],\n",
              " ['A', 'B', 'C', 'D', 'J', 'I', 'G', 'F', 'E'],\n",
              " ['A', 'B', 'C', 'E', 'D', 'F', 'G', 'I', 'J'],\n",
              " ['A', 'B', 'C', 'E', 'D', 'F', 'G', 'J', 'I'],\n",
              " ['A', 'B', 'C', 'E', 'D', 'F', 'I', 'G', 'J'],\n",
              " ['A', 'B', 'C', 'E', 'D', 'F', 'I', 'J', 'G'],\n",
              " ['A', 'B', 'C', 'E', 'D', 'F', 'J', 'G', 'I'],\n",
              " ['A', 'B', 'C', 'E', 'D', 'F', 'J', 'I', 'G'],\n",
              " ['A', 'B', 'C', 'E', 'D', 'G', 'F', 'I', 'J'],\n",
              " ['A', 'B', 'C', 'E', 'D', 'G', 'F', 'J', 'I'],\n",
              " ['A', 'B', 'C', 'E', 'D', 'G', 'I', 'F', 'J'],\n",
              " ['A', 'B', 'C', 'E', 'D', 'G', 'I', 'J', 'F'],\n",
              " ['A', 'B', 'C', 'E', 'D', 'G', 'J', 'F', 'I'],\n",
              " ['A', 'B', 'C', 'E', 'D', 'G', 'J', 'I', 'F'],\n",
              " ['A', 'B', 'C', 'E', 'D', 'I', 'F', 'G', 'J'],\n",
              " ['A', 'B', 'C', 'E', 'D', 'I', 'F', 'J', 'G'],\n",
              " ['A', 'B', 'C', 'E', 'D', 'I', 'G', 'F', 'J'],\n",
              " ['A', 'B', 'C', 'E', 'D', 'I', 'G', 'J', 'F'],\n",
              " ['A', 'B', 'C', 'E', 'D', 'I', 'J', 'F', 'G'],\n",
              " ['A', 'B', 'C', 'E', 'D', 'I', 'J', 'G', 'F'],\n",
              " ['A', 'B', 'C', 'E', 'D', 'J', 'F', 'G', 'I'],\n",
              " ['A', 'B', 'C', 'E', 'D', 'J', 'F', 'I', 'G'],\n",
              " ['A', 'B', 'C', 'E', 'D', 'J', 'G', 'F', 'I'],\n",
              " ['A', 'B', 'C', 'E', 'D', 'J', 'G', 'I', 'F'],\n",
              " ['A', 'B', 'C', 'E', 'D', 'J', 'I', 'F', 'G'],\n",
              " ['A', 'B', 'C', 'E', 'D', 'J', 'I', 'G', 'F'],\n",
              " ['A', 'B', 'C', 'E', 'F', 'D', 'G', 'I', 'J'],\n",
              " ['A', 'B', 'C', 'E', 'F', 'D', 'G', 'J', 'I'],\n",
              " ['A', 'B', 'C', 'E', 'F', 'D', 'I', 'G', 'J'],\n",
              " ['A', 'B', 'C', 'E', 'F', 'D', 'I', 'J', 'G'],\n",
              " ['A', 'B', 'C', 'E', 'F', 'D', 'J', 'G', 'I'],\n",
              " ['A', 'B', 'C', 'E', 'F', 'D', 'J', 'I', 'G'],\n",
              " ['A', 'B', 'C', 'E', 'F', 'G', 'D', 'I', 'J'],\n",
              " ['A', 'B', 'C', 'E', 'F', 'G', 'D', 'J', 'I'],\n",
              " ['A', 'B', 'C', 'E', 'F', 'G', 'I', 'D', 'J'],\n",
              " ['A', 'B', 'C', 'E', 'F', 'G', 'I', 'J', 'D'],\n",
              " ['A', 'B', 'C', 'E', 'F', 'G', 'J', 'D', 'I'],\n",
              " ['A', 'B', 'C', 'E', 'F', 'G', 'J', 'I', 'D'],\n",
              " ['A', 'B', 'C', 'E', 'F', 'I', 'D', 'G', 'J'],\n",
              " ['A', 'B', 'C', 'E', 'F', 'I', 'D', 'J', 'G'],\n",
              " ['A', 'B', 'C', 'E', 'F', 'I', 'G', 'D', 'J'],\n",
              " ['A', 'B', 'C', 'E', 'F', 'I', 'G', 'J', 'D'],\n",
              " ['A', 'B', 'C', 'E', 'F', 'I', 'J', 'D', 'G'],\n",
              " ['A', 'B', 'C', 'E', 'F', 'I', 'J', 'G', 'D'],\n",
              " ['A', 'B', 'C', 'E', 'F', 'J', 'D', 'G', 'I'],\n",
              " ['A', 'B', 'C', 'E', 'F', 'J', 'D', 'I', 'G'],\n",
              " ['A', 'B', 'C', 'E', 'F', 'J', 'G', 'D', 'I'],\n",
              " ['A', 'B', 'C', 'E', 'F', 'J', 'G', 'I', 'D'],\n",
              " ['A', 'B', 'C', 'E', 'F', 'J', 'I', 'D', 'G'],\n",
              " ['A', 'B', 'C', 'E', 'F', 'J', 'I', 'G', 'D'],\n",
              " ['A', 'B', 'C', 'E', 'G', 'D', 'F', 'I', 'J'],\n",
              " ['A', 'B', 'C', 'E', 'G', 'D', 'F', 'J', 'I'],\n",
              " ['A', 'B', 'C', 'E', 'G', 'D', 'I', 'F', 'J'],\n",
              " ['A', 'B', 'C', 'E', 'G', 'D', 'I', 'J', 'F'],\n",
              " ['A', 'B', 'C', 'E', 'G', 'D', 'J', 'F', 'I'],\n",
              " ['A', 'B', 'C', 'E', 'G', 'D', 'J', 'I', 'F'],\n",
              " ['A', 'B', 'C', 'E', 'G', 'F', 'D', 'I', 'J'],\n",
              " ['A', 'B', 'C', 'E', 'G', 'F', 'D', 'J', 'I'],\n",
              " ['A', 'B', 'C', 'E', 'G', 'F', 'I', 'D', 'J'],\n",
              " ['A', 'B', 'C', 'E', 'G', 'F', 'I', 'J', 'D'],\n",
              " ['A', 'B', 'C', 'E', 'G', 'F', 'J', 'D', 'I'],\n",
              " ['A', 'B', 'C', 'E', 'G', 'F', 'J', 'I', 'D'],\n",
              " ['A', 'B', 'C', 'E', 'G', 'I', 'D', 'F', 'J'],\n",
              " ['A', 'B', 'C', 'E', 'G', 'I', 'D', 'J', 'F'],\n",
              " ['A', 'B', 'C', 'E', 'G', 'I', 'F', 'D', 'J'],\n",
              " ['A', 'B', 'C', 'E', 'G', 'I', 'F', 'J', 'D'],\n",
              " ['A', 'B', 'C', 'E', 'G', 'I', 'J', 'D', 'F'],\n",
              " ['A', 'B', 'C', 'E', 'G', 'I', 'J', 'F', 'D'],\n",
              " ['A', 'B', 'C', 'E', 'G', 'J', 'D', 'F', 'I'],\n",
              " ['A', 'B', 'C', 'E', 'G', 'J', 'D', 'I', 'F'],\n",
              " ['A', 'B', 'C', 'E', 'G', 'J', 'F', 'D', 'I'],\n",
              " ['A', 'B', 'C', 'E', 'G', 'J', 'F', 'I', 'D'],\n",
              " ['A', 'B', 'C', 'E', 'G', 'J', 'I', 'D', 'F'],\n",
              " ['A', 'B', 'C', 'E', 'G', 'J', 'I', 'F', 'D'],\n",
              " ['A', 'B', 'C', 'E', 'I', 'D', 'F', 'G', 'J'],\n",
              " ['A', 'B', 'C', 'E', 'I', 'D', 'F', 'J', 'G'],\n",
              " ['A', 'B', 'C', 'E', 'I', 'D', 'G', 'F', 'J'],\n",
              " ['A', 'B', 'C', 'E', 'I', 'D', 'G', 'J', 'F'],\n",
              " ['A', 'B', 'C', 'E', 'I', 'D', 'J', 'F', 'G'],\n",
              " ['A', 'B', 'C', 'E', 'I', 'D', 'J', 'G', 'F'],\n",
              " ['A', 'B', 'C', 'E', 'I', 'F', 'D', 'G', 'J'],\n",
              " ['A', 'B', 'C', 'E', 'I', 'F', 'D', 'J', 'G'],\n",
              " ['A', 'B', 'C', 'E', 'I', 'F', 'G', 'D', 'J'],\n",
              " ['A', 'B', 'C', 'E', 'I', 'F', 'G', 'J', 'D'],\n",
              " ['A', 'B', 'C', 'E', 'I', 'F', 'J', 'D', 'G'],\n",
              " ['A', 'B', 'C', 'E', 'I', 'F', 'J', 'G', 'D'],\n",
              " ['A', 'B', 'C', 'E', 'I', 'G', 'D', 'F', 'J'],\n",
              " ['A', 'B', 'C', 'E', 'I', 'G', 'D', 'J', 'F'],\n",
              " ['A', 'B', 'C', 'E', 'I', 'G', 'F', 'D', 'J'],\n",
              " ['A', 'B', 'C', 'E', 'I', 'G', 'F', 'J', 'D'],\n",
              " ['A', 'B', 'C', 'E', 'I', 'G', 'J', 'D', 'F'],\n",
              " ['A', 'B', 'C', 'E', 'I', 'G', 'J', 'F', 'D'],\n",
              " ['A', 'B', 'C', 'E', 'I', 'J', 'D', 'F', 'G'],\n",
              " ['A', 'B', 'C', 'E', 'I', 'J', 'D', 'G', 'F'],\n",
              " ['A', 'B', 'C', 'E', 'I', 'J', 'F', 'D', 'G'],\n",
              " ['A', 'B', 'C', 'E', 'I', 'J', 'F', 'G', 'D'],\n",
              " ['A', 'B', 'C', 'E', 'I', 'J', 'G', 'D', 'F'],\n",
              " ['A', 'B', 'C', 'E', 'I', 'J', 'G', 'F', 'D'],\n",
              " ['A', 'B', 'C', 'E', 'J', 'D', 'F', 'G', 'I'],\n",
              " ['A', 'B', 'C', 'E', 'J', 'D', 'F', 'I', 'G'],\n",
              " ['A', 'B', 'C', 'E', 'J', 'D', 'G', 'F', 'I'],\n",
              " ['A', 'B', 'C', 'E', 'J', 'D', 'G', 'I', 'F'],\n",
              " ['A', 'B', 'C', 'E', 'J', 'D', 'I', 'F', 'G'],\n",
              " ['A', 'B', 'C', 'E', 'J', 'D', 'I', 'G', 'F'],\n",
              " ['A', 'B', 'C', 'E', 'J', 'F', 'D', 'G', 'I'],\n",
              " ['A', 'B', 'C', 'E', 'J', 'F', 'D', 'I', 'G'],\n",
              " ['A', 'B', 'C', 'E', 'J', 'F', 'G', 'D', 'I'],\n",
              " ['A', 'B', 'C', 'E', 'J', 'F', 'G', 'I', 'D'],\n",
              " ['A', 'B', 'C', 'E', 'J', 'F', 'I', 'D', 'G'],\n",
              " ['A', 'B', 'C', 'E', 'J', 'F', 'I', 'G', 'D'],\n",
              " ['A', 'B', 'C', 'E', 'J', 'G', 'D', 'F', 'I'],\n",
              " ['A', 'B', 'C', 'E', 'J', 'G', 'D', 'I', 'F'],\n",
              " ['A', 'B', 'C', 'E', 'J', 'G', 'F', 'D', 'I'],\n",
              " ['A', 'B', 'C', 'E', 'J', 'G', 'F', 'I', 'D'],\n",
              " ['A', 'B', 'C', 'E', 'J', 'G', 'I', 'D', 'F'],\n",
              " ['A', 'B', 'C', 'E', 'J', 'G', 'I', 'F', 'D'],\n",
              " ['A', 'B', 'C', 'E', 'J', 'I', 'D', 'F', 'G'],\n",
              " ['A', 'B', 'C', 'E', 'J', 'I', 'D', 'G', 'F'],\n",
              " ['A', 'B', 'C', 'E', 'J', 'I', 'F', 'D', 'G'],\n",
              " ['A', 'B', 'C', 'E', 'J', 'I', 'F', 'G', 'D'],\n",
              " ['A', 'B', 'C', 'E', 'J', 'I', 'G', 'D', 'F'],\n",
              " ['A', 'B', 'C', 'E', 'J', 'I', 'G', 'F', 'D'],\n",
              " ['A', 'B', 'C', 'F', 'D', 'E', 'G', 'I', 'J'],\n",
              " ['A', 'B', 'C', 'F', 'D', 'E', 'G', 'J', 'I'],\n",
              " ['A', 'B', 'C', 'F', 'D', 'E', 'I', 'G', 'J'],\n",
              " ['A', 'B', 'C', 'F', 'D', 'E', 'I', 'J', 'G'],\n",
              " ['A', 'B', 'C', 'F', 'D', 'E', 'J', 'G', 'I'],\n",
              " ['A', 'B', 'C', 'F', 'D', 'E', 'J', 'I', 'G'],\n",
              " ['A', 'B', 'C', 'F', 'D', 'G', 'E', 'I', 'J'],\n",
              " ['A', 'B', 'C', 'F', 'D', 'G', 'E', 'J', 'I'],\n",
              " ['A', 'B', 'C', 'F', 'D', 'G', 'I', 'E', 'J'],\n",
              " ['A', 'B', 'C', 'F', 'D', 'G', 'I', 'J', 'E'],\n",
              " ['A', 'B', 'C', 'F', 'D', 'G', 'J', 'E', 'I'],\n",
              " ['A', 'B', 'C', 'F', 'D', 'G', 'J', 'I', 'E'],\n",
              " ['A', 'B', 'C', 'F', 'D', 'I', 'E', 'G', 'J'],\n",
              " ['A', 'B', 'C', 'F', 'D', 'I', 'E', 'J', 'G'],\n",
              " ['A', 'B', 'C', 'F', 'D', 'I', 'G', 'E', 'J'],\n",
              " ['A', 'B', 'C', 'F', 'D', 'I', 'G', 'J', 'E'],\n",
              " ['A', 'B', 'C', 'F', 'D', 'I', 'J', 'E', 'G'],\n",
              " ['A', 'B', 'C', 'F', 'D', 'I', 'J', 'G', 'E'],\n",
              " ['A', 'B', 'C', 'F', 'D', 'J', 'E', 'G', 'I'],\n",
              " ['A', 'B', 'C', 'F', 'D', 'J', 'E', 'I', 'G'],\n",
              " ['A', 'B', 'C', 'F', 'D', 'J', 'G', 'E', 'I'],\n",
              " ['A', 'B', 'C', 'F', 'D', 'J', 'G', 'I', 'E'],\n",
              " ['A', 'B', 'C', 'F', 'D', 'J', 'I', 'E', 'G'],\n",
              " ['A', 'B', 'C', 'F', 'D', 'J', 'I', 'G', 'E'],\n",
              " ['A', 'B', 'C', 'F', 'E', 'D', 'G', 'I', 'J'],\n",
              " ['A', 'B', 'C', 'F', 'E', 'D', 'G', 'J', 'I'],\n",
              " ['A', 'B', 'C', 'F', 'E', 'D', 'I', 'G', 'J'],\n",
              " ['A', 'B', 'C', 'F', 'E', 'D', 'I', 'J', 'G'],\n",
              " ['A', 'B', 'C', 'F', 'E', 'D', 'J', 'G', 'I'],\n",
              " ['A', 'B', 'C', 'F', 'E', 'D', 'J', 'I', 'G'],\n",
              " ['A', 'B', 'C', 'F', 'E', 'G', 'D', 'I', 'J'],\n",
              " ['A', 'B', 'C', 'F', 'E', 'G', 'D', 'J', 'I'],\n",
              " ['A', 'B', 'C', 'F', 'E', 'G', 'I', 'D', 'J'],\n",
              " ['A', 'B', 'C', 'F', 'E', 'G', 'I', 'J', 'D'],\n",
              " ['A', 'B', 'C', 'F', 'E', 'G', 'J', 'D', 'I'],\n",
              " ['A', 'B', 'C', 'F', 'E', 'G', 'J', 'I', 'D'],\n",
              " ['A', 'B', 'C', 'F', 'E', 'I', 'D', 'G', 'J'],\n",
              " ['A', 'B', 'C', 'F', 'E', 'I', 'D', 'J', 'G'],\n",
              " ['A', 'B', 'C', 'F', 'E', 'I', 'G', 'D', 'J'],\n",
              " ['A', 'B', 'C', 'F', 'E', 'I', 'G', 'J', 'D'],\n",
              " ['A', 'B', 'C', 'F', 'E', 'I', 'J', 'D', 'G'],\n",
              " ['A', 'B', 'C', 'F', 'E', 'I', 'J', 'G', 'D'],\n",
              " ['A', 'B', 'C', 'F', 'E', 'J', 'D', 'G', 'I'],\n",
              " ['A', 'B', 'C', 'F', 'E', 'J', 'D', 'I', 'G'],\n",
              " ['A', 'B', 'C', 'F', 'E', 'J', 'G', 'D', 'I'],\n",
              " ['A', 'B', 'C', 'F', 'E', 'J', 'G', 'I', 'D'],\n",
              " ['A', 'B', 'C', 'F', 'E', 'J', 'I', 'D', 'G'],\n",
              " ['A', 'B', 'C', 'F', 'E', 'J', 'I', 'G', 'D'],\n",
              " ['A', 'B', 'C', 'F', 'G', 'D', 'E', 'I', 'J'],\n",
              " ['A', 'B', 'C', 'F', 'G', 'D', 'E', 'J', 'I'],\n",
              " ['A', 'B', 'C', 'F', 'G', 'D', 'I', 'E', 'J'],\n",
              " ['A', 'B', 'C', 'F', 'G', 'D', 'I', 'J', 'E'],\n",
              " ['A', 'B', 'C', 'F', 'G', 'D', 'J', 'E', 'I'],\n",
              " ['A', 'B', 'C', 'F', 'G', 'D', 'J', 'I', 'E'],\n",
              " ['A', 'B', 'C', 'F', 'G', 'E', 'D', 'I', 'J'],\n",
              " ['A', 'B', 'C', 'F', 'G', 'E', 'D', 'J', 'I'],\n",
              " ['A', 'B', 'C', 'F', 'G', 'E', 'I', 'D', 'J'],\n",
              " ['A', 'B', 'C', 'F', 'G', 'E', 'I', 'J', 'D'],\n",
              " ['A', 'B', 'C', 'F', 'G', 'E', 'J', 'D', 'I'],\n",
              " ['A', 'B', 'C', 'F', 'G', 'E', 'J', 'I', 'D'],\n",
              " ['A', 'B', 'C', 'F', 'G', 'I', 'D', 'E', 'J'],\n",
              " ['A', 'B', 'C', 'F', 'G', 'I', 'D', 'J', 'E'],\n",
              " ['A', 'B', 'C', 'F', 'G', 'I', 'E', 'D', 'J'],\n",
              " ['A', 'B', 'C', 'F', 'G', 'I', 'E', 'J', 'D'],\n",
              " ['A', 'B', 'C', 'F', 'G', 'I', 'J', 'D', 'E'],\n",
              " ['A', 'B', 'C', 'F', 'G', 'I', 'J', 'E', 'D'],\n",
              " ['A', 'B', 'C', 'F', 'G', 'J', 'D', 'E', 'I'],\n",
              " ['A', 'B', 'C', 'F', 'G', 'J', 'D', 'I', 'E'],\n",
              " ['A', 'B', 'C', 'F', 'G', 'J', 'E', 'D', 'I'],\n",
              " ['A', 'B', 'C', 'F', 'G', 'J', 'E', 'I', 'D'],\n",
              " ['A', 'B', 'C', 'F', 'G', 'J', 'I', 'D', 'E'],\n",
              " ['A', 'B', 'C', 'F', 'G', 'J', 'I', 'E', 'D'],\n",
              " ['A', 'B', 'C', 'F', 'I', 'D', 'E', 'G', 'J'],\n",
              " ['A', 'B', 'C', 'F', 'I', 'D', 'E', 'J', 'G'],\n",
              " ['A', 'B', 'C', 'F', 'I', 'D', 'G', 'E', 'J'],\n",
              " ['A', 'B', 'C', 'F', 'I', 'D', 'G', 'J', 'E'],\n",
              " ['A', 'B', 'C', 'F', 'I', 'D', 'J', 'E', 'G'],\n",
              " ['A', 'B', 'C', 'F', 'I', 'D', 'J', 'G', 'E'],\n",
              " ['A', 'B', 'C', 'F', 'I', 'E', 'D', 'G', 'J'],\n",
              " ['A', 'B', 'C', 'F', 'I', 'E', 'D', 'J', 'G'],\n",
              " ['A', 'B', 'C', 'F', 'I', 'E', 'G', 'D', 'J'],\n",
              " ['A', 'B', 'C', 'F', 'I', 'E', 'G', 'J', 'D'],\n",
              " ['A', 'B', 'C', 'F', 'I', 'E', 'J', 'D', 'G'],\n",
              " ['A', 'B', 'C', 'F', 'I', 'E', 'J', 'G', 'D'],\n",
              " ['A', 'B', 'C', 'F', 'I', 'G', 'D', 'E', 'J'],\n",
              " ['A', 'B', 'C', 'F', 'I', 'G', 'D', 'J', 'E'],\n",
              " ['A', 'B', 'C', 'F', 'I', 'G', 'E', 'D', 'J'],\n",
              " ['A', 'B', 'C', 'F', 'I', 'G', 'E', 'J', 'D'],\n",
              " ['A', 'B', 'C', 'F', 'I', 'G', 'J', 'D', 'E'],\n",
              " ['A', 'B', 'C', 'F', 'I', 'G', 'J', 'E', 'D'],\n",
              " ['A', 'B', 'C', 'F', 'I', 'J', 'D', 'E', 'G'],\n",
              " ['A', 'B', 'C', 'F', 'I', 'J', 'D', 'G', 'E'],\n",
              " ['A', 'B', 'C', 'F', 'I', 'J', 'E', 'D', 'G'],\n",
              " ['A', 'B', 'C', 'F', 'I', 'J', 'E', 'G', 'D'],\n",
              " ['A', 'B', 'C', 'F', 'I', 'J', 'G', 'D', 'E'],\n",
              " ['A', 'B', 'C', 'F', 'I', 'J', 'G', 'E', 'D'],\n",
              " ['A', 'B', 'C', 'F', 'J', 'D', 'E', 'G', 'I'],\n",
              " ['A', 'B', 'C', 'F', 'J', 'D', 'E', 'I', 'G'],\n",
              " ['A', 'B', 'C', 'F', 'J', 'D', 'G', 'E', 'I'],\n",
              " ['A', 'B', 'C', 'F', 'J', 'D', 'G', 'I', 'E'],\n",
              " ['A', 'B', 'C', 'F', 'J', 'D', 'I', 'E', 'G'],\n",
              " ['A', 'B', 'C', 'F', 'J', 'D', 'I', 'G', 'E'],\n",
              " ['A', 'B', 'C', 'F', 'J', 'E', 'D', 'G', 'I'],\n",
              " ['A', 'B', 'C', 'F', 'J', 'E', 'D', 'I', 'G'],\n",
              " ['A', 'B', 'C', 'F', 'J', 'E', 'G', 'D', 'I'],\n",
              " ['A', 'B', 'C', 'F', 'J', 'E', 'G', 'I', 'D'],\n",
              " ['A', 'B', 'C', 'F', 'J', 'E', 'I', 'D', 'G'],\n",
              " ['A', 'B', 'C', 'F', 'J', 'E', 'I', 'G', 'D'],\n",
              " ['A', 'B', 'C', 'F', 'J', 'G', 'D', 'E', 'I'],\n",
              " ['A', 'B', 'C', 'F', 'J', 'G', 'D', 'I', 'E'],\n",
              " ['A', 'B', 'C', 'F', 'J', 'G', 'E', 'D', 'I'],\n",
              " ['A', 'B', 'C', 'F', 'J', 'G', 'E', 'I', 'D'],\n",
              " ['A', 'B', 'C', 'F', 'J', 'G', 'I', 'D', 'E'],\n",
              " ['A', 'B', 'C', 'F', 'J', 'G', 'I', 'E', 'D'],\n",
              " ['A', 'B', 'C', 'F', 'J', 'I', 'D', 'E', 'G'],\n",
              " ['A', 'B', 'C', 'F', 'J', 'I', 'D', 'G', 'E'],\n",
              " ['A', 'B', 'C', 'F', 'J', 'I', 'E', 'D', 'G'],\n",
              " ['A', 'B', 'C', 'F', 'J', 'I', 'E', 'G', 'D'],\n",
              " ['A', 'B', 'C', 'F', 'J', 'I', 'G', 'D', 'E'],\n",
              " ['A', 'B', 'C', 'F', 'J', 'I', 'G', 'E', 'D'],\n",
              " ['A', 'B', 'C', 'G', 'D', 'E', 'F', 'I', 'J'],\n",
              " ['A', 'B', 'C', 'G', 'D', 'E', 'F', 'J', 'I'],\n",
              " ['A', 'B', 'C', 'G', 'D', 'E', 'I', 'F', 'J'],\n",
              " ['A', 'B', 'C', 'G', 'D', 'E', 'I', 'J', 'F'],\n",
              " ['A', 'B', 'C', 'G', 'D', 'E', 'J', 'F', 'I'],\n",
              " ['A', 'B', 'C', 'G', 'D', 'E', 'J', 'I', 'F'],\n",
              " ['A', 'B', 'C', 'G', 'D', 'F', 'E', 'I', 'J'],\n",
              " ['A', 'B', 'C', 'G', 'D', 'F', 'E', 'J', 'I'],\n",
              " ['A', 'B', 'C', 'G', 'D', 'F', 'I', 'E', 'J'],\n",
              " ['A', 'B', 'C', 'G', 'D', 'F', 'I', 'J', 'E'],\n",
              " ['A', 'B', 'C', 'G', 'D', 'F', 'J', 'E', 'I'],\n",
              " ['A', 'B', 'C', 'G', 'D', 'F', 'J', 'I', 'E'],\n",
              " ['A', 'B', 'C', 'G', 'D', 'I', 'E', 'F', 'J'],\n",
              " ['A', 'B', 'C', 'G', 'D', 'I', 'E', 'J', 'F'],\n",
              " ['A', 'B', 'C', 'G', 'D', 'I', 'F', 'E', 'J'],\n",
              " ['A', 'B', 'C', 'G', 'D', 'I', 'F', 'J', 'E'],\n",
              " ['A', 'B', 'C', 'G', 'D', 'I', 'J', 'E', 'F'],\n",
              " ['A', 'B', 'C', 'G', 'D', 'I', 'J', 'F', 'E'],\n",
              " ['A', 'B', 'C', 'G', 'D', 'J', 'E', 'F', 'I'],\n",
              " ['A', 'B', 'C', 'G', 'D', 'J', 'E', 'I', 'F'],\n",
              " ['A', 'B', 'C', 'G', 'D', 'J', 'F', 'E', 'I'],\n",
              " ['A', 'B', 'C', 'G', 'D', 'J', 'F', 'I', 'E'],\n",
              " ['A', 'B', 'C', 'G', 'D', 'J', 'I', 'E', 'F'],\n",
              " ['A', 'B', 'C', 'G', 'D', 'J', 'I', 'F', 'E'],\n",
              " ['A', 'B', 'C', 'G', 'E', 'D', 'F', 'I', 'J'],\n",
              " ['A', 'B', 'C', 'G', 'E', 'D', 'F', 'J', 'I'],\n",
              " ['A', 'B', 'C', 'G', 'E', 'D', 'I', 'F', 'J'],\n",
              " ['A', 'B', 'C', 'G', 'E', 'D', 'I', 'J', 'F'],\n",
              " ['A', 'B', 'C', 'G', 'E', 'D', 'J', 'F', 'I'],\n",
              " ['A', 'B', 'C', 'G', 'E', 'D', 'J', 'I', 'F'],\n",
              " ['A', 'B', 'C', 'G', 'E', 'F', 'D', 'I', 'J'],\n",
              " ['A', 'B', 'C', 'G', 'E', 'F', 'D', 'J', 'I'],\n",
              " ['A', 'B', 'C', 'G', 'E', 'F', 'I', 'D', 'J'],\n",
              " ['A', 'B', 'C', 'G', 'E', 'F', 'I', 'J', 'D'],\n",
              " ['A', 'B', 'C', 'G', 'E', 'F', 'J', 'D', 'I'],\n",
              " ['A', 'B', 'C', 'G', 'E', 'F', 'J', 'I', 'D'],\n",
              " ['A', 'B', 'C', 'G', 'E', 'I', 'D', 'F', 'J'],\n",
              " ['A', 'B', 'C', 'G', 'E', 'I', 'D', 'J', 'F'],\n",
              " ['A', 'B', 'C', 'G', 'E', 'I', 'F', 'D', 'J'],\n",
              " ['A', 'B', 'C', 'G', 'E', 'I', 'F', 'J', 'D'],\n",
              " ['A', 'B', 'C', 'G', 'E', 'I', 'J', 'D', 'F'],\n",
              " ['A', 'B', 'C', 'G', 'E', 'I', 'J', 'F', 'D'],\n",
              " ['A', 'B', 'C', 'G', 'E', 'J', 'D', 'F', 'I'],\n",
              " ['A', 'B', 'C', 'G', 'E', 'J', 'D', 'I', 'F'],\n",
              " ['A', 'B', 'C', 'G', 'E', 'J', 'F', 'D', 'I'],\n",
              " ['A', 'B', 'C', 'G', 'E', 'J', 'F', 'I', 'D'],\n",
              " ['A', 'B', 'C', 'G', 'E', 'J', 'I', 'D', 'F'],\n",
              " ['A', 'B', 'C', 'G', 'E', 'J', 'I', 'F', 'D'],\n",
              " ['A', 'B', 'C', 'G', 'F', 'D', 'E', 'I', 'J'],\n",
              " ['A', 'B', 'C', 'G', 'F', 'D', 'E', 'J', 'I'],\n",
              " ['A', 'B', 'C', 'G', 'F', 'D', 'I', 'E', 'J'],\n",
              " ['A', 'B', 'C', 'G', 'F', 'D', 'I', 'J', 'E'],\n",
              " ['A', 'B', 'C', 'G', 'F', 'D', 'J', 'E', 'I'],\n",
              " ['A', 'B', 'C', 'G', 'F', 'D', 'J', 'I', 'E'],\n",
              " ['A', 'B', 'C', 'G', 'F', 'E', 'D', 'I', 'J'],\n",
              " ['A', 'B', 'C', 'G', 'F', 'E', 'D', 'J', 'I'],\n",
              " ['A', 'B', 'C', 'G', 'F', 'E', 'I', 'D', 'J'],\n",
              " ['A', 'B', 'C', 'G', 'F', 'E', 'I', 'J', 'D'],\n",
              " ['A', 'B', 'C', 'G', 'F', 'E', 'J', 'D', 'I'],\n",
              " ['A', 'B', 'C', 'G', 'F', 'E', 'J', 'I', 'D'],\n",
              " ['A', 'B', 'C', 'G', 'F', 'I', 'D', 'E', 'J'],\n",
              " ['A', 'B', 'C', 'G', 'F', 'I', 'D', 'J', 'E'],\n",
              " ['A', 'B', 'C', 'G', 'F', 'I', 'E', 'D', 'J'],\n",
              " ['A', 'B', 'C', 'G', 'F', 'I', 'E', 'J', 'D'],\n",
              " ['A', 'B', 'C', 'G', 'F', 'I', 'J', 'D', 'E'],\n",
              " ['A', 'B', 'C', 'G', 'F', 'I', 'J', 'E', 'D'],\n",
              " ['A', 'B', 'C', 'G', 'F', 'J', 'D', 'E', 'I'],\n",
              " ['A', 'B', 'C', 'G', 'F', 'J', 'D', 'I', 'E'],\n",
              " ['A', 'B', 'C', 'G', 'F', 'J', 'E', 'D', 'I'],\n",
              " ['A', 'B', 'C', 'G', 'F', 'J', 'E', 'I', 'D'],\n",
              " ['A', 'B', 'C', 'G', 'F', 'J', 'I', 'D', 'E'],\n",
              " ['A', 'B', 'C', 'G', 'F', 'J', 'I', 'E', 'D'],\n",
              " ['A', 'B', 'C', 'G', 'I', 'D', 'E', 'F', 'J'],\n",
              " ['A', 'B', 'C', 'G', 'I', 'D', 'E', 'J', 'F'],\n",
              " ['A', 'B', 'C', 'G', 'I', 'D', 'F', 'E', 'J'],\n",
              " ['A', 'B', 'C', 'G', 'I', 'D', 'F', 'J', 'E'],\n",
              " ['A', 'B', 'C', 'G', 'I', 'D', 'J', 'E', 'F'],\n",
              " ['A', 'B', 'C', 'G', 'I', 'D', 'J', 'F', 'E'],\n",
              " ['A', 'B', 'C', 'G', 'I', 'E', 'D', 'F', 'J'],\n",
              " ['A', 'B', 'C', 'G', 'I', 'E', 'D', 'J', 'F'],\n",
              " ['A', 'B', 'C', 'G', 'I', 'E', 'F', 'D', 'J'],\n",
              " ['A', 'B', 'C', 'G', 'I', 'E', 'F', 'J', 'D'],\n",
              " ['A', 'B', 'C', 'G', 'I', 'E', 'J', 'D', 'F'],\n",
              " ['A', 'B', 'C', 'G', 'I', 'E', 'J', 'F', 'D'],\n",
              " ['A', 'B', 'C', 'G', 'I', 'F', 'D', 'E', 'J'],\n",
              " ['A', 'B', 'C', 'G', 'I', 'F', 'D', 'J', 'E'],\n",
              " ['A', 'B', 'C', 'G', 'I', 'F', 'E', 'D', 'J'],\n",
              " ['A', 'B', 'C', 'G', 'I', 'F', 'E', 'J', 'D'],\n",
              " ['A', 'B', 'C', 'G', 'I', 'F', 'J', 'D', 'E'],\n",
              " ['A', 'B', 'C', 'G', 'I', 'F', 'J', 'E', 'D'],\n",
              " ['A', 'B', 'C', 'G', 'I', 'J', 'D', 'E', 'F'],\n",
              " ['A', 'B', 'C', 'G', 'I', 'J', 'D', 'F', 'E'],\n",
              " ['A', 'B', 'C', 'G', 'I', 'J', 'E', 'D', 'F'],\n",
              " ['A', 'B', 'C', 'G', 'I', 'J', 'E', 'F', 'D'],\n",
              " ['A', 'B', 'C', 'G', 'I', 'J', 'F', 'D', 'E'],\n",
              " ['A', 'B', 'C', 'G', 'I', 'J', 'F', 'E', 'D'],\n",
              " ['A', 'B', 'C', 'G', 'J', 'D', 'E', 'F', 'I'],\n",
              " ['A', 'B', 'C', 'G', 'J', 'D', 'E', 'I', 'F'],\n",
              " ['A', 'B', 'C', 'G', 'J', 'D', 'F', 'E', 'I'],\n",
              " ['A', 'B', 'C', 'G', 'J', 'D', 'F', 'I', 'E'],\n",
              " ['A', 'B', 'C', 'G', 'J', 'D', 'I', 'E', 'F'],\n",
              " ['A', 'B', 'C', 'G', 'J', 'D', 'I', 'F', 'E'],\n",
              " ['A', 'B', 'C', 'G', 'J', 'E', 'D', 'F', 'I'],\n",
              " ['A', 'B', 'C', 'G', 'J', 'E', 'D', 'I', 'F'],\n",
              " ['A', 'B', 'C', 'G', 'J', 'E', 'F', 'D', 'I'],\n",
              " ['A', 'B', 'C', 'G', 'J', 'E', 'F', 'I', 'D'],\n",
              " ['A', 'B', 'C', 'G', 'J', 'E', 'I', 'D', 'F'],\n",
              " ['A', 'B', 'C', 'G', 'J', 'E', 'I', 'F', 'D'],\n",
              " ['A', 'B', 'C', 'G', 'J', 'F', 'D', 'E', 'I'],\n",
              " ['A', 'B', 'C', 'G', 'J', 'F', 'D', 'I', 'E'],\n",
              " ['A', 'B', 'C', 'G', 'J', 'F', 'E', 'D', 'I'],\n",
              " ['A', 'B', 'C', 'G', 'J', 'F', 'E', 'I', 'D'],\n",
              " ['A', 'B', 'C', 'G', 'J', 'F', 'I', 'D', 'E'],\n",
              " ['A', 'B', 'C', 'G', 'J', 'F', 'I', 'E', 'D'],\n",
              " ['A', 'B', 'C', 'G', 'J', 'I', 'D', 'E', 'F'],\n",
              " ['A', 'B', 'C', 'G', 'J', 'I', 'D', 'F', 'E'],\n",
              " ['A', 'B', 'C', 'G', 'J', 'I', 'E', 'D', 'F'],\n",
              " ['A', 'B', 'C', 'G', 'J', 'I', 'E', 'F', 'D'],\n",
              " ['A', 'B', 'C', 'G', 'J', 'I', 'F', 'D', 'E'],\n",
              " ['A', 'B', 'C', 'G', 'J', 'I', 'F', 'E', 'D'],\n",
              " ['A', 'B', 'C', 'I', 'D', 'E', 'F', 'G', 'J'],\n",
              " ['A', 'B', 'C', 'I', 'D', 'E', 'F', 'J', 'G'],\n",
              " ['A', 'B', 'C', 'I', 'D', 'E', 'G', 'F', 'J'],\n",
              " ['A', 'B', 'C', 'I', 'D', 'E', 'G', 'J', 'F'],\n",
              " ['A', 'B', 'C', 'I', 'D', 'E', 'J', 'F', 'G'],\n",
              " ['A', 'B', 'C', 'I', 'D', 'E', 'J', 'G', 'F'],\n",
              " ['A', 'B', 'C', 'I', 'D', 'F', 'E', 'G', 'J'],\n",
              " ['A', 'B', 'C', 'I', 'D', 'F', 'E', 'J', 'G'],\n",
              " ['A', 'B', 'C', 'I', 'D', 'F', 'G', 'E', 'J'],\n",
              " ['A', 'B', 'C', 'I', 'D', 'F', 'G', 'J', 'E'],\n",
              " ['A', 'B', 'C', 'I', 'D', 'F', 'J', 'E', 'G'],\n",
              " ['A', 'B', 'C', 'I', 'D', 'F', 'J', 'G', 'E'],\n",
              " ['A', 'B', 'C', 'I', 'D', 'G', 'E', 'F', 'J'],\n",
              " ['A', 'B', 'C', 'I', 'D', 'G', 'E', 'J', 'F'],\n",
              " ['A', 'B', 'C', 'I', 'D', 'G', 'F', 'E', 'J'],\n",
              " ['A', 'B', 'C', 'I', 'D', 'G', 'F', 'J', 'E'],\n",
              " ['A', 'B', 'C', 'I', 'D', 'G', 'J', 'E', 'F'],\n",
              " ['A', 'B', 'C', 'I', 'D', 'G', 'J', 'F', 'E'],\n",
              " ['A', 'B', 'C', 'I', 'D', 'J', 'E', 'F', 'G'],\n",
              " ['A', 'B', 'C', 'I', 'D', 'J', 'E', 'G', 'F'],\n",
              " ['A', 'B', 'C', 'I', 'D', 'J', 'F', 'E', 'G'],\n",
              " ['A', 'B', 'C', 'I', 'D', 'J', 'F', 'G', 'E'],\n",
              " ['A', 'B', 'C', 'I', 'D', 'J', 'G', 'E', 'F'],\n",
              " ['A', 'B', 'C', 'I', 'D', 'J', 'G', 'F', 'E'],\n",
              " ['A', 'B', 'C', 'I', 'E', 'D', 'F', 'G', 'J'],\n",
              " ['A', 'B', 'C', 'I', 'E', 'D', 'F', 'J', 'G'],\n",
              " ['A', 'B', 'C', 'I', 'E', 'D', 'G', 'F', 'J'],\n",
              " ['A', 'B', 'C', 'I', 'E', 'D', 'G', 'J', 'F'],\n",
              " ['A', 'B', 'C', 'I', 'E', 'D', 'J', 'F', 'G'],\n",
              " ['A', 'B', 'C', 'I', 'E', 'D', 'J', 'G', 'F'],\n",
              " ['A', 'B', 'C', 'I', 'E', 'F', 'D', 'G', 'J'],\n",
              " ['A', 'B', 'C', 'I', 'E', 'F', 'D', 'J', 'G'],\n",
              " ['A', 'B', 'C', 'I', 'E', 'F', 'G', 'D', 'J'],\n",
              " ['A', 'B', 'C', 'I', 'E', 'F', 'G', 'J', 'D'],\n",
              " ['A', 'B', 'C', 'I', 'E', 'F', 'J', 'D', 'G'],\n",
              " ['A', 'B', 'C', 'I', 'E', 'F', 'J', 'G', 'D'],\n",
              " ['A', 'B', 'C', 'I', 'E', 'G', 'D', 'F', 'J'],\n",
              " ['A', 'B', 'C', 'I', 'E', 'G', 'D', 'J', 'F'],\n",
              " ['A', 'B', 'C', 'I', 'E', 'G', 'F', 'D', 'J'],\n",
              " ['A', 'B', 'C', 'I', 'E', 'G', 'F', 'J', 'D'],\n",
              " ['A', 'B', 'C', 'I', 'E', 'G', 'J', 'D', 'F'],\n",
              " ['A', 'B', 'C', 'I', 'E', 'G', 'J', 'F', 'D'],\n",
              " ['A', 'B', 'C', 'I', 'E', 'J', 'D', 'F', 'G'],\n",
              " ['A', 'B', 'C', 'I', 'E', 'J', 'D', 'G', 'F'],\n",
              " ['A', 'B', 'C', 'I', 'E', 'J', 'F', 'D', 'G'],\n",
              " ['A', 'B', 'C', 'I', 'E', 'J', 'F', 'G', 'D'],\n",
              " ['A', 'B', 'C', 'I', 'E', 'J', 'G', 'D', 'F'],\n",
              " ['A', 'B', 'C', 'I', 'E', 'J', 'G', 'F', 'D'],\n",
              " ['A', 'B', 'C', 'I', 'F', 'D', 'E', 'G', 'J'],\n",
              " ['A', 'B', 'C', 'I', 'F', 'D', 'E', 'J', 'G'],\n",
              " ['A', 'B', 'C', 'I', 'F', 'D', 'G', 'E', 'J'],\n",
              " ['A', 'B', 'C', 'I', 'F', 'D', 'G', 'J', 'E'],\n",
              " ['A', 'B', 'C', 'I', 'F', 'D', 'J', 'E', 'G'],\n",
              " ['A', 'B', 'C', 'I', 'F', 'D', 'J', 'G', 'E'],\n",
              " ['A', 'B', 'C', 'I', 'F', 'E', 'D', 'G', 'J'],\n",
              " ['A', 'B', 'C', 'I', 'F', 'E', 'D', 'J', 'G'],\n",
              " ['A', 'B', 'C', 'I', 'F', 'E', 'G', 'D', 'J'],\n",
              " ['A', 'B', 'C', 'I', 'F', 'E', 'G', 'J', 'D'],\n",
              " ['A', 'B', 'C', 'I', 'F', 'E', 'J', 'D', 'G'],\n",
              " ['A', 'B', 'C', 'I', 'F', 'E', 'J', 'G', 'D'],\n",
              " ['A', 'B', 'C', 'I', 'F', 'G', 'D', 'E', 'J'],\n",
              " ['A', 'B', 'C', 'I', 'F', 'G', 'D', 'J', 'E'],\n",
              " ['A', 'B', 'C', 'I', 'F', 'G', 'E', 'D', 'J'],\n",
              " ['A', 'B', 'C', 'I', 'F', 'G', 'E', 'J', 'D'],\n",
              " ['A', 'B', 'C', 'I', 'F', 'G', 'J', 'D', 'E'],\n",
              " ['A', 'B', 'C', 'I', 'F', 'G', 'J', 'E', 'D'],\n",
              " ['A', 'B', 'C', 'I', 'F', 'J', 'D', 'E', 'G'],\n",
              " ['A', 'B', 'C', 'I', 'F', 'J', 'D', 'G', 'E'],\n",
              " ['A', 'B', 'C', 'I', 'F', 'J', 'E', 'D', 'G'],\n",
              " ['A', 'B', 'C', 'I', 'F', 'J', 'E', 'G', 'D'],\n",
              " ['A', 'B', 'C', 'I', 'F', 'J', 'G', 'D', 'E'],\n",
              " ['A', 'B', 'C', 'I', 'F', 'J', 'G', 'E', 'D'],\n",
              " ['A', 'B', 'C', 'I', 'G', 'D', 'E', 'F', 'J'],\n",
              " ['A', 'B', 'C', 'I', 'G', 'D', 'E', 'J', 'F'],\n",
              " ['A', 'B', 'C', 'I', 'G', 'D', 'F', 'E', 'J'],\n",
              " ['A', 'B', 'C', 'I', 'G', 'D', 'F', 'J', 'E'],\n",
              " ['A', 'B', 'C', 'I', 'G', 'D', 'J', 'E', 'F'],\n",
              " ['A', 'B', 'C', 'I', 'G', 'D', 'J', 'F', 'E'],\n",
              " ['A', 'B', 'C', 'I', 'G', 'E', 'D', 'F', 'J'],\n",
              " ['A', 'B', 'C', 'I', 'G', 'E', 'D', 'J', 'F'],\n",
              " ['A', 'B', 'C', 'I', 'G', 'E', 'F', 'D', 'J'],\n",
              " ['A', 'B', 'C', 'I', 'G', 'E', 'F', 'J', 'D'],\n",
              " ['A', 'B', 'C', 'I', 'G', 'E', 'J', 'D', 'F'],\n",
              " ['A', 'B', 'C', 'I', 'G', 'E', 'J', 'F', 'D'],\n",
              " ['A', 'B', 'C', 'I', 'G', 'F', 'D', 'E', 'J'],\n",
              " ['A', 'B', 'C', 'I', 'G', 'F', 'D', 'J', 'E'],\n",
              " ['A', 'B', 'C', 'I', 'G', 'F', 'E', 'D', 'J'],\n",
              " ['A', 'B', 'C', 'I', 'G', 'F', 'E', 'J', 'D'],\n",
              " ['A', 'B', 'C', 'I', 'G', 'F', 'J', 'D', 'E'],\n",
              " ['A', 'B', 'C', 'I', 'G', 'F', 'J', 'E', 'D'],\n",
              " ['A', 'B', 'C', 'I', 'G', 'J', 'D', 'E', 'F'],\n",
              " ['A', 'B', 'C', 'I', 'G', 'J', 'D', 'F', 'E'],\n",
              " ['A', 'B', 'C', 'I', 'G', 'J', 'E', 'D', 'F'],\n",
              " ['A', 'B', 'C', 'I', 'G', 'J', 'E', 'F', 'D'],\n",
              " ['A', 'B', 'C', 'I', 'G', 'J', 'F', 'D', 'E'],\n",
              " ['A', 'B', 'C', 'I', 'G', 'J', 'F', 'E', 'D'],\n",
              " ['A', 'B', 'C', 'I', 'J', 'D', 'E', 'F', 'G'],\n",
              " ['A', 'B', 'C', 'I', 'J', 'D', 'E', 'G', 'F'],\n",
              " ['A', 'B', 'C', 'I', 'J', 'D', 'F', 'E', 'G'],\n",
              " ['A', 'B', 'C', 'I', 'J', 'D', 'F', 'G', 'E'],\n",
              " ['A', 'B', 'C', 'I', 'J', 'D', 'G', 'E', 'F'],\n",
              " ['A', 'B', 'C', 'I', 'J', 'D', 'G', 'F', 'E'],\n",
              " ['A', 'B', 'C', 'I', 'J', 'E', 'D', 'F', 'G'],\n",
              " ['A', 'B', 'C', 'I', 'J', 'E', 'D', 'G', 'F'],\n",
              " ['A', 'B', 'C', 'I', 'J', 'E', 'F', 'D', 'G'],\n",
              " ['A', 'B', 'C', 'I', 'J', 'E', 'F', 'G', 'D'],\n",
              " ['A', 'B', 'C', 'I', 'J', 'E', 'G', 'D', 'F'],\n",
              " ['A', 'B', 'C', 'I', 'J', 'E', 'G', 'F', 'D'],\n",
              " ['A', 'B', 'C', 'I', 'J', 'F', 'D', 'E', 'G'],\n",
              " ['A', 'B', 'C', 'I', 'J', 'F', 'D', 'G', 'E'],\n",
              " ['A', 'B', 'C', 'I', 'J', 'F', 'E', 'D', 'G'],\n",
              " ['A', 'B', 'C', 'I', 'J', 'F', 'E', 'G', 'D'],\n",
              " ['A', 'B', 'C', 'I', 'J', 'F', 'G', 'D', 'E'],\n",
              " ['A', 'B', 'C', 'I', 'J', 'F', 'G', 'E', 'D'],\n",
              " ['A', 'B', 'C', 'I', 'J', 'G', 'D', 'E', 'F'],\n",
              " ['A', 'B', 'C', 'I', 'J', 'G', 'D', 'F', 'E'],\n",
              " ['A', 'B', 'C', 'I', 'J', 'G', 'E', 'D', 'F'],\n",
              " ['A', 'B', 'C', 'I', 'J', 'G', 'E', 'F', 'D'],\n",
              " ['A', 'B', 'C', 'I', 'J', 'G', 'F', 'D', 'E'],\n",
              " ['A', 'B', 'C', 'I', 'J', 'G', 'F', 'E', 'D'],\n",
              " ['A', 'B', 'C', 'J', 'D', 'E', 'F', 'G', 'I'],\n",
              " ['A', 'B', 'C', 'J', 'D', 'E', 'F', 'I', 'G'],\n",
              " ['A', 'B', 'C', 'J', 'D', 'E', 'G', 'F', 'I'],\n",
              " ['A', 'B', 'C', 'J', 'D', 'E', 'G', 'I', 'F'],\n",
              " ['A', 'B', 'C', 'J', 'D', 'E', 'I', 'F', 'G'],\n",
              " ['A', 'B', 'C', 'J', 'D', 'E', 'I', 'G', 'F'],\n",
              " ['A', 'B', 'C', 'J', 'D', 'F', 'E', 'G', 'I'],\n",
              " ['A', 'B', 'C', 'J', 'D', 'F', 'E', 'I', 'G'],\n",
              " ['A', 'B', 'C', 'J', 'D', 'F', 'G', 'E', 'I'],\n",
              " ['A', 'B', 'C', 'J', 'D', 'F', 'G', 'I', 'E'],\n",
              " ['A', 'B', 'C', 'J', 'D', 'F', 'I', 'E', 'G'],\n",
              " ['A', 'B', 'C', 'J', 'D', 'F', 'I', 'G', 'E'],\n",
              " ['A', 'B', 'C', 'J', 'D', 'G', 'E', 'F', 'I'],\n",
              " ['A', 'B', 'C', 'J', 'D', 'G', 'E', 'I', 'F'],\n",
              " ['A', 'B', 'C', 'J', 'D', 'G', 'F', 'E', 'I'],\n",
              " ['A', 'B', 'C', 'J', 'D', 'G', 'F', 'I', 'E'],\n",
              " ['A', 'B', 'C', 'J', 'D', 'G', 'I', 'E', 'F'],\n",
              " ['A', 'B', 'C', 'J', 'D', 'G', 'I', 'F', 'E'],\n",
              " ['A', 'B', 'C', 'J', 'D', 'I', 'E', 'F', 'G'],\n",
              " ['A', 'B', 'C', 'J', 'D', 'I', 'E', 'G', 'F'],\n",
              " ['A', 'B', 'C', 'J', 'D', 'I', 'F', 'E', 'G'],\n",
              " ['A', 'B', 'C', 'J', 'D', 'I', 'F', 'G', 'E'],\n",
              " ['A', 'B', 'C', 'J', 'D', 'I', 'G', 'E', 'F'],\n",
              " ['A', 'B', 'C', 'J', 'D', 'I', 'G', 'F', 'E'],\n",
              " ['A', 'B', 'C', 'J', 'E', 'D', 'F', 'G', 'I'],\n",
              " ['A', 'B', 'C', 'J', 'E', 'D', 'F', 'I', 'G'],\n",
              " ['A', 'B', 'C', 'J', 'E', 'D', 'G', 'F', 'I'],\n",
              " ['A', 'B', 'C', 'J', 'E', 'D', 'G', 'I', 'F'],\n",
              " ['A', 'B', 'C', 'J', 'E', 'D', 'I', 'F', 'G'],\n",
              " ['A', 'B', 'C', 'J', 'E', 'D', 'I', 'G', 'F'],\n",
              " ['A', 'B', 'C', 'J', 'E', 'F', 'D', 'G', 'I'],\n",
              " ['A', 'B', 'C', 'J', 'E', 'F', 'D', 'I', 'G'],\n",
              " ['A', 'B', 'C', 'J', 'E', 'F', 'G', 'D', 'I'],\n",
              " ['A', 'B', 'C', 'J', 'E', 'F', 'G', 'I', 'D'],\n",
              " ['A', 'B', 'C', 'J', 'E', 'F', 'I', 'D', 'G'],\n",
              " ['A', 'B', 'C', 'J', 'E', 'F', 'I', 'G', 'D'],\n",
              " ['A', 'B', 'C', 'J', 'E', 'G', 'D', 'F', 'I'],\n",
              " ['A', 'B', 'C', 'J', 'E', 'G', 'D', 'I', 'F'],\n",
              " ['A', 'B', 'C', 'J', 'E', 'G', 'F', 'D', 'I'],\n",
              " ['A', 'B', 'C', 'J', 'E', 'G', 'F', 'I', 'D'],\n",
              " ['A', 'B', 'C', 'J', 'E', 'G', 'I', 'D', 'F'],\n",
              " ['A', 'B', 'C', 'J', 'E', 'G', 'I', 'F', 'D'],\n",
              " ['A', 'B', 'C', 'J', 'E', 'I', 'D', 'F', 'G'],\n",
              " ['A', 'B', 'C', 'J', 'E', 'I', 'D', 'G', 'F'],\n",
              " ['A', 'B', 'C', 'J', 'E', 'I', 'F', 'D', 'G'],\n",
              " ['A', 'B', 'C', 'J', 'E', 'I', 'F', 'G', 'D'],\n",
              " ['A', 'B', 'C', 'J', 'E', 'I', 'G', 'D', 'F'],\n",
              " ['A', 'B', 'C', 'J', 'E', 'I', 'G', 'F', 'D'],\n",
              " ['A', 'B', 'C', 'J', 'F', 'D', 'E', 'G', 'I'],\n",
              " ['A', 'B', 'C', 'J', 'F', 'D', 'E', 'I', 'G'],\n",
              " ['A', 'B', 'C', 'J', 'F', 'D', 'G', 'E', 'I'],\n",
              " ['A', 'B', 'C', 'J', 'F', 'D', 'G', 'I', 'E'],\n",
              " ['A', 'B', 'C', 'J', 'F', 'D', 'I', 'E', 'G'],\n",
              " ['A', 'B', 'C', 'J', 'F', 'D', 'I', 'G', 'E'],\n",
              " ['A', 'B', 'C', 'J', 'F', 'E', 'D', 'G', 'I'],\n",
              " ['A', 'B', 'C', 'J', 'F', 'E', 'D', 'I', 'G'],\n",
              " ['A', 'B', 'C', 'J', 'F', 'E', 'G', 'D', 'I'],\n",
              " ['A', 'B', 'C', 'J', 'F', 'E', 'G', 'I', 'D'],\n",
              " ['A', 'B', 'C', 'J', 'F', 'E', 'I', 'D', 'G'],\n",
              " ['A', 'B', 'C', 'J', 'F', 'E', 'I', 'G', 'D'],\n",
              " ['A', 'B', 'C', 'J', 'F', 'G', 'D', 'E', 'I'],\n",
              " ['A', 'B', 'C', 'J', 'F', 'G', 'D', 'I', 'E'],\n",
              " ['A', 'B', 'C', 'J', 'F', 'G', 'E', 'D', 'I'],\n",
              " ['A', 'B', 'C', 'J', 'F', 'G', 'E', 'I', 'D'],\n",
              " ['A', 'B', 'C', 'J', 'F', 'G', 'I', 'D', 'E'],\n",
              " ['A', 'B', 'C', 'J', 'F', 'G', 'I', 'E', 'D'],\n",
              " ['A', 'B', 'C', 'J', 'F', 'I', 'D', 'E', 'G'],\n",
              " ['A', 'B', 'C', 'J', 'F', 'I', 'D', 'G', 'E'],\n",
              " ['A', 'B', 'C', 'J', 'F', 'I', 'E', 'D', 'G'],\n",
              " ['A', 'B', 'C', 'J', 'F', 'I', 'E', 'G', 'D'],\n",
              " ['A', 'B', 'C', 'J', 'F', 'I', 'G', 'D', 'E'],\n",
              " ['A', 'B', 'C', 'J', 'F', 'I', 'G', 'E', 'D'],\n",
              " ['A', 'B', 'C', 'J', 'G', 'D', 'E', 'F', 'I'],\n",
              " ['A', 'B', 'C', 'J', 'G', 'D', 'E', 'I', 'F'],\n",
              " ['A', 'B', 'C', 'J', 'G', 'D', 'F', 'E', 'I'],\n",
              " ['A', 'B', 'C', 'J', 'G', 'D', 'F', 'I', 'E'],\n",
              " ['A', 'B', 'C', 'J', 'G', 'D', 'I', 'E', 'F'],\n",
              " ['A', 'B', 'C', 'J', 'G', 'D', 'I', 'F', 'E'],\n",
              " ['A', 'B', 'C', 'J', 'G', 'E', 'D', 'F', 'I'],\n",
              " ['A', 'B', 'C', 'J', 'G', 'E', 'D', 'I', 'F'],\n",
              " ['A', 'B', 'C', 'J', 'G', 'E', 'F', 'D', 'I'],\n",
              " ['A', 'B', 'C', 'J', 'G', 'E', 'F', 'I', 'D'],\n",
              " ['A', 'B', 'C', 'J', 'G', 'E', 'I', 'D', 'F'],\n",
              " ['A', 'B', 'C', 'J', 'G', 'E', 'I', 'F', 'D'],\n",
              " ['A', 'B', 'C', 'J', 'G', 'F', 'D', 'E', 'I'],\n",
              " ['A', 'B', 'C', 'J', 'G', 'F', 'D', 'I', 'E'],\n",
              " ['A', 'B', 'C', 'J', 'G', 'F', 'E', 'D', 'I'],\n",
              " ['A', 'B', 'C', 'J', 'G', 'F', 'E', 'I', 'D'],\n",
              " ['A', 'B', 'C', 'J', 'G', 'F', 'I', 'D', 'E'],\n",
              " ['A', 'B', 'C', 'J', 'G', 'F', 'I', 'E', 'D'],\n",
              " ['A', 'B', 'C', 'J', 'G', 'I', 'D', 'E', 'F'],\n",
              " ['A', 'B', 'C', 'J', 'G', 'I', 'D', 'F', 'E'],\n",
              " ['A', 'B', 'C', 'J', 'G', 'I', 'E', 'D', 'F'],\n",
              " ['A', 'B', 'C', 'J', 'G', 'I', 'E', 'F', 'D'],\n",
              " ['A', 'B', 'C', 'J', 'G', 'I', 'F', 'D', 'E'],\n",
              " ['A', 'B', 'C', 'J', 'G', 'I', 'F', 'E', 'D'],\n",
              " ['A', 'B', 'C', 'J', 'I', 'D', 'E', 'F', 'G'],\n",
              " ['A', 'B', 'C', 'J', 'I', 'D', 'E', 'G', 'F'],\n",
              " ['A', 'B', 'C', 'J', 'I', 'D', 'F', 'E', 'G'],\n",
              " ['A', 'B', 'C', 'J', 'I', 'D', 'F', 'G', 'E'],\n",
              " ['A', 'B', 'C', 'J', 'I', 'D', 'G', 'E', 'F'],\n",
              " ['A', 'B', 'C', 'J', 'I', 'D', 'G', 'F', 'E'],\n",
              " ['A', 'B', 'C', 'J', 'I', 'E', 'D', 'F', 'G'],\n",
              " ['A', 'B', 'C', 'J', 'I', 'E', 'D', 'G', 'F'],\n",
              " ['A', 'B', 'C', 'J', 'I', 'E', 'F', 'D', 'G'],\n",
              " ['A', 'B', 'C', 'J', 'I', 'E', 'F', 'G', 'D'],\n",
              " ['A', 'B', 'C', 'J', 'I', 'E', 'G', 'D', 'F'],\n",
              " ['A', 'B', 'C', 'J', 'I', 'E', 'G', 'F', 'D'],\n",
              " ['A', 'B', 'C', 'J', 'I', 'F', 'D', 'E', 'G'],\n",
              " ['A', 'B', 'C', 'J', 'I', 'F', 'D', 'G', 'E'],\n",
              " ['A', 'B', 'C', 'J', 'I', 'F', 'E', 'D', 'G'],\n",
              " ['A', 'B', 'C', 'J', 'I', 'F', 'E', 'G', 'D'],\n",
              " ['A', 'B', 'C', 'J', 'I', 'F', 'G', 'D', 'E'],\n",
              " ['A', 'B', 'C', 'J', 'I', 'F', 'G', 'E', 'D'],\n",
              " ['A', 'B', 'C', 'J', 'I', 'G', 'D', 'E', 'F'],\n",
              " ['A', 'B', 'C', 'J', 'I', 'G', 'D', 'F', 'E'],\n",
              " ['A', 'B', 'C', 'J', 'I', 'G', 'E', 'D', 'F'],\n",
              " ['A', 'B', 'C', 'J', 'I', 'G', 'E', 'F', 'D'],\n",
              " ['A', 'B', 'C', 'J', 'I', 'G', 'F', 'D', 'E'],\n",
              " ['A', 'B', 'C', 'J', 'I', 'G', 'F', 'E', 'D'],\n",
              " ['A', 'B', 'D', 'C', 'E', 'F', 'G', 'I', 'J'],\n",
              " ['A', 'B', 'D', 'C', 'E', 'F', 'G', 'J', 'I'],\n",
              " ['A', 'B', 'D', 'C', 'E', 'F', 'I', 'G', 'J'],\n",
              " ['A', 'B', 'D', 'C', 'E', 'F', 'I', 'J', 'G'],\n",
              " ['A', 'B', 'D', 'C', 'E', 'F', 'J', 'G', 'I'],\n",
              " ['A', 'B', 'D', 'C', 'E', 'F', 'J', 'I', 'G'],\n",
              " ['A', 'B', 'D', 'C', 'E', 'G', 'F', 'I', 'J'],\n",
              " ['A', 'B', 'D', 'C', 'E', 'G', 'F', 'J', 'I'],\n",
              " ['A', 'B', 'D', 'C', 'E', 'G', 'I', 'F', 'J'],\n",
              " ['A', 'B', 'D', 'C', 'E', 'G', 'I', 'J', 'F'],\n",
              " ['A', 'B', 'D', 'C', 'E', 'G', 'J', 'F', 'I'],\n",
              " ['A', 'B', 'D', 'C', 'E', 'G', 'J', 'I', 'F'],\n",
              " ['A', 'B', 'D', 'C', 'E', 'I', 'F', 'G', 'J'],\n",
              " ['A', 'B', 'D', 'C', 'E', 'I', 'F', 'J', 'G'],\n",
              " ['A', 'B', 'D', 'C', 'E', 'I', 'G', 'F', 'J'],\n",
              " ['A', 'B', 'D', 'C', 'E', 'I', 'G', 'J', 'F'],\n",
              " ['A', 'B', 'D', 'C', 'E', 'I', 'J', 'F', 'G'],\n",
              " ['A', 'B', 'D', 'C', 'E', 'I', 'J', 'G', 'F'],\n",
              " ['A', 'B', 'D', 'C', 'E', 'J', 'F', 'G', 'I'],\n",
              " ['A', 'B', 'D', 'C', 'E', 'J', 'F', 'I', 'G'],\n",
              " ['A', 'B', 'D', 'C', 'E', 'J', 'G', 'F', 'I'],\n",
              " ['A', 'B', 'D', 'C', 'E', 'J', 'G', 'I', 'F'],\n",
              " ['A', 'B', 'D', 'C', 'E', 'J', 'I', 'F', 'G'],\n",
              " ['A', 'B', 'D', 'C', 'E', 'J', 'I', 'G', 'F'],\n",
              " ['A', 'B', 'D', 'C', 'F', 'E', 'G', 'I', 'J'],\n",
              " ['A', 'B', 'D', 'C', 'F', 'E', 'G', 'J', 'I'],\n",
              " ['A', 'B', 'D', 'C', 'F', 'E', 'I', 'G', 'J'],\n",
              " ['A', 'B', 'D', 'C', 'F', 'E', 'I', 'J', 'G'],\n",
              " ['A', 'B', 'D', 'C', 'F', 'E', 'J', 'G', 'I'],\n",
              " ['A', 'B', 'D', 'C', 'F', 'E', 'J', 'I', 'G'],\n",
              " ['A', 'B', 'D', 'C', 'F', 'G', 'E', 'I', 'J'],\n",
              " ['A', 'B', 'D', 'C', 'F', 'G', 'E', 'J', 'I'],\n",
              " ['A', 'B', 'D', 'C', 'F', 'G', 'I', 'E', 'J'],\n",
              " ['A', 'B', 'D', 'C', 'F', 'G', 'I', 'J', 'E'],\n",
              " ['A', 'B', 'D', 'C', 'F', 'G', 'J', 'E', 'I'],\n",
              " ['A', 'B', 'D', 'C', 'F', 'G', 'J', 'I', 'E'],\n",
              " ['A', 'B', 'D', 'C', 'F', 'I', 'E', 'G', 'J'],\n",
              " ['A', 'B', 'D', 'C', 'F', 'I', 'E', 'J', 'G'],\n",
              " ['A', 'B', 'D', 'C', 'F', 'I', 'G', 'E', 'J'],\n",
              " ['A', 'B', 'D', 'C', 'F', 'I', 'G', 'J', 'E'],\n",
              " ['A', 'B', 'D', 'C', 'F', 'I', 'J', 'E', 'G'],\n",
              " ['A', 'B', 'D', 'C', 'F', 'I', 'J', 'G', 'E'],\n",
              " ['A', 'B', 'D', 'C', 'F', 'J', 'E', 'G', 'I'],\n",
              " ['A', 'B', 'D', 'C', 'F', 'J', 'E', 'I', 'G'],\n",
              " ['A', 'B', 'D', 'C', 'F', 'J', 'G', 'E', 'I'],\n",
              " ['A', 'B', 'D', 'C', 'F', 'J', 'G', 'I', 'E'],\n",
              " ['A', 'B', 'D', 'C', 'F', 'J', 'I', 'E', 'G'],\n",
              " ['A', 'B', 'D', 'C', 'F', 'J', 'I', 'G', 'E'],\n",
              " ['A', 'B', 'D', 'C', 'G', 'E', 'F', 'I', 'J'],\n",
              " ['A', 'B', 'D', 'C', 'G', 'E', 'F', 'J', 'I'],\n",
              " ['A', 'B', 'D', 'C', 'G', 'E', 'I', 'F', 'J'],\n",
              " ['A', 'B', 'D', 'C', 'G', 'E', 'I', 'J', 'F'],\n",
              " ['A', 'B', 'D', 'C', 'G', 'E', 'J', 'F', 'I'],\n",
              " ['A', 'B', 'D', 'C', 'G', 'E', 'J', 'I', 'F'],\n",
              " ['A', 'B', 'D', 'C', 'G', 'F', 'E', 'I', 'J'],\n",
              " ['A', 'B', 'D', 'C', 'G', 'F', 'E', 'J', 'I'],\n",
              " ['A', 'B', 'D', 'C', 'G', 'F', 'I', 'E', 'J'],\n",
              " ['A', 'B', 'D', 'C', 'G', 'F', 'I', 'J', 'E'],\n",
              " ['A', 'B', 'D', 'C', 'G', 'F', 'J', 'E', 'I'],\n",
              " ['A', 'B', 'D', 'C', 'G', 'F', 'J', 'I', 'E'],\n",
              " ['A', 'B', 'D', 'C', 'G', 'I', 'E', 'F', 'J'],\n",
              " ['A', 'B', 'D', 'C', 'G', 'I', 'E', 'J', 'F'],\n",
              " ['A', 'B', 'D', 'C', 'G', 'I', 'F', 'E', 'J'],\n",
              " ['A', 'B', 'D', 'C', 'G', 'I', 'F', 'J', 'E'],\n",
              " ['A', 'B', 'D', 'C', 'G', 'I', 'J', 'E', 'F'],\n",
              " ['A', 'B', 'D', 'C', 'G', 'I', 'J', 'F', 'E'],\n",
              " ['A', 'B', 'D', 'C', 'G', 'J', 'E', 'F', 'I'],\n",
              " ['A', 'B', 'D', 'C', 'G', 'J', 'E', 'I', 'F'],\n",
              " ['A', 'B', 'D', 'C', 'G', 'J', 'F', 'E', 'I'],\n",
              " ['A', 'B', 'D', 'C', 'G', 'J', 'F', 'I', 'E'],\n",
              " ['A', 'B', 'D', 'C', 'G', 'J', 'I', 'E', 'F'],\n",
              " ['A', 'B', 'D', 'C', 'G', 'J', 'I', 'F', 'E'],\n",
              " ['A', 'B', 'D', 'C', 'I', 'E', 'F', 'G', 'J'],\n",
              " ['A', 'B', 'D', 'C', 'I', 'E', 'F', 'J', 'G'],\n",
              " ['A', 'B', 'D', 'C', 'I', 'E', 'G', 'F', 'J'],\n",
              " ['A', 'B', 'D', 'C', 'I', 'E', 'G', 'J', 'F'],\n",
              " ['A', 'B', 'D', 'C', 'I', 'E', 'J', 'F', 'G'],\n",
              " ['A', 'B', 'D', 'C', 'I', 'E', 'J', 'G', 'F'],\n",
              " ['A', 'B', 'D', 'C', 'I', 'F', 'E', 'G', 'J'],\n",
              " ['A', 'B', 'D', 'C', 'I', 'F', 'E', 'J', 'G'],\n",
              " ['A', 'B', 'D', 'C', 'I', 'F', 'G', 'E', 'J'],\n",
              " ['A', 'B', 'D', 'C', 'I', 'F', 'G', 'J', 'E'],\n",
              " ['A', 'B', 'D', 'C', 'I', 'F', 'J', 'E', 'G'],\n",
              " ['A', 'B', 'D', 'C', 'I', 'F', 'J', 'G', 'E'],\n",
              " ['A', 'B', 'D', 'C', 'I', 'G', 'E', 'F', 'J'],\n",
              " ['A', 'B', 'D', 'C', 'I', 'G', 'E', 'J', 'F'],\n",
              " ['A', 'B', 'D', 'C', 'I', 'G', 'F', 'E', 'J'],\n",
              " ['A', 'B', 'D', 'C', 'I', 'G', 'F', 'J', 'E'],\n",
              " ['A', 'B', 'D', 'C', 'I', 'G', 'J', 'E', 'F'],\n",
              " ['A', 'B', 'D', 'C', 'I', 'G', 'J', 'F', 'E'],\n",
              " ['A', 'B', 'D', 'C', 'I', 'J', 'E', 'F', 'G'],\n",
              " ['A', 'B', 'D', 'C', 'I', 'J', 'E', 'G', 'F'],\n",
              " ['A', 'B', 'D', 'C', 'I', 'J', 'F', 'E', 'G'],\n",
              " ['A', 'B', 'D', 'C', 'I', 'J', 'F', 'G', 'E'],\n",
              " ['A', 'B', 'D', 'C', 'I', 'J', 'G', 'E', 'F'],\n",
              " ['A', 'B', 'D', 'C', 'I', 'J', 'G', 'F', 'E'],\n",
              " ['A', 'B', 'D', 'C', 'J', 'E', 'F', 'G', 'I'],\n",
              " ['A', 'B', 'D', 'C', 'J', 'E', 'F', 'I', 'G'],\n",
              " ['A', 'B', 'D', 'C', 'J', 'E', 'G', 'F', 'I'],\n",
              " ['A', 'B', 'D', 'C', 'J', 'E', 'G', 'I', 'F'],\n",
              " ['A', 'B', 'D', 'C', 'J', 'E', 'I', 'F', 'G'],\n",
              " ['A', 'B', 'D', 'C', 'J', 'E', 'I', 'G', 'F'],\n",
              " ['A', 'B', 'D', 'C', 'J', 'F', 'E', 'G', 'I'],\n",
              " ['A', 'B', 'D', 'C', 'J', 'F', 'E', 'I', 'G'],\n",
              " ['A', 'B', 'D', 'C', 'J', 'F', 'G', 'E', 'I'],\n",
              " ['A', 'B', 'D', 'C', 'J', 'F', 'G', 'I', 'E'],\n",
              " ['A', 'B', 'D', 'C', 'J', 'F', 'I', 'E', 'G'],\n",
              " ['A', 'B', 'D', 'C', 'J', 'F', 'I', 'G', 'E'],\n",
              " ['A', 'B', 'D', 'C', 'J', 'G', 'E', 'F', 'I'],\n",
              " ['A', 'B', 'D', 'C', 'J', 'G', 'E', 'I', 'F'],\n",
              " ['A', 'B', 'D', 'C', 'J', 'G', 'F', 'E', 'I'],\n",
              " ['A', 'B', 'D', 'C', 'J', 'G', 'F', 'I', 'E'],\n",
              " ['A', 'B', 'D', 'C', 'J', 'G', 'I', 'E', 'F'],\n",
              " ['A', 'B', 'D', 'C', 'J', 'G', 'I', 'F', 'E'],\n",
              " ['A', 'B', 'D', 'C', 'J', 'I', 'E', 'F', 'G'],\n",
              " ['A', 'B', 'D', 'C', 'J', 'I', 'E', 'G', 'F'],\n",
              " ['A', 'B', 'D', 'C', 'J', 'I', 'F', 'E', 'G'],\n",
              " ['A', 'B', 'D', 'C', 'J', 'I', 'F', 'G', 'E'],\n",
              " ['A', 'B', 'D', 'C', 'J', 'I', 'G', 'E', 'F'],\n",
              " ['A', 'B', 'D', 'C', 'J', 'I', 'G', 'F', 'E'],\n",
              " ['A', 'B', 'D', 'E', 'C', 'F', 'G', 'I', 'J'],\n",
              " ['A', 'B', 'D', 'E', 'C', 'F', 'G', 'J', 'I'],\n",
              " ['A', 'B', 'D', 'E', 'C', 'F', 'I', 'G', 'J'],\n",
              " ['A', 'B', 'D', 'E', 'C', 'F', 'I', 'J', 'G'],\n",
              " ['A', 'B', 'D', 'E', 'C', 'F', 'J', 'G', 'I'],\n",
              " ['A', 'B', 'D', 'E', 'C', 'F', 'J', 'I', 'G'],\n",
              " ['A', 'B', 'D', 'E', 'C', 'G', 'F', 'I', 'J'],\n",
              " ['A', 'B', 'D', 'E', 'C', 'G', 'F', 'J', 'I'],\n",
              " ['A', 'B', 'D', 'E', 'C', 'G', 'I', 'F', 'J'],\n",
              " ['A', 'B', 'D', 'E', 'C', 'G', 'I', 'J', 'F'],\n",
              " ['A', 'B', 'D', 'E', 'C', 'G', 'J', 'F', 'I'],\n",
              " ['A', 'B', 'D', 'E', 'C', 'G', 'J', 'I', 'F'],\n",
              " ['A', 'B', 'D', 'E', 'C', 'I', 'F', 'G', 'J'],\n",
              " ['A', 'B', 'D', 'E', 'C', 'I', 'F', 'J', 'G'],\n",
              " ['A', 'B', 'D', 'E', 'C', 'I', 'G', 'F', 'J'],\n",
              " ['A', 'B', 'D', 'E', 'C', 'I', 'G', 'J', 'F'],\n",
              " ['A', 'B', 'D', 'E', 'C', 'I', 'J', 'F', 'G'],\n",
              " ['A', 'B', 'D', 'E', 'C', 'I', 'J', 'G', 'F'],\n",
              " ['A', 'B', 'D', 'E', 'C', 'J', 'F', 'G', 'I'],\n",
              " ['A', 'B', 'D', 'E', 'C', 'J', 'F', 'I', 'G'],\n",
              " ['A', 'B', 'D', 'E', 'C', 'J', 'G', 'F', 'I'],\n",
              " ['A', 'B', 'D', 'E', 'C', 'J', 'G', 'I', 'F'],\n",
              " ['A', 'B', 'D', 'E', 'C', 'J', 'I', 'F', 'G'],\n",
              " ['A', 'B', 'D', 'E', 'C', 'J', 'I', 'G', 'F'],\n",
              " ['A', 'B', 'D', 'E', 'F', 'C', 'G', 'I', 'J'],\n",
              " ['A', 'B', 'D', 'E', 'F', 'C', 'G', 'J', 'I'],\n",
              " ['A', 'B', 'D', 'E', 'F', 'C', 'I', 'G', 'J'],\n",
              " ['A', 'B', 'D', 'E', 'F', 'C', 'I', 'J', 'G'],\n",
              " ['A', 'B', 'D', 'E', 'F', 'C', 'J', 'G', 'I'],\n",
              " ['A', 'B', 'D', 'E', 'F', 'C', 'J', 'I', 'G'],\n",
              " ['A', 'B', 'D', 'E', 'F', 'G', 'C', 'I', 'J'],\n",
              " ['A', 'B', 'D', 'E', 'F', 'G', 'C', 'J', 'I'],\n",
              " ['A', 'B', 'D', 'E', 'F', 'G', 'I', 'C', 'J'],\n",
              " ['A', 'B', 'D', 'E', 'F', 'G', 'I', 'J', 'C'],\n",
              " ['A', 'B', 'D', 'E', 'F', 'G', 'J', 'C', 'I'],\n",
              " ['A', 'B', 'D', 'E', 'F', 'G', 'J', 'I', 'C'],\n",
              " ['A', 'B', 'D', 'E', 'F', 'I', 'C', 'G', 'J'],\n",
              " ['A', 'B', 'D', 'E', 'F', 'I', 'C', 'J', 'G'],\n",
              " ['A', 'B', 'D', 'E', 'F', 'I', 'G', 'C', 'J'],\n",
              " ['A', 'B', 'D', 'E', 'F', 'I', 'G', 'J', 'C'],\n",
              " ['A', 'B', 'D', 'E', 'F', 'I', 'J', 'C', 'G'],\n",
              " ['A', 'B', 'D', 'E', 'F', 'I', 'J', 'G', 'C'],\n",
              " ['A', 'B', 'D', 'E', 'F', 'J', 'C', 'G', 'I'],\n",
              " ['A', 'B', 'D', 'E', 'F', 'J', 'C', 'I', 'G'],\n",
              " ['A', 'B', 'D', 'E', 'F', 'J', 'G', 'C', 'I'],\n",
              " ['A', 'B', 'D', 'E', 'F', 'J', 'G', 'I', 'C'],\n",
              " ['A', 'B', 'D', 'E', 'F', 'J', 'I', 'C', 'G'],\n",
              " ['A', 'B', 'D', 'E', 'F', 'J', 'I', 'G', 'C'],\n",
              " ['A', 'B', 'D', 'E', 'G', 'C', 'F', 'I', 'J'],\n",
              " ['A', 'B', 'D', 'E', 'G', 'C', 'F', 'J', 'I'],\n",
              " ['A', 'B', 'D', 'E', 'G', 'C', 'I', 'F', 'J'],\n",
              " ['A', 'B', 'D', 'E', 'G', 'C', 'I', 'J', 'F'],\n",
              " ['A', 'B', 'D', 'E', 'G', 'C', 'J', 'F', 'I'],\n",
              " ['A', 'B', 'D', 'E', 'G', 'C', 'J', 'I', 'F'],\n",
              " ['A', 'B', 'D', 'E', 'G', 'F', 'C', 'I', 'J'],\n",
              " ['A', 'B', 'D', 'E', 'G', 'F', 'C', 'J', 'I'],\n",
              " ['A', 'B', 'D', 'E', 'G', 'F', 'I', 'C', 'J'],\n",
              " ['A', 'B', 'D', 'E', 'G', 'F', 'I', 'J', 'C'],\n",
              " ['A', 'B', 'D', 'E', 'G', 'F', 'J', 'C', 'I'],\n",
              " ['A', 'B', 'D', 'E', 'G', 'F', 'J', 'I', 'C'],\n",
              " ['A', 'B', 'D', 'E', 'G', 'I', 'C', 'F', 'J'],\n",
              " ['A', 'B', 'D', 'E', 'G', 'I', 'C', 'J', 'F'],\n",
              " ['A', 'B', 'D', 'E', 'G', 'I', 'F', 'C', 'J'],\n",
              " ['A', 'B', 'D', 'E', 'G', 'I', 'F', 'J', 'C'],\n",
              " ['A', 'B', 'D', 'E', 'G', 'I', 'J', 'C', 'F'],\n",
              " ['A', 'B', 'D', 'E', 'G', 'I', 'J', 'F', 'C'],\n",
              " ['A', 'B', 'D', 'E', 'G', 'J', 'C', 'F', 'I'],\n",
              " ['A', 'B', 'D', 'E', 'G', 'J', 'C', 'I', 'F'],\n",
              " ['A', 'B', 'D', 'E', 'G', 'J', 'F', 'C', 'I'],\n",
              " ['A', 'B', 'D', 'E', 'G', 'J', 'F', 'I', 'C'],\n",
              " ['A', 'B', 'D', 'E', 'G', 'J', 'I', 'C', 'F'],\n",
              " ['A', 'B', 'D', 'E', 'G', 'J', 'I', 'F', 'C'],\n",
              " ['A', 'B', 'D', 'E', 'I', 'C', 'F', 'G', 'J'],\n",
              " ['A', 'B', 'D', 'E', 'I', 'C', 'F', 'J', 'G'],\n",
              " ['A', 'B', 'D', 'E', 'I', 'C', 'G', 'F', 'J'],\n",
              " ['A', 'B', 'D', 'E', 'I', 'C', 'G', 'J', 'F'],\n",
              " ['A', 'B', 'D', 'E', 'I', 'C', 'J', 'F', 'G'],\n",
              " ['A', 'B', 'D', 'E', 'I', 'C', 'J', 'G', 'F'],\n",
              " ['A', 'B', 'D', 'E', 'I', 'F', 'C', 'G', 'J'],\n",
              " ['A', 'B', 'D', 'E', 'I', 'F', 'C', 'J', 'G'],\n",
              " ['A', 'B', 'D', 'E', 'I', 'F', 'G', 'C', 'J'],\n",
              " ['A', 'B', 'D', 'E', 'I', 'F', 'G', 'J', 'C'],\n",
              " ['A', 'B', 'D', 'E', 'I', 'F', 'J', 'C', 'G'],\n",
              " ['A', 'B', 'D', 'E', 'I', 'F', 'J', 'G', 'C'],\n",
              " ['A', 'B', 'D', 'E', 'I', 'G', 'C', 'F', 'J'],\n",
              " ['A', 'B', 'D', 'E', 'I', 'G', 'C', 'J', 'F'],\n",
              " ['A', 'B', 'D', 'E', 'I', 'G', 'F', 'C', 'J'],\n",
              " ['A', 'B', 'D', 'E', 'I', 'G', 'F', 'J', 'C'],\n",
              " ['A', 'B', 'D', 'E', 'I', 'G', 'J', 'C', 'F'],\n",
              " ['A', 'B', 'D', 'E', 'I', 'G', 'J', 'F', 'C'],\n",
              " ['A', 'B', 'D', 'E', 'I', 'J', 'C', 'F', 'G'],\n",
              " ['A', 'B', 'D', 'E', 'I', 'J', 'C', 'G', 'F'],\n",
              " ['A', 'B', 'D', 'E', 'I', 'J', 'F', 'C', 'G'],\n",
              " ['A', 'B', 'D', 'E', 'I', 'J', 'F', 'G', 'C'],\n",
              " ['A', 'B', 'D', 'E', 'I', 'J', 'G', 'C', 'F'],\n",
              " ['A', 'B', 'D', 'E', 'I', 'J', 'G', 'F', 'C'],\n",
              " ['A', 'B', 'D', 'E', 'J', 'C', 'F', 'G', 'I'],\n",
              " ['A', 'B', 'D', 'E', 'J', 'C', 'F', 'I', 'G'],\n",
              " ['A', 'B', 'D', 'E', 'J', 'C', 'G', 'F', 'I'],\n",
              " ['A', 'B', 'D', 'E', 'J', 'C', 'G', 'I', 'F'],\n",
              " ['A', 'B', 'D', 'E', 'J', 'C', 'I', 'F', 'G'],\n",
              " ['A', 'B', 'D', 'E', 'J', 'C', 'I', 'G', 'F'],\n",
              " ['A', 'B', 'D', 'E', 'J', 'F', 'C', 'G', 'I'],\n",
              " ['A', 'B', 'D', 'E', 'J', 'F', 'C', 'I', 'G'],\n",
              " ['A', 'B', 'D', 'E', 'J', 'F', 'G', 'C', 'I'],\n",
              " ['A', 'B', 'D', 'E', 'J', 'F', 'G', 'I', 'C'],\n",
              " ['A', 'B', 'D', 'E', 'J', 'F', 'I', 'C', 'G'],\n",
              " ['A', 'B', 'D', 'E', 'J', 'F', 'I', 'G', 'C'],\n",
              " ['A', 'B', 'D', 'E', 'J', 'G', 'C', 'F', 'I'],\n",
              " ['A', 'B', 'D', 'E', 'J', 'G', 'C', 'I', 'F'],\n",
              " ['A', 'B', 'D', 'E', 'J', 'G', 'F', 'C', 'I'],\n",
              " ['A', 'B', 'D', 'E', 'J', 'G', 'F', 'I', 'C'],\n",
              " ['A', 'B', 'D', 'E', 'J', 'G', 'I', 'C', 'F'],\n",
              " ['A', 'B', 'D', 'E', 'J', 'G', 'I', 'F', 'C'],\n",
              " ['A', 'B', 'D', 'E', 'J', 'I', 'C', 'F', 'G'],\n",
              " ['A', 'B', 'D', 'E', 'J', 'I', 'C', 'G', 'F'],\n",
              " ['A', 'B', 'D', 'E', 'J', 'I', 'F', 'C', 'G'],\n",
              " ['A', 'B', 'D', 'E', 'J', 'I', 'F', 'G', 'C'],\n",
              " ['A', 'B', 'D', 'E', 'J', 'I', 'G', 'C', 'F'],\n",
              " ['A', 'B', 'D', 'E', 'J', 'I', 'G', 'F', 'C'],\n",
              " ['A', 'B', 'D', 'F', 'C', 'E', 'G', 'I', 'J'],\n",
              " ['A', 'B', 'D', 'F', 'C', 'E', 'G', 'J', 'I'],\n",
              " ['A', 'B', 'D', 'F', 'C', 'E', 'I', 'G', 'J'],\n",
              " ['A', 'B', 'D', 'F', 'C', 'E', 'I', 'J', 'G'],\n",
              " ['A', 'B', 'D', 'F', 'C', 'E', 'J', 'G', 'I'],\n",
              " ['A', 'B', 'D', 'F', 'C', 'E', 'J', 'I', 'G'],\n",
              " ['A', 'B', 'D', 'F', 'C', 'G', 'E', 'I', 'J'],\n",
              " ['A', 'B', 'D', 'F', 'C', 'G', 'E', 'J', 'I'],\n",
              " ['A', 'B', 'D', 'F', 'C', 'G', 'I', 'E', 'J'],\n",
              " ['A', 'B', 'D', 'F', 'C', 'G', 'I', 'J', 'E'],\n",
              " ['A', 'B', 'D', 'F', 'C', 'G', 'J', 'E', 'I'],\n",
              " ['A', 'B', 'D', 'F', 'C', 'G', 'J', 'I', 'E'],\n",
              " ['A', 'B', 'D', 'F', 'C', 'I', 'E', 'G', 'J'],\n",
              " ['A', 'B', 'D', 'F', 'C', 'I', 'E', 'J', 'G'],\n",
              " ['A', 'B', 'D', 'F', 'C', 'I', 'G', 'E', 'J'],\n",
              " ['A', 'B', 'D', 'F', 'C', 'I', 'G', 'J', 'E'],\n",
              " ['A', 'B', 'D', 'F', 'C', 'I', 'J', 'E', 'G'],\n",
              " ['A', 'B', 'D', 'F', 'C', 'I', 'J', 'G', 'E'],\n",
              " ['A', 'B', 'D', 'F', 'C', 'J', 'E', 'G', 'I'],\n",
              " ['A', 'B', 'D', 'F', 'C', 'J', 'E', 'I', 'G'],\n",
              " ['A', 'B', 'D', 'F', 'C', 'J', 'G', 'E', 'I'],\n",
              " ['A', 'B', 'D', 'F', 'C', 'J', 'G', 'I', 'E'],\n",
              " ['A', 'B', 'D', 'F', 'C', 'J', 'I', 'E', 'G'],\n",
              " ['A', 'B', 'D', 'F', 'C', 'J', 'I', 'G', 'E'],\n",
              " ['A', 'B', 'D', 'F', 'E', 'C', 'G', 'I', 'J'],\n",
              " ['A', 'B', 'D', 'F', 'E', 'C', 'G', 'J', 'I'],\n",
              " ['A', 'B', 'D', 'F', 'E', 'C', 'I', 'G', 'J'],\n",
              " ['A', 'B', 'D', 'F', 'E', 'C', 'I', 'J', 'G'],\n",
              " ['A', 'B', 'D', 'F', 'E', 'C', 'J', 'G', 'I'],\n",
              " ['A', 'B', 'D', 'F', 'E', 'C', 'J', 'I', 'G'],\n",
              " ['A', 'B', 'D', 'F', 'E', 'G', 'C', 'I', 'J'],\n",
              " ['A', 'B', 'D', 'F', 'E', 'G', 'C', 'J', 'I'],\n",
              " ['A', 'B', 'D', 'F', 'E', 'G', 'I', 'C', 'J'],\n",
              " ['A', 'B', 'D', 'F', 'E', 'G', 'I', 'J', 'C'],\n",
              " ['A', 'B', 'D', 'F', 'E', 'G', 'J', 'C', 'I'],\n",
              " ['A', 'B', 'D', 'F', 'E', 'G', 'J', 'I', 'C'],\n",
              " ['A', 'B', 'D', 'F', 'E', 'I', 'C', 'G', 'J'],\n",
              " ['A', 'B', 'D', 'F', 'E', 'I', 'C', 'J', 'G'],\n",
              " ['A', 'B', 'D', 'F', 'E', 'I', 'G', 'C', 'J'],\n",
              " ['A', 'B', 'D', 'F', 'E', 'I', 'G', 'J', 'C'],\n",
              " ...]"
            ]
          },
          "metadata": {
            "tags": []
          },
          "execution_count": 2
        }
      ]
    },
    {
      "cell_type": "markdown",
      "metadata": {
        "id": "vlBzdPT2DKuK",
        "colab_type": "text"
      },
      "source": [
        ">Permutation using JohnsonTrotter"
      ]
    },
    {
      "cell_type": "code",
      "metadata": {
        "id": "DjY2qNtzDRi7",
        "colab_type": "code",
        "colab": {}
      },
      "source": [
        "def jpermute(iterable):\n",
        "    sequence = list(iterable)\n",
        "    length = len(sequence)\n",
        "    indices = range(1, length+1)\n",
        "\n",
        "    # The list of directed integers: [-1, 1], [-1, 2], ...\n",
        "    state = [[-1, idx] for idx in indices]\n",
        "\n",
        "    # Add sentinels at the beginning and end\n",
        "    state = [[-1, length+1]] + state + [[-1, length+1]]\n",
        "\n",
        "    # The first permutation is the sequence itself\n",
        "    yield sequence\n",
        "\n",
        "    mobile_index = mobile_direction = direction = value = None\n",
        "    while True:\n",
        "        # 1. Find the highest mobile\n",
        "        mobile = -1\n",
        "        for idx in indices:\n",
        "            direction, value = state[idx]\n",
        "            if value > mobile and value > state[idx+direction][1]:\n",
        "                # value is mobile and greater than the previous mobile\n",
        "                mobile = value\n",
        "                mobile_index = idx\n",
        "                mobile_direction = direction\n",
        "                if mobile == length:\n",
        "                    # no point in continuing as mobile is as large as it can be.\n",
        "                    break\n",
        "        if mobile == -1:\n",
        "            break\n",
        "\n",
        "        # 2. Swap the mobile with the element it 'sees'\n",
        "        sees = mobile_index + mobile_direction\n",
        "        # ... first update the state\n",
        "        state[mobile_index], state[sees] = state[sees], state[mobile_index]\n",
        "        # ... then update the sequence\n",
        "        sequence[mobile_index-1], sequence[sees-1] = sequence[sees-1], sequence[mobile_index-1]\n",
        "\n",
        "        # 3. Switch the direction of elements greater than mobile\n",
        "        if mobile < length:\n",
        "            for idx in indices:\n",
        "                if state[idx][1] > mobile:\n",
        "                    state[idx][0] = -state[idx][0]\n",
        "\n",
        "        yield sequence"
      ],
      "execution_count": 0,
      "outputs": []
    },
    {
      "cell_type": "code",
      "metadata": {
        "id": "yBNDBtyOFz-F",
        "colab_type": "code",
        "outputId": "53232c71-4a9a-47e5-b810-115bb3d14d53",
        "colab": {
          "base_uri": "https://localhost:8080/",
          "height": 119
        }
      },
      "source": [
        "permutation = jpermute(\"ABC\")\n",
        "for p in permutation:\n",
        "    print(p)"
      ],
      "execution_count": 0,
      "outputs": [
        {
          "output_type": "stream",
          "text": [
            "['A', 'B', 'C']\n",
            "['A', 'C', 'B']\n",
            "['C', 'A', 'B']\n",
            "['C', 'B', 'A']\n",
            "['B', 'C', 'A']\n",
            "['B', 'A', 'C']\n"
          ],
          "name": "stdout"
        }
      ]
    },
    {
      "cell_type": "markdown",
      "metadata": {
        "id": "vlcCNhZe67VV",
        "colab_type": "text"
      },
      "source": [
        "2) Decrease by a constant factor"
      ]
    },
    {
      "cell_type": "markdown",
      "metadata": {
        "id": "HkOviiXyGOEQ",
        "colab_type": "text"
      },
      "source": [
        "- Binary Search"
      ]
    },
    {
      "cell_type": "code",
      "metadata": {
        "id": "Df9ME5UJGIS5",
        "colab_type": "code",
        "colab": {}
      },
      "source": [
        "def binary_search(seq,item):\n",
        "\tfirst = 0\n",
        "\tlast = len(seq)-1\n",
        "\tfound = False\n",
        "\twhile( first<=last and not found):\n",
        "\t\tmid = (first + last)//2\n",
        "\t\tif seq[mid] == item :\n",
        "\t\t\tfound = True\n",
        "\t\telse:\n",
        "\t\t\tif item < seq[mid]:\n",
        "\t\t\t\tlast = mid - 1\n",
        "\t\t\telse:\n",
        "\t\t\t\tfirst = mid + 1\t\n",
        "\treturn found"
      ],
      "execution_count": 0,
      "outputs": []
    },
    {
      "cell_type": "code",
      "metadata": {
        "id": "TD64pkgGGnDk",
        "colab_type": "code",
        "outputId": "9edb7154-9c1f-4a0b-d91d-d3e882997218",
        "colab": {
          "base_uri": "https://localhost:8080/",
          "height": 51
        }
      },
      "source": [
        "print(binary_search([1,2,6,5,2], 6))\n",
        "print(binary_search([4,2,3,6,8], 1))"
      ],
      "execution_count": 0,
      "outputs": [
        {
          "output_type": "stream",
          "text": [
            "True\n",
            "False\n"
          ],
          "name": "stdout"
        }
      ]
    },
    {
      "cell_type": "markdown",
      "metadata": {
        "id": "apOVM9kh67QK",
        "colab_type": "text"
      },
      "source": [
        "3) Variable size decrease"
      ]
    },
    {
      "cell_type": "markdown",
      "metadata": {
        "id": "x16Fq_paL1km",
        "colab_type": "text"
      },
      "source": [
        "- QuickSelect"
      ]
    },
    {
      "cell_type": "code",
      "metadata": {
        "id": "USeY86hRGkQV",
        "colab_type": "code",
        "colab": {}
      },
      "source": [
        "def partition(arr, l, r): \n",
        "      \n",
        "    x = arr[r] \n",
        "    i = l \n",
        "    for j in range(l, r): \n",
        "          \n",
        "        if arr[j] <= x: \n",
        "            arr[i], arr[j] = arr[j], arr[i] \n",
        "            i += 1\n",
        "              \n",
        "    arr[i], arr[r] = arr[r], arr[i] \n",
        "    return i \n",
        "  \n",
        "def kthSmallest(arr, l, r, k): \n",
        "  \n",
        "    if (k > 0 and k <= r - l + 1): \n",
        "        index = partition(arr, l, r) \n",
        "        if (index - l == k - 1): \n",
        "            return arr[index] \n",
        "        if (index - l > k - 1): \n",
        "            return kthSmallest(arr, l, index - 1, k) \n",
        "  \n",
        "        return kthSmallest(arr, index + 1, r, k - index + l - 1) \n",
        "    return INT_MAX "
      ],
      "execution_count": 0,
      "outputs": []
    },
    {
      "cell_type": "code",
      "metadata": {
        "id": "3hT2RMtfPI4n",
        "colab_type": "code",
        "outputId": "960078f3-734b-4a2f-c7d8-0929d1f84108",
        "colab": {
          "base_uri": "https://localhost:8080/",
          "height": 34
        }
      },
      "source": [
        "arr = [ 7, 10, 4, 3, 20, 15 ] \n",
        "n = len(arr) \n",
        "k = 3\n",
        "print(\"K-th smallest element is \", end = \"\") \n",
        "print(kthSmallest(arr, 0, n - 1, k)) "
      ],
      "execution_count": 0,
      "outputs": [
        {
          "output_type": "stream",
          "text": [
            "K-th smallest element is 7\n"
          ],
          "name": "stdout"
        }
      ]
    },
    {
      "cell_type": "markdown",
      "metadata": {
        "id": "0jwQR6FPPedc",
        "colab_type": "text"
      },
      "source": [
        "# Divide and Conquer"
      ]
    },
    {
      "cell_type": "markdown",
      "metadata": {
        "id": "Vo0mrYXlPuQp",
        "colab_type": "text"
      },
      "source": [
        "- Merge sort"
      ]
    },
    {
      "cell_type": "code",
      "metadata": {
        "id": "TwxGzpC8PrAD",
        "colab_type": "code",
        "colab": {}
      },
      "source": [
        "def mergeSort(seq):\n",
        "  if len(seq) > 1:\n",
        "    mid = len(seq) // 2\n",
        "    left = seq[:mid]\n",
        "    right = seq[mid:]\n",
        "\n",
        "    mergeSort(left)\n",
        "    mergeSort(right)\n",
        "\n",
        "    i = 0 # left\n",
        "    j = 0 # right\n",
        "    k = 0 # Iterator\n",
        "\n",
        "    while i < len(left) and j < len(right):\n",
        "      if left[i] < right[j]:\n",
        "        seq[k] = left[i]\n",
        "        i += 1\n",
        "      else:\n",
        "        seq[k] = right[j]\n",
        "        j += 1\n",
        "      k += 1\n",
        "\n",
        "    while i < len(left):\n",
        "      seq[k] = left[i]\n",
        "      i += 1\n",
        "      k += 1\n",
        "\n",
        "    while j < len(right):\n",
        "      seq[k]=right[j]\n",
        "      j += 1\n",
        "      k += 1\n",
        "\n",
        "    return seq"
      ],
      "execution_count": 0,
      "outputs": []
    },
    {
      "cell_type": "code",
      "metadata": {
        "id": "bl1qeSo7rquB",
        "colab_type": "code",
        "outputId": "81dd3636-ace1-4c9b-c080-0fb2c24796f1",
        "colab": {
          "base_uri": "https://localhost:8080/",
          "height": 51
        }
      },
      "source": [
        "# Input list \n",
        "a = [12, 11, 13, 5, 6, 7] \n",
        "  \n",
        "sorted = mergeSort(a) \n",
        "  \n",
        "print(\"Sorted array is : \") \n",
        "print(sorted)"
      ],
      "execution_count": 0,
      "outputs": [
        {
          "output_type": "stream",
          "text": [
            "Sorted array is : \n",
            "[5, 6, 7, 11, 12, 13]\n"
          ],
          "name": "stdout"
        }
      ]
    },
    {
      "cell_type": "markdown",
      "metadata": {
        "id": "-yVD0Te2xebV",
        "colab_type": "text"
      },
      "source": [
        "- Lumuto Partition"
      ]
    },
    {
      "cell_type": "code",
      "metadata": {
        "id": "tKmMeMRvrwVK",
        "colab_type": "code",
        "colab": {}
      },
      "source": [
        "def Lomuto(seq):\n",
        "    l = 0\n",
        "    p = seq[l]\n",
        "    s = l\n",
        "\n",
        "    for i in range(l+1, len(seq)):\n",
        "        if seq[i] < p:\n",
        "            s += 1\n",
        "            seq[s], seq[i] = seq[i], seq[s]\n",
        "\n",
        "    seq[l],seq[s] = seq[s],seq[l]\n",
        "\n",
        "    return s, seq"
      ],
      "execution_count": 0,
      "outputs": []
    },
    {
      "cell_type": "code",
      "metadata": {
        "id": "xi6rDLaSx8e1",
        "colab_type": "code",
        "colab": {}
      },
      "source": [
        "x1 = [5 , 3 , 1 , 9 , 8 , 2 , 4 , 7 ]"
      ],
      "execution_count": 0,
      "outputs": []
    },
    {
      "cell_type": "code",
      "metadata": {
        "id": "QLTjRWA_5hu_",
        "colab_type": "code",
        "outputId": "6932f86e-83d1-4cc3-830d-159010d626cd",
        "colab": {
          "base_uri": "https://localhost:8080/",
          "height": 51
        }
      },
      "source": [
        "key,seq = Lomuto(x1)\n",
        "print('Index : '+str(key)+', Value : '+str(seq[key]))\n",
        "print(seq)"
      ],
      "execution_count": 0,
      "outputs": [
        {
          "output_type": "stream",
          "text": [
            "Index : 4, Value : 5\n",
            "[4, 3, 1, 2, 5, 9, 8, 7]\n"
          ],
          "name": "stdout"
        }
      ]
    },
    {
      "cell_type": "markdown",
      "metadata": {
        "id": "sPr77c0m1mab",
        "colab_type": "text"
      },
      "source": [
        "- Hoare Partition"
      ]
    },
    {
      "cell_type": "code",
      "metadata": {
        "id": "DPlAudo6x_8u",
        "colab_type": "code",
        "colab": {}
      },
      "source": [
        "def Hoare(A,l,r):\n",
        "    p,i,j = A[l],l+1,r-1\n",
        "    \n",
        "    while i < j :\n",
        "        while A[i] <= p:\n",
        "            i += 1\n",
        "            if i >= len(A)-1: \n",
        "                i = len(A) -1\n",
        "                break\n",
        "        while A[j] > p:\n",
        "            j -= 1\n",
        "        A[i],A[j] = A[j],A[i]\n",
        "    A[i],A[j] = A[j],A[i]\n",
        "    A[l],A[j] = A[j],A[l]\n",
        "    return j"
      ],
      "execution_count": 0,
      "outputs": []
    },
    {
      "cell_type": "code",
      "metadata": {
        "id": "nnIdQm3t1BLI",
        "colab_type": "code",
        "colab": {}
      },
      "source": [
        "x1 = [5 , 3 , 1 , 9 , 8 , 2 , 4 , 7 ]"
      ],
      "execution_count": 0,
      "outputs": []
    },
    {
      "cell_type": "code",
      "metadata": {
        "id": "Y7uHfJZj5cV0",
        "colab_type": "code",
        "outputId": "222a6dec-893b-4d0f-9651-95c0daa78b33",
        "colab": {
          "base_uri": "https://localhost:8080/",
          "height": 34
        }
      },
      "source": [
        "Hoare(x1,0,len(x1))"
      ],
      "execution_count": 0,
      "outputs": [
        {
          "output_type": "execute_result",
          "data": {
            "text/plain": [
              "4"
            ]
          },
          "metadata": {
            "tags": []
          },
          "execution_count": 65
        }
      ]
    },
    {
      "cell_type": "markdown",
      "metadata": {
        "id": "w2UZdpPM19wK",
        "colab_type": "text"
      },
      "source": [
        "- Quick sort"
      ]
    },
    {
      "cell_type": "code",
      "metadata": {
        "id": "jZaQsmUX1D7Z",
        "colab_type": "code",
        "colab": {}
      },
      "source": [
        "def quickSort(A,l,r):\n",
        "    if l < r-1:\n",
        "        s = Hoare(A,l,r)\n",
        "        quickSort(A,l,s)\n",
        "        quickSort(A,s+1,r)\n",
        "\n",
        "    return A"
      ],
      "execution_count": 0,
      "outputs": []
    },
    {
      "cell_type": "code",
      "metadata": {
        "id": "UkTjIY7G1WtB",
        "colab_type": "code",
        "colab": {}
      },
      "source": [
        "x2 = [5 , 3 , 1 , 9 , 8 , 2 , 4 , 7 ]"
      ],
      "execution_count": 0,
      "outputs": []
    },
    {
      "cell_type": "code",
      "metadata": {
        "id": "IjYUpomg5bLj",
        "colab_type": "code",
        "outputId": "c3c7092d-c11a-4e3a-d18b-89d4a1817197",
        "colab": {
          "base_uri": "https://localhost:8080/",
          "height": 34
        }
      },
      "source": [
        "quickSort(x2,0,len(x2))"
      ],
      "execution_count": 0,
      "outputs": [
        {
          "output_type": "execute_result",
          "data": {
            "text/plain": [
              "[1, 2, 4, 3, 5, 7, 8, 9]"
            ]
          },
          "metadata": {
            "tags": []
          },
          "execution_count": 68
        }
      ]
    },
    {
      "cell_type": "markdown",
      "metadata": {
        "id": "xe2W3sSZ3x-t",
        "colab_type": "text"
      },
      "source": [
        "- Strassen's Matrix Multiplication"
      ]
    },
    {
      "cell_type": "code",
      "metadata": {
        "id": "1F3kKrP51boF",
        "colab_type": "code",
        "colab": {}
      },
      "source": [
        "import numpy as np \n",
        "  \n",
        "def split(matrix): \n",
        "    row, col = matrix.shape \n",
        "    row2, col2 = row//2, col//2\n",
        "    return matrix[:row2, :col2], matrix[:row2, col2:], matrix[row2:, :col2], matrix[row2:, col2:] \n",
        "  \n",
        "def strassen(x, y): \n",
        "  \n",
        "    # Base case when size of matrices is 1x1 \n",
        "    if len(x) == 1: \n",
        "        return x * y \n",
        "  \n",
        "    # Splitting the matrices into quadrants. This will be done recursively \n",
        "    # untill the base case is reached. \n",
        "    a, b, c, d = split(x) \n",
        "    e, f, g, h = split(y) \n",
        "  \n",
        "    # Computing the 7 products, recursively (p1, p2...p7) \n",
        "    m1 = strassen(a, f - h)   \n",
        "    m2 = strassen(a + b, h)         \n",
        "    m3 = strassen(c + d, e)         \n",
        "    m4 = strassen(d, g - e)         \n",
        "    m5 = strassen(a + d, e + h)         \n",
        "    m6 = strassen(b - d, g + h)   \n",
        "    m7 = strassen(a - c, e + f)   \n",
        "  \n",
        "    # Computing the values of the 4 quadrants of the final matrix c \n",
        "    c11 = m5 + m4 - m2 + m6   \n",
        "    c12 = m1 + m2            \n",
        "    c21 = m3 + m4             \n",
        "    c22 = m1 + m5 - m3 - m7   \n",
        "  \n",
        "    # Combining the 4 quadrants into a single matrix by stacking horizontally and vertically. \n",
        "    c = np.vstack((np.hstack((c11, c12)), np.hstack((c21, c22))))  \n",
        "  \n",
        "    return c "
      ],
      "execution_count": 0,
      "outputs": []
    },
    {
      "cell_type": "code",
      "metadata": {
        "id": "dijqg7JY2zGN",
        "colab_type": "code",
        "colab": {}
      },
      "source": [
        "x = np.array([[1,2],[3,4]])\n",
        "y = np.array([[1,2],[3,4]])"
      ],
      "execution_count": 0,
      "outputs": []
    },
    {
      "cell_type": "code",
      "metadata": {
        "id": "6pW8Z3X95W8Y",
        "colab_type": "code",
        "outputId": "f74700ca-233b-47a0-c113-031c4f95b1c2",
        "colab": {
          "base_uri": "https://localhost:8080/",
          "height": 51
        }
      },
      "source": [
        "strassen(x,y)"
      ],
      "execution_count": 0,
      "outputs": [
        {
          "output_type": "execute_result",
          "data": {
            "text/plain": [
              "array([[ 7, 10],\n",
              "       [15, 22]])"
            ]
          },
          "metadata": {
            "tags": []
          },
          "execution_count": 48
        }
      ]
    },
    {
      "cell_type": "markdown",
      "metadata": {
        "id": "IP5SD-NG-OLK",
        "colab_type": "text"
      },
      "source": [
        "- Closest pair"
      ]
    },
    {
      "cell_type": "code",
      "metadata": {
        "id": "fAqyPpL_25Yv",
        "colab_type": "code",
        "colab": {}
      },
      "source": [
        "def find_closest_brute_force(array):\n",
        "    \n",
        "    result = {}\n",
        "    result[\"p1\"] = array[0]\n",
        "    result[\"p2\"] = array[1]\n",
        "    result[\"distance\"] = np.sqrt((array[0][0]-array[1][0])**2+(array[0][1]-array[1][1])**2)\n",
        "    \n",
        "    for i in range(len(array)-1):\n",
        "        for j in range(i+1, len(array)):\n",
        "            distance = np.sqrt((array[i][0]-array[j][0])**2+(array[i][1]-array[j][1])**2)\n",
        "            if distance < result[\"distance\"]:\n",
        "                result[\"p1\"] = array[i]\n",
        "                result[\"p2\"] = array[j]\n",
        "                result[\"distance\"] = distance\n",
        "    return result\n",
        "\n",
        "def merge_sort(array, coordinate=0):\n",
        "    \n",
        "    length = len(array)\n",
        "    if length == 1:\n",
        "        return array\n",
        "    if length == 2:\n",
        "        if array[0][coordinate] > array[1][coordinate]:\n",
        "            return np.array([array[1], array[0]])\n",
        "        else:\n",
        "            return array\n",
        "    \n",
        "    elif length > 2:\n",
        "        array_l = array[:length//2]\n",
        "        array_r = array[length//2:]\n",
        "        array_l_sorted = merge_sort(array_l, coordinate)\n",
        "        array_r_sorted = merge_sort(array_r, coordinate)\n",
        "        \n",
        "        l_length = len(array_l)\n",
        "        r_length = len(array_r)\n",
        "        l = 0\n",
        "        r = 0\n",
        "        \n",
        "        sorted_list = []\n",
        "        \n",
        "        for i in range(length):\n",
        "            if r == r_length:\n",
        "                sorted_list.append(array_l_sorted[l])\n",
        "                l += 1\n",
        "            elif l == l_length:\n",
        "                sorted_list.append(array_r_sorted[r])\n",
        "                r += 1             \n",
        "                \n",
        "            elif array_l_sorted[l][coordinate] > array_r_sorted[r][coordinate]:\n",
        "                sorted_list.append(array_r_sorted[r])\n",
        "                r += 1\n",
        "                \n",
        "            elif array_l_sorted[l][coordinate] < array_r_sorted[r][coordinate]:\n",
        "                sorted_list.append(array_l_sorted[l])\n",
        "                l += 1\n",
        "        \n",
        "        return np.array(sorted_list)\n",
        "\n",
        "def find_closest_nest(array):\n",
        "    X = merge_sort(array, 0)\n",
        "    length = len(X)\n",
        "    if length < 4:\n",
        "      return find_closest_brute_force(array)\n",
        "    \n",
        "    else:\n",
        "        array_l = X[:length//2]\n",
        "        array_r = X[length//2:]\n",
        "        dict_l = find_closest_nest(array_l)\n",
        "        dict_r = find_closest_nest(array_r)\n",
        "                    \n",
        "        if dict_l[\"distance\"] > dict_r[\"distance\"]:\n",
        "            dict_both = dict_r\n",
        "        else:\n",
        "            dict_both = dict_l\n",
        "          \n",
        "        Y_list = []\n",
        "        for i in range(length):\n",
        "            if X[length//2-1][0]-dict_both[\"distance\"] < array[i][0] < X[length//2-1][0]+dict_both[\"distance\"]:\n",
        "                Y_list.append(array[i])\n",
        "        Y = merge_sort(np.array(Y_list), 1)\n",
        "      \n",
        "        \n",
        "        if len(Y) == 1:\n",
        "            dict_final = dict_both\n",
        "        elif len(Y) < 8:\n",
        "            dict_y = find_closest_brute_force(Y)\n",
        "            if dict_both[\"distance\"] > dict_y[\"distance\"]:\n",
        "                dict_final = dict_y\n",
        "            else:\n",
        "                dict_final = dict_both            \n",
        "        else:\n",
        "            for i in range(len(Y)-7):\n",
        "                dict_y = find_closest_brute_force(Y[i:i+7])        \n",
        "                \n",
        "                if dict_both[\"distance\"] > dict_y[\"distance\"]:\n",
        "                    dict_final = dict_y\n",
        "                else:\n",
        "                    dict_final = dict_both\n",
        "    \n",
        "        return dict_final"
      ],
      "execution_count": 0,
      "outputs": []
    },
    {
      "cell_type": "code",
      "metadata": {
        "id": "bp25q2fy3Bzl",
        "colab_type": "code",
        "colab": {}
      },
      "source": [
        "point = np.array([[2, 3], [12, 30], [40, 50], [5, 1], [12, 10], [3, 4]])"
      ],
      "execution_count": 0,
      "outputs": []
    },
    {
      "cell_type": "code",
      "metadata": {
        "id": "tpzYRpD05EFq",
        "colab_type": "code",
        "outputId": "37c4f056-a6e8-4d00-d64c-45ad42865924",
        "colab": {
          "base_uri": "https://localhost:8080/",
          "height": 34
        }
      },
      "source": [
        "find_closest_nest(point)"
      ],
      "execution_count": 0,
      "outputs": [
        {
          "output_type": "execute_result",
          "data": {
            "text/plain": [
              "{'distance': 1.4142135623730951, 'p1': array([2, 3]), 'p2': array([3, 4])}"
            ]
          },
          "metadata": {
            "tags": []
          },
          "execution_count": 119
        }
      ]
    },
    {
      "cell_type": "markdown",
      "metadata": {
        "id": "wOfq27fX90mg",
        "colab_type": "text"
      },
      "source": [
        "# Transform and Conquer"
      ]
    },
    {
      "cell_type": "markdown",
      "metadata": {
        "id": "Mi2e3iuK9-ZF",
        "colab_type": "text"
      },
      "source": [
        "- Instance Simplification"
      ]
    },
    {
      "cell_type": "markdown",
      "metadata": {
        "id": "GTu77MjH-HQj",
        "colab_type": "text"
      },
      "source": [
        "> PresortUniqueElement"
      ]
    },
    {
      "cell_type": "code",
      "metadata": {
        "id": "l_BDrAfF93yM",
        "colab_type": "code",
        "colab": {}
      },
      "source": [
        "import time\n",
        "\n",
        "def PresortUniqueElement(seq):\n",
        "  quickSort(seq,0,len(seq))\n",
        "\n",
        "  for i in range(0,len(seq)-1):\n",
        "    if seq[i] == seq[i+1]:\n",
        "      return True\n",
        "    else:\n",
        "      return False\n",
        "\n",
        "def UniqueElement(seq):\n",
        "  for i in range(len(seq)-1):\n",
        "    for j in range(i+1,n):\n",
        "      if seq[i] == seq[j]:\n",
        "        return True\n",
        "  return True"
      ],
      "execution_count": 0,
      "outputs": []
    },
    {
      "cell_type": "code",
      "metadata": {
        "id": "yu083cfF-c8x",
        "colab_type": "code",
        "colab": {}
      },
      "source": [
        "x1 = [1, 5, 2,1,3]\n"
      ],
      "execution_count": 0,
      "outputs": []
    },
    {
      "cell_type": "code",
      "metadata": {
        "id": "hnKr7y11-lY1",
        "colab_type": "code",
        "colab": {}
      },
      "source": [
        "start1 = time.time()\n",
        "PresortUniqueElement(x1)\n",
        "end1 = time.time()\n",
        "\n",
        "elp1 = end1-start1\n",
        "\n",
        "start2 = time.time()\n",
        "UniqueElement(x1)\n",
        "end2 = time.time()\n",
        "\n",
        "elp2 = end2-start2"
      ],
      "execution_count": 0,
      "outputs": []
    },
    {
      "cell_type": "code",
      "metadata": {
        "id": "RwZaNcKjipey",
        "colab_type": "code",
        "outputId": "b927917b-735c-47fd-98e2-10be05805f75",
        "colab": {
          "base_uri": "https://localhost:8080/",
          "height": 34
        }
      },
      "source": [
        "print(elp1,elp2)"
      ],
      "execution_count": 0,
      "outputs": [
        {
          "output_type": "stream",
          "text": [
            "4.1484832763671875e-05 2.47955322265625e-05\n"
          ],
          "name": "stdout"
        }
      ]
    },
    {
      "cell_type": "markdown",
      "metadata": {
        "id": "g7GDC2hK_XKS",
        "colab_type": "text"
      },
      "source": [
        "> PresortMode"
      ]
    },
    {
      "cell_type": "code",
      "metadata": {
        "id": "AJZzgtZj-2VA",
        "colab_type": "code",
        "colab": {}
      },
      "source": [
        "def mode(seq):\n",
        "  n = len(seq)\n",
        "  quickSort(seq,0,n)\n",
        "\n",
        "  i=0\n",
        "  modefrequency = 0\n",
        "  modevalue = 0\n",
        "\n",
        "  while i<=n-1:\n",
        "    runlength = 1\n",
        "    runvalue = seq[i]\n",
        "    while i+runlength<=n-1 and seq[i+runlength] == runvalue:\n",
        "      runlength += 1\n",
        "    if runlength > modefrequency:\n",
        "      modefrequency = runlength\n",
        "      modevalue = runvalue\n",
        "    i+=runlength\n",
        "  return modevalue"
      ],
      "execution_count": 0,
      "outputs": []
    },
    {
      "cell_type": "code",
      "metadata": {
        "id": "MZpbrS12ASUL",
        "colab_type": "code",
        "colab": {}
      },
      "source": [
        "seq = [6, 3, 2, 9, 1, 3, 6, 6, 2, 3, 1, 3, 2, 6, 9, 3, 2, 1, 2, 3]"
      ],
      "execution_count": 0,
      "outputs": []
    },
    {
      "cell_type": "code",
      "metadata": {
        "id": "jFy_s7i5Ai6H",
        "colab_type": "code",
        "outputId": "32898039-563b-40d8-8653-f178315bf3d5",
        "colab": {
          "base_uri": "https://localhost:8080/",
          "height": 34
        }
      },
      "source": [
        "mode(seq)"
      ],
      "execution_count": 0,
      "outputs": [
        {
          "output_type": "execute_result",
          "data": {
            "text/plain": [
              "3"
            ]
          },
          "metadata": {
            "tags": []
          },
          "execution_count": 75
        }
      ]
    },
    {
      "cell_type": "markdown",
      "metadata": {
        "id": "kL13ViImBtq9",
        "colab_type": "text"
      },
      "source": [
        "> LU Decomposition\n"
      ]
    },
    {
      "cell_type": "code",
      "metadata": {
        "id": "EA_kzLWXAkp9",
        "colab_type": "code",
        "colab": {}
      },
      "source": [
        "import numpy as np \n",
        "\n",
        "def luDecomposition(mat): \n",
        "  \n",
        "  n = len(mat)\n",
        "\n",
        "  lower = [[0 for x in range(n)] for y in range(n)]\n",
        "  upper = [[0 for x in range(n)] for y in range(n)]\n",
        "                  \n",
        "  for i in range(n): \n",
        "    # U \n",
        "    for k in range(i, n):  \n",
        "      sum = 0; \n",
        "      for j in range(i): \n",
        "        sum += (lower[i][j] * upper[j][k]); \n",
        "      upper[i][k] = mat[i][k] - sum; \n",
        "  \n",
        "    # L \n",
        "    for k in range(i, n): \n",
        "      if (i == k): \n",
        "        lower[i][i] = 1;\n",
        "      else: \n",
        "        sum = 0; \n",
        "        for j in range(i): \n",
        "          sum += (lower[k][j] * upper[j][i]); \n",
        "        lower[k][i] = int((mat[k][i] - sum) /upper[i][i]); \n",
        "  \n",
        "  print(\"Lower Triangular\\t\\tUpper Triangular\"); \n",
        "  \n",
        "  for i in range(n): \n",
        "          \n",
        "    # Lower \n",
        "    for j in range(n): \n",
        "      print(lower[i][j], end = \"\\t\");  \n",
        "    print(\"\", end = \"\\t\"); \n",
        "  \n",
        "    # Upper \n",
        "    for j in range(n): \n",
        "      print(upper[i][j], end = \"\\t\"); \n",
        "    print(\"\"); \n",
        "  "
      ],
      "execution_count": 0,
      "outputs": []
    },
    {
      "cell_type": "code",
      "metadata": {
        "id": "309lT0PdCUus",
        "colab_type": "code",
        "colab": {}
      },
      "source": [
        "mat = [[1, -1, -2], \n",
        "       [-4, 2, 3], \n",
        "       [-4, -2, 3]]; "
      ],
      "execution_count": 0,
      "outputs": []
    },
    {
      "cell_type": "code",
      "metadata": {
        "id": "HIU3XpWRCYes",
        "colab_type": "code",
        "outputId": "bdb111c9-ce09-48fc-d31f-73d0bb00beb7",
        "colab": {
          "base_uri": "https://localhost:8080/",
          "height": 85
        }
      },
      "source": [
        "luDecomposition(mat); "
      ],
      "execution_count": 0,
      "outputs": [
        {
          "output_type": "stream",
          "text": [
            "Lower Triangular\t\tUpper Triangular\n",
            "1\t0\t0\t\t1\t-1\t-2\t\n",
            "-4\t1\t0\t\t0\t-2\t-5\t\n",
            "-4\t3\t1\t\t0\t0\t10\t\n"
          ],
          "name": "stdout"
        }
      ]
    },
    {
      "cell_type": "markdown",
      "metadata": {
        "id": "HjRFsx_kEPrV",
        "colab_type": "text"
      },
      "source": [
        "> AVL Tree (Only insertion) [Visulaztion](www.cs.usfca.edu/~galles/visualization/AVLtree.html)"
      ]
    },
    {
      "cell_type": "code",
      "metadata": {
        "id": "cvoLy2yfESeP",
        "colab_type": "code",
        "colab": {}
      },
      "source": [
        "class TreeNode(object): \n",
        "\tdef __init__(self, val): \n",
        "\t\tself.val = val \n",
        "\t\tself.left = None\n",
        "\t\tself.right = None\n",
        "\t\tself.height = 1\n",
        "\n",
        "class AVL_Tree(object): \n",
        "\n",
        "\tdef insert(self, root, key): \n",
        "\t\n",
        "\t\tif not root: \n",
        "\t\t\treturn TreeNode(key) \n",
        "\t\telif key < root.val: \n",
        "\t\t\troot.left = self.insert(root.left, key) \n",
        "\t\telse: \n",
        "\t\t\troot.right = self.insert(root.right, key) \n",
        "\n",
        "\t\troot.height = 1 + max(self.getHeight(root.left), self.getHeight(root.right)) \n",
        "\n",
        "\t\tbalance = self.getBalance(root) \n",
        "\n",
        "    # LL Case\n",
        "\t\tif balance > 1 and key < root.left.val: \n",
        "\t\t\treturn self.rightRotate(root) \n",
        "\n",
        "    # LR Case\n",
        "\t\tif balance < -1 and key > root.right.val: \n",
        "\t\t\treturn self.leftRotate(root) \n",
        "\n",
        "    # RR Case\n",
        "\t\tif balance > 1 and key > root.left.val: \n",
        "\t\t\troot.left = self.leftRotate(root.left) \n",
        "\t\t\treturn self.rightRotate(root) \n",
        "\n",
        "    # RL Case\n",
        "\t\tif balance < -1 and key < root.right.val: \n",
        "\t\t\troot.right = self.rightRotate(root.right) \n",
        "\t\t\treturn self.leftRotate(root) \n",
        "\n",
        "\t\treturn root \n",
        "\n",
        "\tdef leftRotate(self, z): \n",
        "\n",
        "\t\ty = z.right \n",
        "\t\tT2 = y.left \n",
        "\n",
        "\t\ty.left = z \n",
        "\t\tz.right = T2 \n",
        "\n",
        "\t\tz.height = 1 + max(self.getHeight(z.left), self.getHeight(z.right)) \n",
        "\t\ty.height = 1 + max(self.getHeight(y.left), self.getHeight(y.right)) \n",
        "\n",
        "\t\treturn y \n",
        "\n",
        "\tdef rightRotate(self, z): \n",
        "\n",
        "\t\ty = z.left \n",
        "\t\tT3 = y.right \n",
        "\n",
        "\t\ty.right = z \n",
        "\t\tz.left = T3 \n",
        "\n",
        "\t\t# Update heights \n",
        "\t\tz.height = 1 + max(self.getHeight(z.left), \n",
        "\t\t\t\t\t\tself.getHeight(z.right)) \n",
        "\t\ty.height = 1 + max(self.getHeight(y.left), \n",
        "\t\t\t\t\t\tself.getHeight(y.right)) \n",
        "\n",
        "\t\treturn y \n",
        "\n",
        "\tdef getHeight(self, root): \n",
        "\t\tif not root: \n",
        "\t\t\treturn 0\n",
        "\n",
        "\t\treturn root.height \n",
        "\n",
        "\tdef getBalance(self, root): \n",
        "\t\tif not root: \n",
        "\t\t\treturn 0\n",
        "\n",
        "\t\treturn self.getHeight(root.left) - self.getHeight(root.right) \n",
        "\n",
        "\tdef preOrder(self, root): \n",
        "\n",
        "\t\tif not root: \n",
        "\t\t\treturn\n",
        "\n",
        "\t\tprint(\"{0} \".format(root.val), end=\"\") \n",
        "\t\tself.preOrder(root.left) \n",
        "\t\tself.preOrder(root.right) \n"
      ],
      "execution_count": 0,
      "outputs": []
    },
    {
      "cell_type": "code",
      "metadata": {
        "id": "k_a14DGZEUwZ",
        "colab_type": "code",
        "outputId": "75d0c195-b76f-4daa-fcc8-00ed7ea9ecbf",
        "colab": {
          "base_uri": "https://localhost:8080/",
          "height": 51
        }
      },
      "source": [
        "myTree = AVL_Tree() \n",
        "root = None\n",
        "\n",
        "root = myTree.insert(root, 10) \n",
        "root = myTree.insert(root, 20) \n",
        "root = myTree.insert(root, 30) \n",
        "root = myTree.insert(root, 40) \n",
        "root = myTree.insert(root, 50) \n",
        "root = myTree.insert(root, 25) \n",
        "\n",
        "\n",
        "\"\"\"The constructed AVL Tree would be \n",
        "\t\t 30 \n",
        "\t\t/ \\ \n",
        "\t 20 40 \n",
        "\t/ \\\t \\ \n",
        "10 25   50\n",
        "\n",
        "\"\"\"\n",
        "\n",
        "print(\"Preorder traversal of the\", \"constructed AVL tree is\") \n",
        "myTree.preOrder(root) \n",
        "print() \n"
      ],
      "execution_count": 0,
      "outputs": [
        {
          "output_type": "stream",
          "text": [
            "Preorder traversal of the constructed AVL tree is\n",
            "30 20 10 25 40 50 \n"
          ],
          "name": "stdout"
        }
      ]
    },
    {
      "cell_type": "markdown",
      "metadata": {
        "id": "MIAK8VEwD-AO",
        "colab_type": "text"
      },
      "source": [
        "- Representation Change"
      ]
    },
    {
      "cell_type": "markdown",
      "metadata": {
        "id": "EceJMRn1Fbxh",
        "colab_type": "text"
      },
      "source": [
        "> 2-3 Trees [Animation](http://cs.armstrong.edu/liang/animation/web/24Tree.html)"
      ]
    },
    {
      "cell_type": "code",
      "metadata": {
        "id": "VEn-NmSwDBw1",
        "colab_type": "code",
        "colab": {}
      },
      "source": [
        "import numpy as np\n",
        "from bokeh.plotting import figure, show, output_notebook\n",
        "from bokeh.io import push_notebook\n",
        "from time import sleep\n",
        "\n",
        "class Node:\n",
        "    def __init__(self, value, left=None, right=None, red=False):\n",
        "        self.value = value\n",
        "        self.left = left\n",
        "        self.right = right\n",
        "        self.red = red\n",
        "\n",
        "    @staticmethod\n",
        "    def red(node):\n",
        "        return node and node.red\n",
        "\n",
        "    def rotate_left(self):\n",
        "        if not Node.red(self.left) and Node.red(self.right):\n",
        "            child = self.right\n",
        "            self.right, child.left = child.left, self\n",
        "            self.red, child.red = True, self.red\n",
        "            return child\n",
        "        else:\n",
        "            return self\n",
        "\n",
        "    def rotate_right(self):\n",
        "        if Node.red(self.left) and Node.red(self.left.left):\n",
        "            child = self.left\n",
        "            self.left, child.right = child.right, self\n",
        "            self.red, child.red = True, self.red\n",
        "            return child\n",
        "        else:\n",
        "            return self\n",
        "    \n",
        "    def flip_colors(self):\n",
        "        if Node.red(self.left) and Node.red(self.right):\n",
        "            self.red, self.left.red, self.right.red = True, False, False\n",
        "\n",
        "def insert(node, value, root=True):\n",
        "    if not node:\n",
        "        return Node(value, red=not root)\n",
        "    \n",
        "    # insert value\n",
        "    if value == node.value:\n",
        "        pass\n",
        "    elif value < node.value:\n",
        "        node.left = insert(node.left, value, root=False)\n",
        "    else:\n",
        "        node.right = insert(node.right, value, root=False)\n",
        "    \n",
        "    # update tree w.r.t invariants\n",
        "    node = node.rotate_left()\n",
        "    node = node.rotate_right()\n",
        "    node.flip_colors()\n",
        "\n",
        "    # keep root black\n",
        "    if root:\n",
        "        node.red = False\n",
        "\n",
        "    return node\n",
        "\n",
        "def draw(node, red, black, xlo=0, xhi=1, x=.5, y=0):\n",
        "    if node:\n",
        "        x_, y_ = (xlo + xhi) / 2, y - 1\n",
        "        (red if node.red else black).append([x, y, x_, y_])\n",
        "        draw(node.left, red, black, xlo, x_, x_, y_)\n",
        "        draw(node.right, red, black, x_, xhi, x_, y_)"
      ],
      "execution_count": 0,
      "outputs": []
    },
    {
      "cell_type": "code",
      "metadata": {
        "id": "3skA-GEnGgS5",
        "colab_type": "code",
        "outputId": "155fe0f3-c4a2-4e5a-b814-61cfbbdf114a",
        "colab": {
          "base_uri": "https://localhost:8080/",
          "height": 417
        }
      },
      "source": [
        "root = None\n",
        "for i in range(20):\n",
        "    root = insert(root, i)\n",
        "\n",
        "\n",
        "output_notebook()\n",
        "\n",
        "# get plot data\n",
        "red, black = [], []\n",
        "draw(root, red, black)\n",
        "\n",
        "# plot\n",
        "plot = figure(plot_height=400, plot_width=800)\n",
        "plot.axis.visible = False\n",
        "plot.grid.visible = False\n",
        "\n",
        "red_segment = plot.segment(*zip(*red), color='#ff0000')\n",
        "black_segment = plot.segment(*zip(*black), color='#000000')\n",
        "\n",
        "handle = show(plot, notebook_handle=True)\n",
        "\n",
        "for _ in range(100):\n",
        "    for i in np.random.randint(0, 1000, 5):\n",
        "        root = insert(root, i)\n",
        "\n",
        "    red, black = [], []\n",
        "    draw(root, red, black)\n",
        "\n",
        "    x0, y0, x1, y1 = red and zip(*red) or [tuple()] * 4\n",
        "    red_segment.data_source.data.update({\n",
        "        'x0': x0, 'y0': y0, 'x1': x1, 'y1': y1\n",
        "    })\n",
        "    x0, y0, x1, y1 = black and zip(*black) or [tuple()] * 4\n",
        "    black_segment.data_source.data.update({\n",
        "        'x0': x0, 'y0': y0, 'x1': x1, 'y1': y1\n",
        "    })\n",
        "\n",
        "    push_notebook()\n",
        "    sleep(.1)"
      ],
      "execution_count": 0,
      "outputs": [
        {
          "output_type": "display_data",
          "data": {
            "application/javascript": [
              "\n",
              "(function(root) {\n",
              "  function now() {\n",
              "    return new Date();\n",
              "  }\n",
              "\n",
              "  var force = true;\n",
              "\n",
              "  if (typeof root._bokeh_onload_callbacks === \"undefined\" || force === true) {\n",
              "    root._bokeh_onload_callbacks = [];\n",
              "    root._bokeh_is_loading = undefined;\n",
              "  }\n",
              "\n",
              "  var JS_MIME_TYPE = 'application/javascript';\n",
              "  var HTML_MIME_TYPE = 'text/html';\n",
              "  var EXEC_MIME_TYPE = 'application/vnd.bokehjs_exec.v0+json';\n",
              "  var CLASS_NAME = 'output_bokeh rendered_html';\n",
              "\n",
              "  /**\n",
              "   * Render data to the DOM node\n",
              "   */\n",
              "  function render(props, node) {\n",
              "    var script = document.createElement(\"script\");\n",
              "    node.appendChild(script);\n",
              "  }\n",
              "\n",
              "  /**\n",
              "   * Handle when an output is cleared or removed\n",
              "   */\n",
              "  function handleClearOutput(event, handle) {\n",
              "    var cell = handle.cell;\n",
              "\n",
              "    var id = cell.output_area._bokeh_element_id;\n",
              "    var server_id = cell.output_area._bokeh_server_id;\n",
              "    // Clean up Bokeh references\n",
              "    if (id != null && id in Bokeh.index) {\n",
              "      Bokeh.index[id].model.document.clear();\n",
              "      delete Bokeh.index[id];\n",
              "    }\n",
              "\n",
              "    if (server_id !== undefined) {\n",
              "      // Clean up Bokeh references\n",
              "      var cmd = \"from bokeh.io.state import curstate; print(curstate().uuid_to_server['\" + server_id + \"'].get_sessions()[0].document.roots[0]._id)\";\n",
              "      cell.notebook.kernel.execute(cmd, {\n",
              "        iopub: {\n",
              "          output: function(msg) {\n",
              "            var id = msg.content.text.trim();\n",
              "            if (id in Bokeh.index) {\n",
              "              Bokeh.index[id].model.document.clear();\n",
              "              delete Bokeh.index[id];\n",
              "            }\n",
              "          }\n",
              "        }\n",
              "      });\n",
              "      // Destroy server and session\n",
              "      var cmd = \"import bokeh.io.notebook as ion; ion.destroy_server('\" + server_id + \"')\";\n",
              "      cell.notebook.kernel.execute(cmd);\n",
              "    }\n",
              "  }\n",
              "\n",
              "  /**\n",
              "   * Handle when a new output is added\n",
              "   */\n",
              "  function handleAddOutput(event, handle) {\n",
              "    var output_area = handle.output_area;\n",
              "    var output = handle.output;\n",
              "\n",
              "    // limit handleAddOutput to display_data with EXEC_MIME_TYPE content only\n",
              "    if ((output.output_type != \"display_data\") || (!output.data.hasOwnProperty(EXEC_MIME_TYPE))) {\n",
              "      return\n",
              "    }\n",
              "\n",
              "    var toinsert = output_area.element.find(\".\" + CLASS_NAME.split(' ')[0]);\n",
              "\n",
              "    if (output.metadata[EXEC_MIME_TYPE][\"id\"] !== undefined) {\n",
              "      toinsert[toinsert.length - 1].firstChild.textContent = output.data[JS_MIME_TYPE];\n",
              "      // store reference to embed id on output_area\n",
              "      output_area._bokeh_element_id = output.metadata[EXEC_MIME_TYPE][\"id\"];\n",
              "    }\n",
              "    if (output.metadata[EXEC_MIME_TYPE][\"server_id\"] !== undefined) {\n",
              "      var bk_div = document.createElement(\"div\");\n",
              "      bk_div.innerHTML = output.data[HTML_MIME_TYPE];\n",
              "      var script_attrs = bk_div.children[0].attributes;\n",
              "      for (var i = 0; i < script_attrs.length; i++) {\n",
              "        toinsert[toinsert.length - 1].firstChild.setAttribute(script_attrs[i].name, script_attrs[i].value);\n",
              "      }\n",
              "      // store reference to server id on output_area\n",
              "      output_area._bokeh_server_id = output.metadata[EXEC_MIME_TYPE][\"server_id\"];\n",
              "    }\n",
              "  }\n",
              "\n",
              "  function register_renderer(events, OutputArea) {\n",
              "\n",
              "    function append_mime(data, metadata, element) {\n",
              "      // create a DOM node to render to\n",
              "      var toinsert = this.create_output_subarea(\n",
              "        metadata,\n",
              "        CLASS_NAME,\n",
              "        EXEC_MIME_TYPE\n",
              "      );\n",
              "      this.keyboard_manager.register_events(toinsert);\n",
              "      // Render to node\n",
              "      var props = {data: data, metadata: metadata[EXEC_MIME_TYPE]};\n",
              "      render(props, toinsert[toinsert.length - 1]);\n",
              "      element.append(toinsert);\n",
              "      return toinsert\n",
              "    }\n",
              "\n",
              "    /* Handle when an output is cleared or removed */\n",
              "    events.on('clear_output.CodeCell', handleClearOutput);\n",
              "    events.on('delete.Cell', handleClearOutput);\n",
              "\n",
              "    /* Handle when a new output is added */\n",
              "    events.on('output_added.OutputArea', handleAddOutput);\n",
              "\n",
              "    /**\n",
              "     * Register the mime type and append_mime function with output_area\n",
              "     */\n",
              "    OutputArea.prototype.register_mime_type(EXEC_MIME_TYPE, append_mime, {\n",
              "      /* Is output safe? */\n",
              "      safe: true,\n",
              "      /* Index of renderer in `output_area.display_order` */\n",
              "      index: 0\n",
              "    });\n",
              "  }\n",
              "\n",
              "  // register the mime type if in Jupyter Notebook environment and previously unregistered\n",
              "  if (root.Jupyter !== undefined) {\n",
              "    var events = require('base/js/events');\n",
              "    var OutputArea = require('notebook/js/outputarea').OutputArea;\n",
              "\n",
              "    if (OutputArea.prototype.mime_types().indexOf(EXEC_MIME_TYPE) == -1) {\n",
              "      register_renderer(events, OutputArea);\n",
              "    }\n",
              "  }\n",
              "\n",
              "  \n",
              "  if (typeof (root._bokeh_timeout) === \"undefined\" || force === true) {\n",
              "    root._bokeh_timeout = Date.now() + 5000;\n",
              "    root._bokeh_failed_load = false;\n",
              "  }\n",
              "\n",
              "  var NB_LOAD_WARNING = {'data': {'text/html':\n",
              "     \"<div style='background-color: #fdd'>\\n\"+\n",
              "     \"<p>\\n\"+\n",
              "     \"BokehJS does not appear to have successfully loaded. If loading BokehJS from CDN, this \\n\"+\n",
              "     \"may be due to a slow or bad network connection. Possible fixes:\\n\"+\n",
              "     \"</p>\\n\"+\n",
              "     \"<ul>\\n\"+\n",
              "     \"<li>re-rerun `output_notebook()` to attempt to load from CDN again, or</li>\\n\"+\n",
              "     \"<li>use INLINE resources instead, as so:</li>\\n\"+\n",
              "     \"</ul>\\n\"+\n",
              "     \"<code>\\n\"+\n",
              "     \"from bokeh.resources import INLINE\\n\"+\n",
              "     \"output_notebook(resources=INLINE)\\n\"+\n",
              "     \"</code>\\n\"+\n",
              "     \"</div>\"}};\n",
              "\n",
              "  function display_loaded() {\n",
              "    var el = document.getElementById(null);\n",
              "    if (el != null) {\n",
              "      el.textContent = \"BokehJS is loading...\";\n",
              "    }\n",
              "    if (root.Bokeh !== undefined) {\n",
              "      if (el != null) {\n",
              "        el.textContent = \"BokehJS \" + root.Bokeh.version + \" successfully loaded.\";\n",
              "      }\n",
              "    } else if (Date.now() < root._bokeh_timeout) {\n",
              "      setTimeout(display_loaded, 100)\n",
              "    }\n",
              "  }\n",
              "\n",
              "\n",
              "  function run_callbacks() {\n",
              "    try {\n",
              "      root._bokeh_onload_callbacks.forEach(function(callback) {\n",
              "        if (callback != null)\n",
              "          callback();\n",
              "      });\n",
              "    } finally {\n",
              "      delete root._bokeh_onload_callbacks\n",
              "    }\n",
              "    console.debug(\"Bokeh: all callbacks have finished\");\n",
              "  }\n",
              "\n",
              "  function load_libs(css_urls, js_urls, callback) {\n",
              "    if (css_urls == null) css_urls = [];\n",
              "    if (js_urls == null) js_urls = [];\n",
              "\n",
              "    root._bokeh_onload_callbacks.push(callback);\n",
              "    if (root._bokeh_is_loading > 0) {\n",
              "      console.debug(\"Bokeh: BokehJS is being loaded, scheduling callback at\", now());\n",
              "      return null;\n",
              "    }\n",
              "    if (js_urls == null || js_urls.length === 0) {\n",
              "      run_callbacks();\n",
              "      return null;\n",
              "    }\n",
              "    console.debug(\"Bokeh: BokehJS not loaded, scheduling load and callback at\", now());\n",
              "    root._bokeh_is_loading = css_urls.length + js_urls.length;\n",
              "\n",
              "    function on_load() {\n",
              "      root._bokeh_is_loading--;\n",
              "      if (root._bokeh_is_loading === 0) {\n",
              "        console.debug(\"Bokeh: all BokehJS libraries/stylesheets loaded\");\n",
              "        run_callbacks()\n",
              "      }\n",
              "    }\n",
              "\n",
              "    function on_error() {\n",
              "      console.error(\"failed to load \" + url);\n",
              "    }\n",
              "\n",
              "    for (var i = 0; i < css_urls.length; i++) {\n",
              "      var url = css_urls[i];\n",
              "      const element = document.createElement(\"link\");\n",
              "      element.onload = on_load;\n",
              "      element.onerror = on_error;\n",
              "      element.rel = \"stylesheet\";\n",
              "      element.type = \"text/css\";\n",
              "      element.href = url;\n",
              "      console.debug(\"Bokeh: injecting link tag for BokehJS stylesheet: \", url);\n",
              "      document.body.appendChild(element);\n",
              "    }\n",
              "\n",
              "    for (var i = 0; i < js_urls.length; i++) {\n",
              "      var url = js_urls[i];\n",
              "      var element = document.createElement('script');\n",
              "      element.onload = on_load;\n",
              "      element.onerror = on_error;\n",
              "      element.async = false;\n",
              "      element.src = url;\n",
              "      console.debug(\"Bokeh: injecting script tag for BokehJS library: \", url);\n",
              "      document.head.appendChild(element);\n",
              "    }\n",
              "  };\n",
              "\n",
              "  function inject_raw_css(css) {\n",
              "    const element = document.createElement(\"style\");\n",
              "    element.appendChild(document.createTextNode(css));\n",
              "    document.body.appendChild(element);\n",
              "  }\n",
              "\n",
              "  \n",
              "  var js_urls = [\"https://cdn.pydata.org/bokeh/release/bokeh-1.4.0.min.js\", \"https://cdn.pydata.org/bokeh/release/bokeh-widgets-1.4.0.min.js\", \"https://cdn.pydata.org/bokeh/release/bokeh-tables-1.4.0.min.js\", \"https://cdn.pydata.org/bokeh/release/bokeh-gl-1.4.0.min.js\"];\n",
              "  var css_urls = [];\n",
              "  \n",
              "\n",
              "  var inline_js = [\n",
              "    function(Bokeh) {\n",
              "      Bokeh.set_log_level(\"info\");\n",
              "    },\n",
              "    function(Bokeh) {\n",
              "    \n",
              "    \n",
              "    }\n",
              "  ];\n",
              "\n",
              "  function run_inline_js() {\n",
              "    \n",
              "    if (root.Bokeh !== undefined || force === true) {\n",
              "      \n",
              "    for (var i = 0; i < inline_js.length; i++) {\n",
              "      inline_js[i].call(root, root.Bokeh);\n",
              "    }\n",
              "    } else if (Date.now() < root._bokeh_timeout) {\n",
              "      setTimeout(run_inline_js, 100);\n",
              "    } else if (!root._bokeh_failed_load) {\n",
              "      console.log(\"Bokeh: BokehJS failed to load within specified timeout.\");\n",
              "      root._bokeh_failed_load = true;\n",
              "    } else if (force !== true) {\n",
              "      var cell = $(document.getElementById(null)).parents('.cell').data().cell;\n",
              "      cell.output_area.append_execute_result(NB_LOAD_WARNING)\n",
              "    }\n",
              "\n",
              "  }\n",
              "\n",
              "  if (root._bokeh_is_loading === 0) {\n",
              "    console.debug(\"Bokeh: BokehJS loaded, going straight to plotting\");\n",
              "    run_inline_js();\n",
              "  } else {\n",
              "    load_libs(css_urls, js_urls, function() {\n",
              "      console.debug(\"Bokeh: BokehJS plotting callback run at\", now());\n",
              "      run_inline_js();\n",
              "    });\n",
              "  }\n",
              "}(window));"
            ],
            "application/vnd.bokehjs_load.v0+json": "\n(function(root) {\n  function now() {\n    return new Date();\n  }\n\n  var force = true;\n\n  if (typeof root._bokeh_onload_callbacks === \"undefined\" || force === true) {\n    root._bokeh_onload_callbacks = [];\n    root._bokeh_is_loading = undefined;\n  }\n\n  \n\n  \n  if (typeof (root._bokeh_timeout) === \"undefined\" || force === true) {\n    root._bokeh_timeout = Date.now() + 5000;\n    root._bokeh_failed_load = false;\n  }\n\n  var NB_LOAD_WARNING = {'data': {'text/html':\n     \"<div style='background-color: #fdd'>\\n\"+\n     \"<p>\\n\"+\n     \"BokehJS does not appear to have successfully loaded. If loading BokehJS from CDN, this \\n\"+\n     \"may be due to a slow or bad network connection. Possible fixes:\\n\"+\n     \"</p>\\n\"+\n     \"<ul>\\n\"+\n     \"<li>re-rerun `output_notebook()` to attempt to load from CDN again, or</li>\\n\"+\n     \"<li>use INLINE resources instead, as so:</li>\\n\"+\n     \"</ul>\\n\"+\n     \"<code>\\n\"+\n     \"from bokeh.resources import INLINE\\n\"+\n     \"output_notebook(resources=INLINE)\\n\"+\n     \"</code>\\n\"+\n     \"</div>\"}};\n\n  function display_loaded() {\n    var el = document.getElementById(null);\n    if (el != null) {\n      el.textContent = \"BokehJS is loading...\";\n    }\n    if (root.Bokeh !== undefined) {\n      if (el != null) {\n        el.textContent = \"BokehJS \" + root.Bokeh.version + \" successfully loaded.\";\n      }\n    } else if (Date.now() < root._bokeh_timeout) {\n      setTimeout(display_loaded, 100)\n    }\n  }\n\n\n  function run_callbacks() {\n    try {\n      root._bokeh_onload_callbacks.forEach(function(callback) {\n        if (callback != null)\n          callback();\n      });\n    } finally {\n      delete root._bokeh_onload_callbacks\n    }\n    console.debug(\"Bokeh: all callbacks have finished\");\n  }\n\n  function load_libs(css_urls, js_urls, callback) {\n    if (css_urls == null) css_urls = [];\n    if (js_urls == null) js_urls = [];\n\n    root._bokeh_onload_callbacks.push(callback);\n    if (root._bokeh_is_loading > 0) {\n      console.debug(\"Bokeh: BokehJS is being loaded, scheduling callback at\", now());\n      return null;\n    }\n    if (js_urls == null || js_urls.length === 0) {\n      run_callbacks();\n      return null;\n    }\n    console.debug(\"Bokeh: BokehJS not loaded, scheduling load and callback at\", now());\n    root._bokeh_is_loading = css_urls.length + js_urls.length;\n\n    function on_load() {\n      root._bokeh_is_loading--;\n      if (root._bokeh_is_loading === 0) {\n        console.debug(\"Bokeh: all BokehJS libraries/stylesheets loaded\");\n        run_callbacks()\n      }\n    }\n\n    function on_error() {\n      console.error(\"failed to load \" + url);\n    }\n\n    for (var i = 0; i < css_urls.length; i++) {\n      var url = css_urls[i];\n      const element = document.createElement(\"link\");\n      element.onload = on_load;\n      element.onerror = on_error;\n      element.rel = \"stylesheet\";\n      element.type = \"text/css\";\n      element.href = url;\n      console.debug(\"Bokeh: injecting link tag for BokehJS stylesheet: \", url);\n      document.body.appendChild(element);\n    }\n\n    for (var i = 0; i < js_urls.length; i++) {\n      var url = js_urls[i];\n      var element = document.createElement('script');\n      element.onload = on_load;\n      element.onerror = on_error;\n      element.async = false;\n      element.src = url;\n      console.debug(\"Bokeh: injecting script tag for BokehJS library: \", url);\n      document.head.appendChild(element);\n    }\n  };\n\n  function inject_raw_css(css) {\n    const element = document.createElement(\"style\");\n    element.appendChild(document.createTextNode(css));\n    document.body.appendChild(element);\n  }\n\n  \n  var js_urls = [\"https://cdn.pydata.org/bokeh/release/bokeh-1.4.0.min.js\", \"https://cdn.pydata.org/bokeh/release/bokeh-widgets-1.4.0.min.js\", \"https://cdn.pydata.org/bokeh/release/bokeh-tables-1.4.0.min.js\", \"https://cdn.pydata.org/bokeh/release/bokeh-gl-1.4.0.min.js\"];\n  var css_urls = [];\n  \n\n  var inline_js = [\n    function(Bokeh) {\n      Bokeh.set_log_level(\"info\");\n    },\n    function(Bokeh) {\n    \n    \n    }\n  ];\n\n  function run_inline_js() {\n    \n    if (root.Bokeh !== undefined || force === true) {\n      \n    for (var i = 0; i < inline_js.length; i++) {\n      inline_js[i].call(root, root.Bokeh);\n    }\n    } else if (Date.now() < root._bokeh_timeout) {\n      setTimeout(run_inline_js, 100);\n    } else if (!root._bokeh_failed_load) {\n      console.log(\"Bokeh: BokehJS failed to load within specified timeout.\");\n      root._bokeh_failed_load = true;\n    } else if (force !== true) {\n      var cell = $(document.getElementById(null)).parents('.cell').data().cell;\n      cell.output_area.append_execute_result(NB_LOAD_WARNING)\n    }\n\n  }\n\n  if (root._bokeh_is_loading === 0) {\n    console.debug(\"Bokeh: BokehJS loaded, going straight to plotting\");\n    run_inline_js();\n  } else {\n    load_libs(css_urls, js_urls, function() {\n      console.debug(\"Bokeh: BokehJS plotting callback run at\", now());\n      run_inline_js();\n    });\n  }\n}(window));"
          },
          "metadata": {
            "tags": []
          }
        },
        {
          "output_type": "display_data",
          "data": {
            "text/html": [
              "\n",
              "\n",
              "\n",
              "\n",
              "\n",
              "\n",
              "  <div class=\"bk-root\" id=\"dc978a0c-4cf5-4483-bf27-489311e0b2b1\" data-root-id=\"1001\"></div>\n"
            ]
          },
          "metadata": {
            "tags": []
          }
        },
        {
          "output_type": "display_data",
          "data": {
            "application/javascript": [
              "(function(root) {\n",
              "  function embed_document(root) {\n",
              "    \n",
              "  var docs_json = {\"41244651-8958-4f87-a04f-1c59fbfa79c0\":{\"roots\":{\"references\":[{\"attributes\":{\"below\":[{\"id\":\"1010\",\"type\":\"LinearAxis\"}],\"center\":[{\"id\":\"1014\",\"type\":\"Grid\"},{\"id\":\"1019\",\"type\":\"Grid\"}],\"left\":[{\"id\":\"1015\",\"type\":\"LinearAxis\"}],\"plot_height\":400,\"plot_width\":800,\"renderers\":[{\"id\":\"1036\",\"type\":\"GlyphRenderer\"},{\"id\":\"1041\",\"type\":\"GlyphRenderer\"}],\"title\":{\"id\":\"1044\",\"type\":\"Title\"},\"toolbar\":{\"id\":\"1026\",\"type\":\"Toolbar\"},\"x_range\":{\"id\":\"1002\",\"type\":\"DataRange1d\"},\"x_scale\":{\"id\":\"1006\",\"type\":\"LinearScale\"},\"y_range\":{\"id\":\"1004\",\"type\":\"DataRange1d\"},\"y_scale\":{\"id\":\"1008\",\"type\":\"LinearScale\"}},\"id\":\"1001\",\"subtype\":\"Figure\",\"type\":\"Plot\"},{\"attributes\":{},\"id\":\"1023\",\"type\":\"SaveTool\"},{\"attributes\":{\"formatter\":{\"id\":\"1047\",\"type\":\"BasicTickFormatter\"},\"ticker\":{\"id\":\"1016\",\"type\":\"BasicTicker\"},\"visible\":false},\"id\":\"1015\",\"type\":\"LinearAxis\"},{\"attributes\":{\"active_drag\":\"auto\",\"active_inspect\":\"auto\",\"active_multi\":null,\"active_scroll\":\"auto\",\"active_tap\":\"auto\",\"tools\":[{\"id\":\"1020\",\"type\":\"PanTool\"},{\"id\":\"1021\",\"type\":\"WheelZoomTool\"},{\"id\":\"1022\",\"type\":\"BoxZoomTool\"},{\"id\":\"1023\",\"type\":\"SaveTool\"},{\"id\":\"1024\",\"type\":\"ResetTool\"},{\"id\":\"1025\",\"type\":\"HelpTool\"}]},\"id\":\"1026\",\"type\":\"Toolbar\"},{\"attributes\":{\"callback\":null,\"data\":{\"x0\":[0.5,0.5,0.25,0.125,0.125,0.25,0.375,0.375,0.5,0.625,0.5625,0.5625,0.625,0.6875,0.6875,0.75,0.875,0.875],\"x1\":[0.5,0.25,0.125,0.0625,0.1875,0.375,0.3125,0.4375,0.75,0.5625,0.53125,0.59375,0.6875,0.65625,0.71875,0.875,0.8125,0.9375],\"y0\":[0,-1,-2,-3,-3,-2,-3,-3,-1,-3,-4,-4,-3,-4,-4,-2,-3,-3],\"y1\":[-1,-2,-3,-4,-4,-3,-4,-4,-2,-4,-5,-5,-4,-5,-5,-3,-4,-4]},\"selected\":{\"id\":\"1052\",\"type\":\"Selection\"},\"selection_policy\":{\"id\":\"1051\",\"type\":\"UnionRenderers\"}},\"id\":\"1038\",\"type\":\"ColumnDataSource\"},{\"attributes\":{},\"id\":\"1045\",\"type\":\"BasicTickFormatter\"},{\"attributes\":{\"callback\":null,\"data\":{\"x0\":[0.75,0.9375],\"x1\":[0.625,0.90625],\"y0\":[-2,-4],\"y1\":[-3,-5]},\"selected\":{\"id\":\"1050\",\"type\":\"Selection\"},\"selection_policy\":{\"id\":\"1049\",\"type\":\"UnionRenderers\"}},\"id\":\"1033\",\"type\":\"ColumnDataSource\"},{\"attributes\":{\"callback\":null},\"id\":\"1002\",\"type\":\"DataRange1d\"},{\"attributes\":{\"text\":\"\"},\"id\":\"1044\",\"type\":\"Title\"},{\"attributes\":{},\"id\":\"1020\",\"type\":\"PanTool\"},{\"attributes\":{},\"id\":\"1047\",\"type\":\"BasicTickFormatter\"},{\"attributes\":{\"source\":{\"id\":\"1033\",\"type\":\"ColumnDataSource\"}},\"id\":\"1037\",\"type\":\"CDSView\"},{\"attributes\":{},\"id\":\"1021\",\"type\":\"WheelZoomTool\"},{\"attributes\":{},\"id\":\"1050\",\"type\":\"Selection\"},{\"attributes\":{\"line_alpha\":{\"value\":0.1},\"line_color\":{\"value\":\"#1f77b4\"},\"x0\":{\"field\":\"x0\"},\"x1\":{\"field\":\"x1\"},\"y0\":{\"field\":\"y0\"},\"y1\":{\"field\":\"y1\"}},\"id\":\"1035\",\"type\":\"Segment\"},{\"attributes\":{\"overlay\":{\"id\":\"1053\",\"type\":\"BoxAnnotation\"}},\"id\":\"1022\",\"type\":\"BoxZoomTool\"},{\"attributes\":{},\"id\":\"1049\",\"type\":\"UnionRenderers\"},{\"attributes\":{},\"id\":\"1051\",\"type\":\"UnionRenderers\"},{\"attributes\":{\"line_color\":{\"value\":\"#ff0000\"},\"x0\":{\"field\":\"x0\"},\"x1\":{\"field\":\"x1\"},\"y0\":{\"field\":\"y0\"},\"y1\":{\"field\":\"y1\"}},\"id\":\"1034\",\"type\":\"Segment\"},{\"attributes\":{},\"id\":\"1024\",\"type\":\"ResetTool\"},{\"attributes\":{},\"id\":\"1052\",\"type\":\"Selection\"},{\"attributes\":{},\"id\":\"1025\",\"type\":\"HelpTool\"},{\"attributes\":{\"bottom_units\":\"screen\",\"fill_alpha\":{\"value\":0.5},\"fill_color\":{\"value\":\"lightgrey\"},\"left_units\":\"screen\",\"level\":\"overlay\",\"line_alpha\":{\"value\":1.0},\"line_color\":{\"value\":\"black\"},\"line_dash\":[4,4],\"line_width\":{\"value\":2},\"render_mode\":\"css\",\"right_units\":\"screen\",\"top_units\":\"screen\"},\"id\":\"1053\",\"type\":\"BoxAnnotation\"},{\"attributes\":{\"callback\":null},\"id\":\"1004\",\"type\":\"DataRange1d\"},{\"attributes\":{\"data_source\":{\"id\":\"1033\",\"type\":\"ColumnDataSource\"},\"glyph\":{\"id\":\"1034\",\"type\":\"Segment\"},\"hover_glyph\":null,\"muted_glyph\":null,\"nonselection_glyph\":{\"id\":\"1035\",\"type\":\"Segment\"},\"selection_glyph\":null,\"view\":{\"id\":\"1037\",\"type\":\"CDSView\"}},\"id\":\"1036\",\"type\":\"GlyphRenderer\"},{\"attributes\":{},\"id\":\"1016\",\"type\":\"BasicTicker\"},{\"attributes\":{},\"id\":\"1006\",\"type\":\"LinearScale\"},{\"attributes\":{},\"id\":\"1008\",\"type\":\"LinearScale\"},{\"attributes\":{\"line_color\":{\"value\":\"#000000\"},\"x0\":{\"field\":\"x0\"},\"x1\":{\"field\":\"x1\"},\"y0\":{\"field\":\"y0\"},\"y1\":{\"field\":\"y1\"}},\"id\":\"1039\",\"type\":\"Segment\"},{\"attributes\":{\"formatter\":{\"id\":\"1045\",\"type\":\"BasicTickFormatter\"},\"ticker\":{\"id\":\"1011\",\"type\":\"BasicTicker\"},\"visible\":false},\"id\":\"1010\",\"type\":\"LinearAxis\"},{\"attributes\":{\"line_alpha\":{\"value\":0.1},\"line_color\":{\"value\":\"#1f77b4\"},\"x0\":{\"field\":\"x0\"},\"x1\":{\"field\":\"x1\"},\"y0\":{\"field\":\"y0\"},\"y1\":{\"field\":\"y1\"}},\"id\":\"1040\",\"type\":\"Segment\"},{\"attributes\":{},\"id\":\"1011\",\"type\":\"BasicTicker\"},{\"attributes\":{\"data_source\":{\"id\":\"1038\",\"type\":\"ColumnDataSource\"},\"glyph\":{\"id\":\"1039\",\"type\":\"Segment\"},\"hover_glyph\":null,\"muted_glyph\":null,\"nonselection_glyph\":{\"id\":\"1040\",\"type\":\"Segment\"},\"selection_glyph\":null,\"view\":{\"id\":\"1042\",\"type\":\"CDSView\"}},\"id\":\"1041\",\"type\":\"GlyphRenderer\"},{\"attributes\":{\"ticker\":{\"id\":\"1011\",\"type\":\"BasicTicker\"},\"visible\":false},\"id\":\"1014\",\"type\":\"Grid\"},{\"attributes\":{\"source\":{\"id\":\"1038\",\"type\":\"ColumnDataSource\"}},\"id\":\"1042\",\"type\":\"CDSView\"},{\"attributes\":{\"dimension\":1,\"ticker\":{\"id\":\"1016\",\"type\":\"BasicTicker\"},\"visible\":false},\"id\":\"1019\",\"type\":\"Grid\"}],\"root_ids\":[\"1001\"]},\"title\":\"Bokeh Application\",\"version\":\"1.4.0\"}};\n",
              "  var render_items = [{\"docid\":\"41244651-8958-4f87-a04f-1c59fbfa79c0\",\"notebook_comms_target\":\"1054\",\"roots\":{\"1001\":\"dc978a0c-4cf5-4483-bf27-489311e0b2b1\"}}];\n",
              "  root.Bokeh.embed.embed_items_notebook(docs_json, render_items);\n",
              "\n",
              "  }\n",
              "  if (root.Bokeh !== undefined) {\n",
              "    embed_document(root);\n",
              "  } else {\n",
              "    var attempts = 0;\n",
              "    var timer = setInterval(function(root) {\n",
              "      if (root.Bokeh !== undefined) {\n",
              "        clearInterval(timer);\n",
              "        embed_document(root);\n",
              "      } else {\n",
              "        attempts++;\n",
              "        if (attempts > 100) {\n",
              "          clearInterval(timer);\n",
              "          console.log(\"Bokeh: ERROR: Unable to run BokehJS code because BokehJS library is missing\");\n",
              "        }\n",
              "      }\n",
              "    }, 10, root)\n",
              "  }\n",
              "})(window);"
            ],
            "application/vnd.bokehjs_exec.v0+json": ""
          },
          "metadata": {
            "tags": [],
            "application/vnd.bokehjs_exec.v0+json": {
              "id": "1001"
            }
          }
        }
      ]
    },
    {
      "cell_type": "markdown",
      "metadata": {
        "id": "0XdL_hArIQjZ",
        "colab_type": "text"
      },
      "source": [
        "- Problem reduction"
      ]
    },
    {
      "cell_type": "markdown",
      "metadata": {
        "id": "HuWdBR3YIWus",
        "colab_type": "text"
      },
      "source": [
        "> Find LCM"
      ]
    },
    {
      "cell_type": "code",
      "metadata": {
        "id": "n1n_zyRJIP9v",
        "colab_type": "code",
        "colab": {}
      },
      "source": [
        "def GCD(x, y): \n",
        "  \n",
        "   while(y): \n",
        "       x, y = y, x % y \n",
        "  \n",
        "   return x \n",
        "  \n",
        "    \n",
        "def LCM(m,n):\n",
        "    GCDV = GCD(m,n)\n",
        "    \n",
        "    return (m*n)/GCDV"
      ],
      "execution_count": 0,
      "outputs": []
    },
    {
      "cell_type": "code",
      "metadata": {
        "id": "LvvNhL9lGqqq",
        "colab_type": "code",
        "outputId": "cd6037f0-49a3-42d7-fe7c-50a9beb5a1c3",
        "colab": {
          "base_uri": "https://localhost:8080/",
          "height": 34
        }
      },
      "source": [
        "a = 48\n",
        "b = 60\n",
        "\n",
        "print(\"LCM of \"+str(a)+' and '+str(b)+' is '+str(LCM(a,b)))"
      ],
      "execution_count": 0,
      "outputs": [
        {
          "output_type": "stream",
          "text": [
            "LCM of 48 and 60 is 240.0\n"
          ],
          "name": "stdout"
        }
      ]
    },
    {
      "cell_type": "code",
      "metadata": {
        "id": "eK79QVxkI9kL",
        "colab_type": "code",
        "colab": {}
      },
      "source": [
        ""
      ],
      "execution_count": 0,
      "outputs": []
    },
    {
      "cell_type": "markdown",
      "metadata": {
        "id": "0jK30z96JOVw",
        "colab_type": "text"
      },
      "source": [
        "# Space and Time Trade-Offs"
      ]
    },
    {
      "cell_type": "markdown",
      "metadata": {
        "id": "mvAHfEzaJUnm",
        "colab_type": "text"
      },
      "source": [
        "- Input enhancement"
      ]
    },
    {
      "cell_type": "markdown",
      "metadata": {
        "id": "7KA6tixmJdox",
        "colab_type": "text"
      },
      "source": [
        "> Comparison counting sort"
      ]
    },
    {
      "cell_type": "code",
      "metadata": {
        "id": "9F0zK0NXJS_c",
        "colab_type": "code",
        "colab": {}
      },
      "source": [
        "def CCS(seq): # aka Comparison Counting Sort\n",
        "    #Initialize S and count \n",
        "    n = len(seq)\n",
        "    S = [0]*n\n",
        "    count = [0]*n\n",
        "    \n",
        "    print('----------------------------------------------------')\n",
        "    print('Array A[0..'+str(n-1)+']\\t | '+str(seq) + ' | ')\n",
        "    print('Initially \\t | '+str(count) + ' | ')\n",
        "    print('----------------------------------------------------')\n",
        "\n",
        "    #Count Sort\n",
        "    for i in range(n):\n",
        "        for j in range(i+1,n):\n",
        "            if seq[i]<seq[j]:\n",
        "                count[j] += 1\n",
        "            else:\n",
        "                count[i] += 1\n",
        "        \n",
        "        l = [ '' for k in count[0:i]]\n",
        "        r = [ k for k in count[i:]]\n",
        "        show = l+r\n",
        "        if(i == n-1):\n",
        "            print('Final State    \\t| '+str(count) + ' | ')\n",
        "        else:\n",
        "            print('After pass i = '+str(i)+' | '+str(show) + ' | ')\n",
        "\n",
        "    #Swap\n",
        "    for i in range(n):\n",
        "        S[count[i]] = seq[i]\n",
        "        \n",
        "    print('----------------------------------------------------')\n",
        "    print('Array S[0..'+str(n-1)+']\\t | '+str(S) + ' | SWAP')\n",
        "    print('----------------------------------------------------')\n",
        "    return S\n"
      ],
      "execution_count": 0,
      "outputs": []
    },
    {
      "cell_type": "code",
      "metadata": {
        "id": "N8ieunk7JmAv",
        "colab_type": "code",
        "colab": {}
      },
      "source": [
        "A = [16,27,15,23,64,93,25,11]"
      ],
      "execution_count": 0,
      "outputs": []
    },
    {
      "cell_type": "code",
      "metadata": {
        "id": "3e_9xIwtJl8g",
        "colab_type": "code",
        "outputId": "dfd9ef50-abbe-4a4e-a3af-e27926181c18",
        "colab": {
          "base_uri": "https://localhost:8080/",
          "height": 289
        }
      },
      "source": [
        "CCS(A)"
      ],
      "execution_count": 0,
      "outputs": [
        {
          "output_type": "stream",
          "text": [
            "----------------------------------------------------\n",
            "Array A[0..7]\t | [16, 27, 15, 23, 64, 93, 25, 11] | \n",
            "Initially \t | [0, 0, 0, 0, 0, 0, 0, 0] | \n",
            "----------------------------------------------------\n",
            "After pass i = 0 | [2, 1, 0, 1, 1, 1, 1, 0] | \n",
            "After pass i = 1 | ['', 5, 0, 1, 2, 2, 1, 0] | \n",
            "After pass i = 2 | ['', '', 1, 2, 3, 3, 2, 0] | \n",
            "After pass i = 3 | ['', '', '', 3, 4, 4, 3, 0] | \n",
            "After pass i = 4 | ['', '', '', '', 6, 5, 3, 0] | \n",
            "After pass i = 5 | ['', '', '', '', '', 7, 3, 0] | \n",
            "After pass i = 6 | ['', '', '', '', '', '', 4, 0] | \n",
            "Final State    \t| [2, 5, 1, 3, 6, 7, 4, 0] | \n",
            "----------------------------------------------------\n",
            "Array S[0..7]\t | [11, 15, 16, 23, 25, 27, 64, 93] | SWAP\n",
            "----------------------------------------------------\n"
          ],
          "name": "stdout"
        },
        {
          "output_type": "execute_result",
          "data": {
            "text/plain": [
              "[11, 15, 16, 23, 25, 27, 64, 93]"
            ]
          },
          "metadata": {
            "tags": []
          },
          "execution_count": 200
        }
      ]
    },
    {
      "cell_type": "markdown",
      "metadata": {
        "id": "zGDevEgRJlK6",
        "colab_type": "text"
      },
      "source": [
        "> Distribution counting sort"
      ]
    },
    {
      "cell_type": "code",
      "metadata": {
        "id": "xEl2vPyqJyIC",
        "colab_type": "code",
        "colab": {}
      },
      "source": [
        "def DCS(A,l,u): #aka Distribution Counting Sort\n",
        "    if l>u:\n",
        "        print('Range error') # Check the range first\n",
        "    \n",
        "    else:\n",
        "        #Initialize S and D \n",
        "        n = len(A)\n",
        "        D = [0]*(u-l+1)\n",
        "        S = [0]*n\n",
        "        \n",
        "        print('----------------------------------------------------')\n",
        "        print('Array Value     \\t| '+str([i for i in range(l,u+1)]))\n",
        "        print('----------------------------------------------------')\n",
        "        \n",
        "        #Initialize Frequencies\n",
        "        for i in range(n):\n",
        "            D[A[i]-l]+=1\n",
        "        \n",
        "        print('Frequencies      \\t| '+str(D))\n",
        "        \n",
        "        #reuse Distribution Value\n",
        "        for j in range(1,u-l+1):\n",
        "            D[j] = D[j-1] + D[j]\n",
        "        \n",
        "        print('Distribution Value  \\t| '+str(D))\n",
        "        print('----------------------------------------------------')\n",
        "\n",
        "        #put on table\n",
        "        print('\\t   D[0..'+str(u-l)+']\\t\\tS[0..'+str(n-1)+']')\n",
        "        for i in range(n-1,-1,-1):\n",
        "            show = ['']*n\n",
        "            j = A[i] - l\n",
        "            show[D[j]-1] = A[i]\n",
        "            S[D[j]-1] = A[i]\n",
        "            print('A['+str(i)+'] = '+str(A[i]),end=' ')\n",
        "            print(D,end='\\t')\n",
        "            print(show)\n",
        "            D[j] -= 1\n",
        "            \n",
        "        print('----------------------------------------------------')\n",
        "        print('Array S[0..'+str(n-1)+']\\t\\t '+str(S))\n",
        "        print('----------------------------------------------------')\n",
        "        return S\n",
        "        "
      ],
      "execution_count": 0,
      "outputs": []
    },
    {
      "cell_type": "code",
      "metadata": {
        "id": "smjGkjPOJ9lw",
        "colab_type": "code",
        "colab": {}
      },
      "source": [
        "A = [1,4,2,1,3,2,1,3,2,3]    "
      ],
      "execution_count": 0,
      "outputs": []
    },
    {
      "cell_type": "code",
      "metadata": {
        "id": "i-rQ0wJOJ-jk",
        "colab_type": "code",
        "outputId": "ac0a0949-6996-4fba-d4fd-0013a7e2252a",
        "colab": {
          "base_uri": "https://localhost:8080/",
          "height": 374
        }
      },
      "source": [
        "DCS(A,min(A),max(A))"
      ],
      "execution_count": 0,
      "outputs": [
        {
          "output_type": "stream",
          "text": [
            "----------------------------------------------------\n",
            "Array Value     \t| [1, 2, 3, 4]\n",
            "----------------------------------------------------\n",
            "Frequencies      \t| [3, 3, 3, 1]\n",
            "Distribution Value  \t| [3, 6, 9, 10]\n",
            "----------------------------------------------------\n",
            "\t   D[0..3]\t\tS[0..9]\n",
            "A[9] = 3 [3, 6, 9, 10]\t['', '', '', '', '', '', '', '', 3, '']\n",
            "A[8] = 2 [3, 6, 8, 10]\t['', '', '', '', '', 2, '', '', '', '']\n",
            "A[7] = 3 [3, 5, 8, 10]\t['', '', '', '', '', '', '', 3, '', '']\n",
            "A[6] = 1 [3, 5, 7, 10]\t['', '', 1, '', '', '', '', '', '', '']\n",
            "A[5] = 2 [2, 5, 7, 10]\t['', '', '', '', 2, '', '', '', '', '']\n",
            "A[4] = 3 [2, 4, 7, 10]\t['', '', '', '', '', '', 3, '', '', '']\n",
            "A[3] = 1 [2, 4, 6, 10]\t['', 1, '', '', '', '', '', '', '', '']\n",
            "A[2] = 2 [1, 4, 6, 10]\t['', '', '', 2, '', '', '', '', '', '']\n",
            "A[1] = 4 [1, 3, 6, 10]\t['', '', '', '', '', '', '', '', '', 4]\n",
            "A[0] = 1 [1, 3, 6, 9]\t[1, '', '', '', '', '', '', '', '', '']\n",
            "----------------------------------------------------\n",
            "Array S[0..9]\t\t [1, 1, 1, 2, 2, 2, 3, 3, 3, 4]\n",
            "----------------------------------------------------\n"
          ],
          "name": "stdout"
        },
        {
          "output_type": "execute_result",
          "data": {
            "text/plain": [
              "[1, 1, 1, 2, 2, 2, 3, 3, 3, 4]"
            ]
          },
          "metadata": {
            "tags": []
          },
          "execution_count": 86
        }
      ]
    },
    {
      "cell_type": "markdown",
      "metadata": {
        "id": "7LTPaQXSKOg5",
        "colab_type": "text"
      },
      "source": [
        "> String Matching by Horspool's Algorithm"
      ]
    },
    {
      "cell_type": "code",
      "metadata": {
        "id": "HHd7NGDEKCEV",
        "colab_type": "code",
        "colab": {}
      },
      "source": [
        "import string  \n",
        "\n",
        "def ShiftTable(pattern):\n",
        "     m = len(pattern)\n",
        "     alphabet = [i for i in string.ascii_uppercase]\n",
        "     alphabet.append('_')\n",
        "     table ={alphabet[i]:i for i in range(len(alphabet))}\n",
        "     for i in range(len(table)):\n",
        "         table[alphabet[i]] = m\n",
        "     for j in range(m - 1):\n",
        "         table[pattern[j]] = m-1-j\n",
        "     return table"
      ],
      "execution_count": 0,
      "outputs": []
    },
    {
      "cell_type": "code",
      "metadata": {
        "id": "Cy7sHdwOTmPQ",
        "colab_type": "code",
        "colab": {}
      },
      "source": [
        "def HorspoolMatching(P,T):\n",
        "  table = ShiftTable(P)\n",
        "  m = len(P)\n",
        "  n = len(T)\n",
        "  i = m -1\n",
        "  while i <= n-1:\n",
        "    k = 0\n",
        "    while k <= m-1 and P[m-1-k] == T[i-k]:\n",
        "      k += 1\n",
        "    if k==m:\n",
        "      return i-m+1\n",
        "    else:\n",
        "      i += table[T[i]]\n",
        "  return -1"
      ],
      "execution_count": 0,
      "outputs": []
    },
    {
      "cell_type": "code",
      "metadata": {
        "id": "6BkAGRcfRkAD",
        "colab_type": "code",
        "colab": {}
      },
      "source": [
        "P = 'BARBER'\n",
        "T = 'JIM_SAW_ME_IN_A_BARBER_SHOP'"
      ],
      "execution_count": 0,
      "outputs": []
    },
    {
      "cell_type": "code",
      "metadata": {
        "id": "RXLOtglHS1Ej",
        "colab_type": "code",
        "outputId": "04040021-31be-4005-f664-8fc4a7b286a0",
        "colab": {
          "base_uri": "https://localhost:8080/",
          "height": 51
        }
      },
      "source": [
        "key = HorspoolMatching(P,T)\n",
        "print(\"pattern found at \",key)\n",
        "print(T[key:key+len(P)])"
      ],
      "execution_count": 0,
      "outputs": [
        {
          "output_type": "stream",
          "text": [
            "pattern found at  16\n",
            "BARBER\n"
          ],
          "name": "stdout"
        }
      ]
    },
    {
      "cell_type": "markdown",
      "metadata": {
        "id": "-dIlBHxSZIlr",
        "colab_type": "text"
      },
      "source": [
        "> String Matching by Boyer-Moore's Algorithm"
      ]
    },
    {
      "cell_type": "code",
      "metadata": {
        "id": "i99dyZ-xS3J1",
        "colab_type": "code",
        "colab": {}
      },
      "source": [
        "def preprocess_strong_suffix(shift, bpos, pat, m): # good\n",
        "  \n",
        "    i = m \n",
        "    j = m + 1\n",
        "    bpos[i] = j \n",
        "  \n",
        "    while i > 0: \n",
        "        while j <= m and pat[i - 1] != pat[j - 1]: \n",
        "            if shift[j] == 0: \n",
        "                shift[j] = j - i \n",
        "  \n",
        "            j = bpos[j] \n",
        "              \n",
        "        i -= 1\n",
        "        j -= 1\n",
        "        bpos[i] = j \n",
        "  \n",
        "def preprocess_case2(shift, bpos, pat, m):  #bad\n",
        "    j = bpos[0] \n",
        "    for i in range(m + 1): \n",
        "          \n",
        "        if shift[i] == 0: \n",
        "            shift[i] = j \n",
        "\n",
        "        if i == j: \n",
        "            j = bpos[j] \n",
        "  \n",
        "\n",
        "def search(text, pat): \n",
        "  \n",
        "    s = 0\n",
        "    m = len(pat) \n",
        "    n = len(text) \n",
        "  \n",
        "    bpos = [0] * (m + 1) \n",
        "  \n",
        "    shift = [0] * (m + 1) \n",
        "  \n",
        "    preprocess_strong_suffix(shift, bpos, pat, m) \n",
        "    preprocess_case2(shift, bpos, pat, m) \n",
        "    key = 0\n",
        "    while s <= n - m: \n",
        "        j = m - 1\n",
        "          \n",
        "        while j >= 0 and pat[j] == text[s + j]: \n",
        "            j -= 1\n",
        "              \n",
        "        if j < 0: \n",
        "            key = s\n",
        "            s += shift[0] \n",
        "        else: \n",
        "            s += shift[j + 1] \n",
        "    return key"
      ],
      "execution_count": 0,
      "outputs": []
    },
    {
      "cell_type": "code",
      "metadata": {
        "id": "DWXNHM-LaWqy",
        "colab_type": "code",
        "outputId": "36d9be92-f286-4922-92c9-2a960880e2ae",
        "colab": {
          "base_uri": "https://localhost:8080/",
          "height": 51
        }
      },
      "source": [
        "P = 'BARBER'\n",
        "T = 'JIM_SAW_ME_IN_A_BARBER_SHOP'\n",
        "key = search(T, P)\n",
        "print(\"pattern found at \",key)\n",
        "print(T[key:key+len(P)])"
      ],
      "execution_count": 0,
      "outputs": [
        {
          "output_type": "stream",
          "text": [
            "pattern found at  16\n",
            "BARBER\n"
          ],
          "name": "stdout"
        }
      ]
    },
    {
      "cell_type": "markdown",
      "metadata": {
        "id": "BoHgjkSZq8FF",
        "colab_type": "text"
      },
      "source": [
        "[B-Tree](https://www.cs.usfca.edu/~galles/visualization/BTree.html)"
      ]
    },
    {
      "cell_type": "markdown",
      "metadata": {
        "id": "qcqQv9-UgQGN",
        "colab_type": "text"
      },
      "source": [
        "# Dynamic Programming"
      ]
    },
    {
      "cell_type": "markdown",
      "metadata": {
        "id": "XygvACMZgboF",
        "colab_type": "text"
      },
      "source": [
        "- Coin-Row problem"
      ]
    },
    {
      "cell_type": "code",
      "metadata": {
        "id": "ayWyYE-tgbcf",
        "colab_type": "code",
        "colab": {}
      },
      "source": [
        "def CoinRow1D(C): # 1-D\n",
        "  F = [i for i in range(len(C)+1)]\n",
        "  F[0] = 0\n",
        "  F[1] = C[0]\n",
        "  for i in range(2,len(C)+1):\n",
        "    F[i] = max(C[i-1]+F[i-2],F[i-1])\n",
        "  return F"
      ],
      "execution_count": 0,
      "outputs": []
    },
    {
      "cell_type": "code",
      "metadata": {
        "id": "JtSccMYMgSei",
        "colab_type": "code",
        "colab": {}
      },
      "source": [
        "C = [5, 1, 2, 10, 6, 2]"
      ],
      "execution_count": 0,
      "outputs": []
    },
    {
      "cell_type": "code",
      "metadata": {
        "id": "laB3LxNjg7rA",
        "colab_type": "code",
        "outputId": "9f9cb89a-01ec-4548-de25-69b90e515e6d",
        "colab": {
          "base_uri": "https://localhost:8080/",
          "height": 34
        }
      },
      "source": [
        "CoinRow1D(C)"
      ],
      "execution_count": 0,
      "outputs": [
        {
          "output_type": "execute_result",
          "data": {
            "text/plain": [
              "[0, 5, 5, 7, 15, 15, 17]"
            ]
          },
          "metadata": {
            "tags": []
          },
          "execution_count": 97
        }
      ]
    },
    {
      "cell_type": "code",
      "metadata": {
        "id": "XfCpzuKxg8qn",
        "colab_type": "code",
        "colab": {}
      },
      "source": [
        "def CoinRow2D(C): # 2-D\n",
        "  n = len(C)\n",
        "  m = len(C[0])\n",
        "  F = [[0]*(m) for i in range(n)]\n",
        "  F[0][0] = C[0][0]\n",
        "  for j in range(1,m):\n",
        "    F[0][j] = F[0][j-1]+C[0][j]\n",
        "  for i in range(1,n):\n",
        "    F[i][0] = F[i-1][0]+C[i][0]\n",
        "    for j in range(1,m):\n",
        "      F[i][j] = max(F[i-1][j],F[i][j-1])+C[i][j]\n",
        "  return F[n-1][m-1]"
      ],
      "execution_count": 0,
      "outputs": []
    },
    {
      "cell_type": "code",
      "metadata": {
        "id": "wdUT8vMSjkui",
        "colab_type": "code",
        "colab": {}
      },
      "source": [
        "C = [[0, 0, 0, 0, 1, 0],[0, 1, 0, 1, 0, 0],[0, 0, 0, 1, 0, 1],[0, 0, 1, 0, 0, 1],[1, 0, 0, 0, 1, 0]]"
      ],
      "execution_count": 0,
      "outputs": []
    },
    {
      "cell_type": "code",
      "metadata": {
        "id": "Jx9ku7O9js5X",
        "colab_type": "code",
        "outputId": "4fb13259-3353-4650-ba88-e88bec0fe310",
        "colab": {
          "base_uri": "https://localhost:8080/",
          "height": 34
        }
      },
      "source": [
        "CoinRow2D(C)"
      ],
      "execution_count": 0,
      "outputs": [
        {
          "output_type": "execute_result",
          "data": {
            "text/plain": [
              "5"
            ]
          },
          "metadata": {
            "tags": []
          },
          "execution_count": 496
        }
      ]
    },
    {
      "cell_type": "markdown",
      "metadata": {
        "id": "4gRyd7KppRzM",
        "colab_type": "text"
      },
      "source": [
        " - Knapsack problem"
      ]
    },
    {
      "cell_type": "code",
      "metadata": {
        "id": "BMgEzz5Ans-C",
        "colab_type": "code",
        "colab": {}
      },
      "source": [
        "import numpy as np\n",
        "\n",
        "def knapSack(C, wt, val):\n",
        "   F = [[0]*(C + 1) for x in range(len(val) + 1)]\n",
        "   for i in range(len(val) + 1):\n",
        "    F[i][0] = max(val)\n",
        "   for j in range(C + 1):\n",
        "    F[0][j] = max(val)\n",
        "   for i in range(1,len(val) + 1):\n",
        "      for j in range(1,C + 1):\n",
        "         if j-wt[i-1] >= 0:\n",
        "            F[i][j] = max(F[i-1][j],val[i-1] + F[i-1][j-wt[i-1]])\n",
        "         else:\n",
        "            F[i][j] = F[i-1][j]\n",
        "   return F"
      ],
      "execution_count": 0,
      "outputs": []
    },
    {
      "cell_type": "code",
      "metadata": {
        "id": "9ExgHJNisN2i",
        "colab_type": "code",
        "colab": {}
      },
      "source": [
        "W = [2,1,3,2]\n",
        "V = [-12,-10,-20,-15]\n",
        "C = 5"
      ],
      "execution_count": 0,
      "outputs": []
    },
    {
      "cell_type": "code",
      "metadata": {
        "id": "gxyzf3LlqcCF",
        "colab_type": "code",
        "outputId": "4e0ffe36-7824-495b-b884-761e4a841dc6",
        "colab": {
          "base_uri": "https://localhost:8080/",
          "height": 102
        }
      },
      "source": [
        "knapSack(C, W, V)"
      ],
      "execution_count": 0,
      "outputs": [
        {
          "output_type": "execute_result",
          "data": {
            "text/plain": [
              "[[-10, -10, -10, -10, -10, -10],\n",
              " [-10, -10, -10, -10, -10, -10],\n",
              " [-10, -10, -10, -10, -10, -10],\n",
              " [-10, -10, -10, -10, -10, -10],\n",
              " [-10, -10, -10, -10, -10, -10]]"
            ]
          },
          "metadata": {
            "tags": []
          },
          "execution_count": 69
        }
      ]
    },
    {
      "cell_type": "code",
      "metadata": {
        "id": "TsunY8Nm4smc",
        "colab_type": "code",
        "colab": {}
      },
      "source": [
        "def permutation(lst): \n",
        "  \n",
        "    if len(lst) == 0: \n",
        "        return [] \n",
        "\n",
        "    if len(lst) == 1: \n",
        "        return [lst] \n",
        "\n",
        "    l = [] \n",
        "  \n",
        "    for i in range(len(lst)): \n",
        "       m = lst[i] \n",
        "  \n",
        "       remLst = lst[:i] + lst[i+1:] \n",
        "\n",
        "       for p in permutation(remLst): \n",
        "           l.append([m] + p) \n",
        "    return l "
      ],
      "execution_count": 0,
      "outputs": []
    },
    {
      "cell_type": "code",
      "metadata": {
        "id": "WW47Zuwx44Z4",
        "colab_type": "code",
        "outputId": "2fbf08a8-3abc-4494-9149-e94031439b9c",
        "colab": {
          "base_uri": "https://localhost:8080/",
          "height": 1000
        }
      },
      "source": [
        "permutation(['A','B','C','D','E','F','G','I','J'])"
      ],
      "execution_count": 0,
      "outputs": [
        {
          "output_type": "execute_result",
          "data": {
            "text/plain": [
              "[['A', 'B', 'C', 'D', 'E', 'F', 'G', 'I', 'J'],\n",
              " ['A', 'B', 'C', 'D', 'E', 'F', 'G', 'J', 'I'],\n",
              " ['A', 'B', 'C', 'D', 'E', 'F', 'I', 'G', 'J'],\n",
              " ['A', 'B', 'C', 'D', 'E', 'F', 'I', 'J', 'G'],\n",
              " ['A', 'B', 'C', 'D', 'E', 'F', 'J', 'G', 'I'],\n",
              " ['A', 'B', 'C', 'D', 'E', 'F', 'J', 'I', 'G'],\n",
              " ['A', 'B', 'C', 'D', 'E', 'G', 'F', 'I', 'J'],\n",
              " ['A', 'B', 'C', 'D', 'E', 'G', 'F', 'J', 'I'],\n",
              " ['A', 'B', 'C', 'D', 'E', 'G', 'I', 'F', 'J'],\n",
              " ['A', 'B', 'C', 'D', 'E', 'G', 'I', 'J', 'F'],\n",
              " ['A', 'B', 'C', 'D', 'E', 'G', 'J', 'F', 'I'],\n",
              " ['A', 'B', 'C', 'D', 'E', 'G', 'J', 'I', 'F'],\n",
              " ['A', 'B', 'C', 'D', 'E', 'I', 'F', 'G', 'J'],\n",
              " ['A', 'B', 'C', 'D', 'E', 'I', 'F', 'J', 'G'],\n",
              " ['A', 'B', 'C', 'D', 'E', 'I', 'G', 'F', 'J'],\n",
              " ['A', 'B', 'C', 'D', 'E', 'I', 'G', 'J', 'F'],\n",
              " ['A', 'B', 'C', 'D', 'E', 'I', 'J', 'F', 'G'],\n",
              " ['A', 'B', 'C', 'D', 'E', 'I', 'J', 'G', 'F'],\n",
              " ['A', 'B', 'C', 'D', 'E', 'J', 'F', 'G', 'I'],\n",
              " ['A', 'B', 'C', 'D', 'E', 'J', 'F', 'I', 'G'],\n",
              " ['A', 'B', 'C', 'D', 'E', 'J', 'G', 'F', 'I'],\n",
              " ['A', 'B', 'C', 'D', 'E', 'J', 'G', 'I', 'F'],\n",
              " ['A', 'B', 'C', 'D', 'E', 'J', 'I', 'F', 'G'],\n",
              " ['A', 'B', 'C', 'D', 'E', 'J', 'I', 'G', 'F'],\n",
              " ['A', 'B', 'C', 'D', 'F', 'E', 'G', 'I', 'J'],\n",
              " ['A', 'B', 'C', 'D', 'F', 'E', 'G', 'J', 'I'],\n",
              " ['A', 'B', 'C', 'D', 'F', 'E', 'I', 'G', 'J'],\n",
              " ['A', 'B', 'C', 'D', 'F', 'E', 'I', 'J', 'G'],\n",
              " ['A', 'B', 'C', 'D', 'F', 'E', 'J', 'G', 'I'],\n",
              " ['A', 'B', 'C', 'D', 'F', 'E', 'J', 'I', 'G'],\n",
              " ['A', 'B', 'C', 'D', 'F', 'G', 'E', 'I', 'J'],\n",
              " ['A', 'B', 'C', 'D', 'F', 'G', 'E', 'J', 'I'],\n",
              " ['A', 'B', 'C', 'D', 'F', 'G', 'I', 'E', 'J'],\n",
              " ['A', 'B', 'C', 'D', 'F', 'G', 'I', 'J', 'E'],\n",
              " ['A', 'B', 'C', 'D', 'F', 'G', 'J', 'E', 'I'],\n",
              " ['A', 'B', 'C', 'D', 'F', 'G', 'J', 'I', 'E'],\n",
              " ['A', 'B', 'C', 'D', 'F', 'I', 'E', 'G', 'J'],\n",
              " ['A', 'B', 'C', 'D', 'F', 'I', 'E', 'J', 'G'],\n",
              " ['A', 'B', 'C', 'D', 'F', 'I', 'G', 'E', 'J'],\n",
              " ['A', 'B', 'C', 'D', 'F', 'I', 'G', 'J', 'E'],\n",
              " ['A', 'B', 'C', 'D', 'F', 'I', 'J', 'E', 'G'],\n",
              " ['A', 'B', 'C', 'D', 'F', 'I', 'J', 'G', 'E'],\n",
              " ['A', 'B', 'C', 'D', 'F', 'J', 'E', 'G', 'I'],\n",
              " ['A', 'B', 'C', 'D', 'F', 'J', 'E', 'I', 'G'],\n",
              " ['A', 'B', 'C', 'D', 'F', 'J', 'G', 'E', 'I'],\n",
              " ['A', 'B', 'C', 'D', 'F', 'J', 'G', 'I', 'E'],\n",
              " ['A', 'B', 'C', 'D', 'F', 'J', 'I', 'E', 'G'],\n",
              " ['A', 'B', 'C', 'D', 'F', 'J', 'I', 'G', 'E'],\n",
              " ['A', 'B', 'C', 'D', 'G', 'E', 'F', 'I', 'J'],\n",
              " ['A', 'B', 'C', 'D', 'G', 'E', 'F', 'J', 'I'],\n",
              " ['A', 'B', 'C', 'D', 'G', 'E', 'I', 'F', 'J'],\n",
              " ['A', 'B', 'C', 'D', 'G', 'E', 'I', 'J', 'F'],\n",
              " ['A', 'B', 'C', 'D', 'G', 'E', 'J', 'F', 'I'],\n",
              " ['A', 'B', 'C', 'D', 'G', 'E', 'J', 'I', 'F'],\n",
              " ['A', 'B', 'C', 'D', 'G', 'F', 'E', 'I', 'J'],\n",
              " ['A', 'B', 'C', 'D', 'G', 'F', 'E', 'J', 'I'],\n",
              " ['A', 'B', 'C', 'D', 'G', 'F', 'I', 'E', 'J'],\n",
              " ['A', 'B', 'C', 'D', 'G', 'F', 'I', 'J', 'E'],\n",
              " ['A', 'B', 'C', 'D', 'G', 'F', 'J', 'E', 'I'],\n",
              " ['A', 'B', 'C', 'D', 'G', 'F', 'J', 'I', 'E'],\n",
              " ['A', 'B', 'C', 'D', 'G', 'I', 'E', 'F', 'J'],\n",
              " ['A', 'B', 'C', 'D', 'G', 'I', 'E', 'J', 'F'],\n",
              " ['A', 'B', 'C', 'D', 'G', 'I', 'F', 'E', 'J'],\n",
              " ['A', 'B', 'C', 'D', 'G', 'I', 'F', 'J', 'E'],\n",
              " ['A', 'B', 'C', 'D', 'G', 'I', 'J', 'E', 'F'],\n",
              " ['A', 'B', 'C', 'D', 'G', 'I', 'J', 'F', 'E'],\n",
              " ['A', 'B', 'C', 'D', 'G', 'J', 'E', 'F', 'I'],\n",
              " ['A', 'B', 'C', 'D', 'G', 'J', 'E', 'I', 'F'],\n",
              " ['A', 'B', 'C', 'D', 'G', 'J', 'F', 'E', 'I'],\n",
              " ['A', 'B', 'C', 'D', 'G', 'J', 'F', 'I', 'E'],\n",
              " ['A', 'B', 'C', 'D', 'G', 'J', 'I', 'E', 'F'],\n",
              " ['A', 'B', 'C', 'D', 'G', 'J', 'I', 'F', 'E'],\n",
              " ['A', 'B', 'C', 'D', 'I', 'E', 'F', 'G', 'J'],\n",
              " ['A', 'B', 'C', 'D', 'I', 'E', 'F', 'J', 'G'],\n",
              " ['A', 'B', 'C', 'D', 'I', 'E', 'G', 'F', 'J'],\n",
              " ['A', 'B', 'C', 'D', 'I', 'E', 'G', 'J', 'F'],\n",
              " ['A', 'B', 'C', 'D', 'I', 'E', 'J', 'F', 'G'],\n",
              " ['A', 'B', 'C', 'D', 'I', 'E', 'J', 'G', 'F'],\n",
              " ['A', 'B', 'C', 'D', 'I', 'F', 'E', 'G', 'J'],\n",
              " ['A', 'B', 'C', 'D', 'I', 'F', 'E', 'J', 'G'],\n",
              " ['A', 'B', 'C', 'D', 'I', 'F', 'G', 'E', 'J'],\n",
              " ['A', 'B', 'C', 'D', 'I', 'F', 'G', 'J', 'E'],\n",
              " ['A', 'B', 'C', 'D', 'I', 'F', 'J', 'E', 'G'],\n",
              " ['A', 'B', 'C', 'D', 'I', 'F', 'J', 'G', 'E'],\n",
              " ['A', 'B', 'C', 'D', 'I', 'G', 'E', 'F', 'J'],\n",
              " ['A', 'B', 'C', 'D', 'I', 'G', 'E', 'J', 'F'],\n",
              " ['A', 'B', 'C', 'D', 'I', 'G', 'F', 'E', 'J'],\n",
              " ['A', 'B', 'C', 'D', 'I', 'G', 'F', 'J', 'E'],\n",
              " ['A', 'B', 'C', 'D', 'I', 'G', 'J', 'E', 'F'],\n",
              " ['A', 'B', 'C', 'D', 'I', 'G', 'J', 'F', 'E'],\n",
              " ['A', 'B', 'C', 'D', 'I', 'J', 'E', 'F', 'G'],\n",
              " ['A', 'B', 'C', 'D', 'I', 'J', 'E', 'G', 'F'],\n",
              " ['A', 'B', 'C', 'D', 'I', 'J', 'F', 'E', 'G'],\n",
              " ['A', 'B', 'C', 'D', 'I', 'J', 'F', 'G', 'E'],\n",
              " ['A', 'B', 'C', 'D', 'I', 'J', 'G', 'E', 'F'],\n",
              " ['A', 'B', 'C', 'D', 'I', 'J', 'G', 'F', 'E'],\n",
              " ['A', 'B', 'C', 'D', 'J', 'E', 'F', 'G', 'I'],\n",
              " ['A', 'B', 'C', 'D', 'J', 'E', 'F', 'I', 'G'],\n",
              " ['A', 'B', 'C', 'D', 'J', 'E', 'G', 'F', 'I'],\n",
              " ['A', 'B', 'C', 'D', 'J', 'E', 'G', 'I', 'F'],\n",
              " ['A', 'B', 'C', 'D', 'J', 'E', 'I', 'F', 'G'],\n",
              " ['A', 'B', 'C', 'D', 'J', 'E', 'I', 'G', 'F'],\n",
              " ['A', 'B', 'C', 'D', 'J', 'F', 'E', 'G', 'I'],\n",
              " ['A', 'B', 'C', 'D', 'J', 'F', 'E', 'I', 'G'],\n",
              " ['A', 'B', 'C', 'D', 'J', 'F', 'G', 'E', 'I'],\n",
              " ['A', 'B', 'C', 'D', 'J', 'F', 'G', 'I', 'E'],\n",
              " ['A', 'B', 'C', 'D', 'J', 'F', 'I', 'E', 'G'],\n",
              " ['A', 'B', 'C', 'D', 'J', 'F', 'I', 'G', 'E'],\n",
              " ['A', 'B', 'C', 'D', 'J', 'G', 'E', 'F', 'I'],\n",
              " ['A', 'B', 'C', 'D', 'J', 'G', 'E', 'I', 'F'],\n",
              " ['A', 'B', 'C', 'D', 'J', 'G', 'F', 'E', 'I'],\n",
              " ['A', 'B', 'C', 'D', 'J', 'G', 'F', 'I', 'E'],\n",
              " ['A', 'B', 'C', 'D', 'J', 'G', 'I', 'E', 'F'],\n",
              " ['A', 'B', 'C', 'D', 'J', 'G', 'I', 'F', 'E'],\n",
              " ['A', 'B', 'C', 'D', 'J', 'I', 'E', 'F', 'G'],\n",
              " ['A', 'B', 'C', 'D', 'J', 'I', 'E', 'G', 'F'],\n",
              " ['A', 'B', 'C', 'D', 'J', 'I', 'F', 'E', 'G'],\n",
              " ['A', 'B', 'C', 'D', 'J', 'I', 'F', 'G', 'E'],\n",
              " ['A', 'B', 'C', 'D', 'J', 'I', 'G', 'E', 'F'],\n",
              " ['A', 'B', 'C', 'D', 'J', 'I', 'G', 'F', 'E'],\n",
              " ['A', 'B', 'C', 'E', 'D', 'F', 'G', 'I', 'J'],\n",
              " ['A', 'B', 'C', 'E', 'D', 'F', 'G', 'J', 'I'],\n",
              " ['A', 'B', 'C', 'E', 'D', 'F', 'I', 'G', 'J'],\n",
              " ['A', 'B', 'C', 'E', 'D', 'F', 'I', 'J', 'G'],\n",
              " ['A', 'B', 'C', 'E', 'D', 'F', 'J', 'G', 'I'],\n",
              " ['A', 'B', 'C', 'E', 'D', 'F', 'J', 'I', 'G'],\n",
              " ['A', 'B', 'C', 'E', 'D', 'G', 'F', 'I', 'J'],\n",
              " ['A', 'B', 'C', 'E', 'D', 'G', 'F', 'J', 'I'],\n",
              " ['A', 'B', 'C', 'E', 'D', 'G', 'I', 'F', 'J'],\n",
              " ['A', 'B', 'C', 'E', 'D', 'G', 'I', 'J', 'F'],\n",
              " ['A', 'B', 'C', 'E', 'D', 'G', 'J', 'F', 'I'],\n",
              " ['A', 'B', 'C', 'E', 'D', 'G', 'J', 'I', 'F'],\n",
              " ['A', 'B', 'C', 'E', 'D', 'I', 'F', 'G', 'J'],\n",
              " ['A', 'B', 'C', 'E', 'D', 'I', 'F', 'J', 'G'],\n",
              " ['A', 'B', 'C', 'E', 'D', 'I', 'G', 'F', 'J'],\n",
              " ['A', 'B', 'C', 'E', 'D', 'I', 'G', 'J', 'F'],\n",
              " ['A', 'B', 'C', 'E', 'D', 'I', 'J', 'F', 'G'],\n",
              " ['A', 'B', 'C', 'E', 'D', 'I', 'J', 'G', 'F'],\n",
              " ['A', 'B', 'C', 'E', 'D', 'J', 'F', 'G', 'I'],\n",
              " ['A', 'B', 'C', 'E', 'D', 'J', 'F', 'I', 'G'],\n",
              " ['A', 'B', 'C', 'E', 'D', 'J', 'G', 'F', 'I'],\n",
              " ['A', 'B', 'C', 'E', 'D', 'J', 'G', 'I', 'F'],\n",
              " ['A', 'B', 'C', 'E', 'D', 'J', 'I', 'F', 'G'],\n",
              " ['A', 'B', 'C', 'E', 'D', 'J', 'I', 'G', 'F'],\n",
              " ['A', 'B', 'C', 'E', 'F', 'D', 'G', 'I', 'J'],\n",
              " ['A', 'B', 'C', 'E', 'F', 'D', 'G', 'J', 'I'],\n",
              " ['A', 'B', 'C', 'E', 'F', 'D', 'I', 'G', 'J'],\n",
              " ['A', 'B', 'C', 'E', 'F', 'D', 'I', 'J', 'G'],\n",
              " ['A', 'B', 'C', 'E', 'F', 'D', 'J', 'G', 'I'],\n",
              " ['A', 'B', 'C', 'E', 'F', 'D', 'J', 'I', 'G'],\n",
              " ['A', 'B', 'C', 'E', 'F', 'G', 'D', 'I', 'J'],\n",
              " ['A', 'B', 'C', 'E', 'F', 'G', 'D', 'J', 'I'],\n",
              " ['A', 'B', 'C', 'E', 'F', 'G', 'I', 'D', 'J'],\n",
              " ['A', 'B', 'C', 'E', 'F', 'G', 'I', 'J', 'D'],\n",
              " ['A', 'B', 'C', 'E', 'F', 'G', 'J', 'D', 'I'],\n",
              " ['A', 'B', 'C', 'E', 'F', 'G', 'J', 'I', 'D'],\n",
              " ['A', 'B', 'C', 'E', 'F', 'I', 'D', 'G', 'J'],\n",
              " ['A', 'B', 'C', 'E', 'F', 'I', 'D', 'J', 'G'],\n",
              " ['A', 'B', 'C', 'E', 'F', 'I', 'G', 'D', 'J'],\n",
              " ['A', 'B', 'C', 'E', 'F', 'I', 'G', 'J', 'D'],\n",
              " ['A', 'B', 'C', 'E', 'F', 'I', 'J', 'D', 'G'],\n",
              " ['A', 'B', 'C', 'E', 'F', 'I', 'J', 'G', 'D'],\n",
              " ['A', 'B', 'C', 'E', 'F', 'J', 'D', 'G', 'I'],\n",
              " ['A', 'B', 'C', 'E', 'F', 'J', 'D', 'I', 'G'],\n",
              " ['A', 'B', 'C', 'E', 'F', 'J', 'G', 'D', 'I'],\n",
              " ['A', 'B', 'C', 'E', 'F', 'J', 'G', 'I', 'D'],\n",
              " ['A', 'B', 'C', 'E', 'F', 'J', 'I', 'D', 'G'],\n",
              " ['A', 'B', 'C', 'E', 'F', 'J', 'I', 'G', 'D'],\n",
              " ['A', 'B', 'C', 'E', 'G', 'D', 'F', 'I', 'J'],\n",
              " ['A', 'B', 'C', 'E', 'G', 'D', 'F', 'J', 'I'],\n",
              " ['A', 'B', 'C', 'E', 'G', 'D', 'I', 'F', 'J'],\n",
              " ['A', 'B', 'C', 'E', 'G', 'D', 'I', 'J', 'F'],\n",
              " ['A', 'B', 'C', 'E', 'G', 'D', 'J', 'F', 'I'],\n",
              " ['A', 'B', 'C', 'E', 'G', 'D', 'J', 'I', 'F'],\n",
              " ['A', 'B', 'C', 'E', 'G', 'F', 'D', 'I', 'J'],\n",
              " ['A', 'B', 'C', 'E', 'G', 'F', 'D', 'J', 'I'],\n",
              " ['A', 'B', 'C', 'E', 'G', 'F', 'I', 'D', 'J'],\n",
              " ['A', 'B', 'C', 'E', 'G', 'F', 'I', 'J', 'D'],\n",
              " ['A', 'B', 'C', 'E', 'G', 'F', 'J', 'D', 'I'],\n",
              " ['A', 'B', 'C', 'E', 'G', 'F', 'J', 'I', 'D'],\n",
              " ['A', 'B', 'C', 'E', 'G', 'I', 'D', 'F', 'J'],\n",
              " ['A', 'B', 'C', 'E', 'G', 'I', 'D', 'J', 'F'],\n",
              " ['A', 'B', 'C', 'E', 'G', 'I', 'F', 'D', 'J'],\n",
              " ['A', 'B', 'C', 'E', 'G', 'I', 'F', 'J', 'D'],\n",
              " ['A', 'B', 'C', 'E', 'G', 'I', 'J', 'D', 'F'],\n",
              " ['A', 'B', 'C', 'E', 'G', 'I', 'J', 'F', 'D'],\n",
              " ['A', 'B', 'C', 'E', 'G', 'J', 'D', 'F', 'I'],\n",
              " ['A', 'B', 'C', 'E', 'G', 'J', 'D', 'I', 'F'],\n",
              " ['A', 'B', 'C', 'E', 'G', 'J', 'F', 'D', 'I'],\n",
              " ['A', 'B', 'C', 'E', 'G', 'J', 'F', 'I', 'D'],\n",
              " ['A', 'B', 'C', 'E', 'G', 'J', 'I', 'D', 'F'],\n",
              " ['A', 'B', 'C', 'E', 'G', 'J', 'I', 'F', 'D'],\n",
              " ['A', 'B', 'C', 'E', 'I', 'D', 'F', 'G', 'J'],\n",
              " ['A', 'B', 'C', 'E', 'I', 'D', 'F', 'J', 'G'],\n",
              " ['A', 'B', 'C', 'E', 'I', 'D', 'G', 'F', 'J'],\n",
              " ['A', 'B', 'C', 'E', 'I', 'D', 'G', 'J', 'F'],\n",
              " ['A', 'B', 'C', 'E', 'I', 'D', 'J', 'F', 'G'],\n",
              " ['A', 'B', 'C', 'E', 'I', 'D', 'J', 'G', 'F'],\n",
              " ['A', 'B', 'C', 'E', 'I', 'F', 'D', 'G', 'J'],\n",
              " ['A', 'B', 'C', 'E', 'I', 'F', 'D', 'J', 'G'],\n",
              " ['A', 'B', 'C', 'E', 'I', 'F', 'G', 'D', 'J'],\n",
              " ['A', 'B', 'C', 'E', 'I', 'F', 'G', 'J', 'D'],\n",
              " ['A', 'B', 'C', 'E', 'I', 'F', 'J', 'D', 'G'],\n",
              " ['A', 'B', 'C', 'E', 'I', 'F', 'J', 'G', 'D'],\n",
              " ['A', 'B', 'C', 'E', 'I', 'G', 'D', 'F', 'J'],\n",
              " ['A', 'B', 'C', 'E', 'I', 'G', 'D', 'J', 'F'],\n",
              " ['A', 'B', 'C', 'E', 'I', 'G', 'F', 'D', 'J'],\n",
              " ['A', 'B', 'C', 'E', 'I', 'G', 'F', 'J', 'D'],\n",
              " ['A', 'B', 'C', 'E', 'I', 'G', 'J', 'D', 'F'],\n",
              " ['A', 'B', 'C', 'E', 'I', 'G', 'J', 'F', 'D'],\n",
              " ['A', 'B', 'C', 'E', 'I', 'J', 'D', 'F', 'G'],\n",
              " ['A', 'B', 'C', 'E', 'I', 'J', 'D', 'G', 'F'],\n",
              " ['A', 'B', 'C', 'E', 'I', 'J', 'F', 'D', 'G'],\n",
              " ['A', 'B', 'C', 'E', 'I', 'J', 'F', 'G', 'D'],\n",
              " ['A', 'B', 'C', 'E', 'I', 'J', 'G', 'D', 'F'],\n",
              " ['A', 'B', 'C', 'E', 'I', 'J', 'G', 'F', 'D'],\n",
              " ['A', 'B', 'C', 'E', 'J', 'D', 'F', 'G', 'I'],\n",
              " ['A', 'B', 'C', 'E', 'J', 'D', 'F', 'I', 'G'],\n",
              " ['A', 'B', 'C', 'E', 'J', 'D', 'G', 'F', 'I'],\n",
              " ['A', 'B', 'C', 'E', 'J', 'D', 'G', 'I', 'F'],\n",
              " ['A', 'B', 'C', 'E', 'J', 'D', 'I', 'F', 'G'],\n",
              " ['A', 'B', 'C', 'E', 'J', 'D', 'I', 'G', 'F'],\n",
              " ['A', 'B', 'C', 'E', 'J', 'F', 'D', 'G', 'I'],\n",
              " ['A', 'B', 'C', 'E', 'J', 'F', 'D', 'I', 'G'],\n",
              " ['A', 'B', 'C', 'E', 'J', 'F', 'G', 'D', 'I'],\n",
              " ['A', 'B', 'C', 'E', 'J', 'F', 'G', 'I', 'D'],\n",
              " ['A', 'B', 'C', 'E', 'J', 'F', 'I', 'D', 'G'],\n",
              " ['A', 'B', 'C', 'E', 'J', 'F', 'I', 'G', 'D'],\n",
              " ['A', 'B', 'C', 'E', 'J', 'G', 'D', 'F', 'I'],\n",
              " ['A', 'B', 'C', 'E', 'J', 'G', 'D', 'I', 'F'],\n",
              " ['A', 'B', 'C', 'E', 'J', 'G', 'F', 'D', 'I'],\n",
              " ['A', 'B', 'C', 'E', 'J', 'G', 'F', 'I', 'D'],\n",
              " ['A', 'B', 'C', 'E', 'J', 'G', 'I', 'D', 'F'],\n",
              " ['A', 'B', 'C', 'E', 'J', 'G', 'I', 'F', 'D'],\n",
              " ['A', 'B', 'C', 'E', 'J', 'I', 'D', 'F', 'G'],\n",
              " ['A', 'B', 'C', 'E', 'J', 'I', 'D', 'G', 'F'],\n",
              " ['A', 'B', 'C', 'E', 'J', 'I', 'F', 'D', 'G'],\n",
              " ['A', 'B', 'C', 'E', 'J', 'I', 'F', 'G', 'D'],\n",
              " ['A', 'B', 'C', 'E', 'J', 'I', 'G', 'D', 'F'],\n",
              " ['A', 'B', 'C', 'E', 'J', 'I', 'G', 'F', 'D'],\n",
              " ['A', 'B', 'C', 'F', 'D', 'E', 'G', 'I', 'J'],\n",
              " ['A', 'B', 'C', 'F', 'D', 'E', 'G', 'J', 'I'],\n",
              " ['A', 'B', 'C', 'F', 'D', 'E', 'I', 'G', 'J'],\n",
              " ['A', 'B', 'C', 'F', 'D', 'E', 'I', 'J', 'G'],\n",
              " ['A', 'B', 'C', 'F', 'D', 'E', 'J', 'G', 'I'],\n",
              " ['A', 'B', 'C', 'F', 'D', 'E', 'J', 'I', 'G'],\n",
              " ['A', 'B', 'C', 'F', 'D', 'G', 'E', 'I', 'J'],\n",
              " ['A', 'B', 'C', 'F', 'D', 'G', 'E', 'J', 'I'],\n",
              " ['A', 'B', 'C', 'F', 'D', 'G', 'I', 'E', 'J'],\n",
              " ['A', 'B', 'C', 'F', 'D', 'G', 'I', 'J', 'E'],\n",
              " ['A', 'B', 'C', 'F', 'D', 'G', 'J', 'E', 'I'],\n",
              " ['A', 'B', 'C', 'F', 'D', 'G', 'J', 'I', 'E'],\n",
              " ['A', 'B', 'C', 'F', 'D', 'I', 'E', 'G', 'J'],\n",
              " ['A', 'B', 'C', 'F', 'D', 'I', 'E', 'J', 'G'],\n",
              " ['A', 'B', 'C', 'F', 'D', 'I', 'G', 'E', 'J'],\n",
              " ['A', 'B', 'C', 'F', 'D', 'I', 'G', 'J', 'E'],\n",
              " ['A', 'B', 'C', 'F', 'D', 'I', 'J', 'E', 'G'],\n",
              " ['A', 'B', 'C', 'F', 'D', 'I', 'J', 'G', 'E'],\n",
              " ['A', 'B', 'C', 'F', 'D', 'J', 'E', 'G', 'I'],\n",
              " ['A', 'B', 'C', 'F', 'D', 'J', 'E', 'I', 'G'],\n",
              " ['A', 'B', 'C', 'F', 'D', 'J', 'G', 'E', 'I'],\n",
              " ['A', 'B', 'C', 'F', 'D', 'J', 'G', 'I', 'E'],\n",
              " ['A', 'B', 'C', 'F', 'D', 'J', 'I', 'E', 'G'],\n",
              " ['A', 'B', 'C', 'F', 'D', 'J', 'I', 'G', 'E'],\n",
              " ['A', 'B', 'C', 'F', 'E', 'D', 'G', 'I', 'J'],\n",
              " ['A', 'B', 'C', 'F', 'E', 'D', 'G', 'J', 'I'],\n",
              " ['A', 'B', 'C', 'F', 'E', 'D', 'I', 'G', 'J'],\n",
              " ['A', 'B', 'C', 'F', 'E', 'D', 'I', 'J', 'G'],\n",
              " ['A', 'B', 'C', 'F', 'E', 'D', 'J', 'G', 'I'],\n",
              " ['A', 'B', 'C', 'F', 'E', 'D', 'J', 'I', 'G'],\n",
              " ['A', 'B', 'C', 'F', 'E', 'G', 'D', 'I', 'J'],\n",
              " ['A', 'B', 'C', 'F', 'E', 'G', 'D', 'J', 'I'],\n",
              " ['A', 'B', 'C', 'F', 'E', 'G', 'I', 'D', 'J'],\n",
              " ['A', 'B', 'C', 'F', 'E', 'G', 'I', 'J', 'D'],\n",
              " ['A', 'B', 'C', 'F', 'E', 'G', 'J', 'D', 'I'],\n",
              " ['A', 'B', 'C', 'F', 'E', 'G', 'J', 'I', 'D'],\n",
              " ['A', 'B', 'C', 'F', 'E', 'I', 'D', 'G', 'J'],\n",
              " ['A', 'B', 'C', 'F', 'E', 'I', 'D', 'J', 'G'],\n",
              " ['A', 'B', 'C', 'F', 'E', 'I', 'G', 'D', 'J'],\n",
              " ['A', 'B', 'C', 'F', 'E', 'I', 'G', 'J', 'D'],\n",
              " ['A', 'B', 'C', 'F', 'E', 'I', 'J', 'D', 'G'],\n",
              " ['A', 'B', 'C', 'F', 'E', 'I', 'J', 'G', 'D'],\n",
              " ['A', 'B', 'C', 'F', 'E', 'J', 'D', 'G', 'I'],\n",
              " ['A', 'B', 'C', 'F', 'E', 'J', 'D', 'I', 'G'],\n",
              " ['A', 'B', 'C', 'F', 'E', 'J', 'G', 'D', 'I'],\n",
              " ['A', 'B', 'C', 'F', 'E', 'J', 'G', 'I', 'D'],\n",
              " ['A', 'B', 'C', 'F', 'E', 'J', 'I', 'D', 'G'],\n",
              " ['A', 'B', 'C', 'F', 'E', 'J', 'I', 'G', 'D'],\n",
              " ['A', 'B', 'C', 'F', 'G', 'D', 'E', 'I', 'J'],\n",
              " ['A', 'B', 'C', 'F', 'G', 'D', 'E', 'J', 'I'],\n",
              " ['A', 'B', 'C', 'F', 'G', 'D', 'I', 'E', 'J'],\n",
              " ['A', 'B', 'C', 'F', 'G', 'D', 'I', 'J', 'E'],\n",
              " ['A', 'B', 'C', 'F', 'G', 'D', 'J', 'E', 'I'],\n",
              " ['A', 'B', 'C', 'F', 'G', 'D', 'J', 'I', 'E'],\n",
              " ['A', 'B', 'C', 'F', 'G', 'E', 'D', 'I', 'J'],\n",
              " ['A', 'B', 'C', 'F', 'G', 'E', 'D', 'J', 'I'],\n",
              " ['A', 'B', 'C', 'F', 'G', 'E', 'I', 'D', 'J'],\n",
              " ['A', 'B', 'C', 'F', 'G', 'E', 'I', 'J', 'D'],\n",
              " ['A', 'B', 'C', 'F', 'G', 'E', 'J', 'D', 'I'],\n",
              " ['A', 'B', 'C', 'F', 'G', 'E', 'J', 'I', 'D'],\n",
              " ['A', 'B', 'C', 'F', 'G', 'I', 'D', 'E', 'J'],\n",
              " ['A', 'B', 'C', 'F', 'G', 'I', 'D', 'J', 'E'],\n",
              " ['A', 'B', 'C', 'F', 'G', 'I', 'E', 'D', 'J'],\n",
              " ['A', 'B', 'C', 'F', 'G', 'I', 'E', 'J', 'D'],\n",
              " ['A', 'B', 'C', 'F', 'G', 'I', 'J', 'D', 'E'],\n",
              " ['A', 'B', 'C', 'F', 'G', 'I', 'J', 'E', 'D'],\n",
              " ['A', 'B', 'C', 'F', 'G', 'J', 'D', 'E', 'I'],\n",
              " ['A', 'B', 'C', 'F', 'G', 'J', 'D', 'I', 'E'],\n",
              " ['A', 'B', 'C', 'F', 'G', 'J', 'E', 'D', 'I'],\n",
              " ['A', 'B', 'C', 'F', 'G', 'J', 'E', 'I', 'D'],\n",
              " ['A', 'B', 'C', 'F', 'G', 'J', 'I', 'D', 'E'],\n",
              " ['A', 'B', 'C', 'F', 'G', 'J', 'I', 'E', 'D'],\n",
              " ['A', 'B', 'C', 'F', 'I', 'D', 'E', 'G', 'J'],\n",
              " ['A', 'B', 'C', 'F', 'I', 'D', 'E', 'J', 'G'],\n",
              " ['A', 'B', 'C', 'F', 'I', 'D', 'G', 'E', 'J'],\n",
              " ['A', 'B', 'C', 'F', 'I', 'D', 'G', 'J', 'E'],\n",
              " ['A', 'B', 'C', 'F', 'I', 'D', 'J', 'E', 'G'],\n",
              " ['A', 'B', 'C', 'F', 'I', 'D', 'J', 'G', 'E'],\n",
              " ['A', 'B', 'C', 'F', 'I', 'E', 'D', 'G', 'J'],\n",
              " ['A', 'B', 'C', 'F', 'I', 'E', 'D', 'J', 'G'],\n",
              " ['A', 'B', 'C', 'F', 'I', 'E', 'G', 'D', 'J'],\n",
              " ['A', 'B', 'C', 'F', 'I', 'E', 'G', 'J', 'D'],\n",
              " ['A', 'B', 'C', 'F', 'I', 'E', 'J', 'D', 'G'],\n",
              " ['A', 'B', 'C', 'F', 'I', 'E', 'J', 'G', 'D'],\n",
              " ['A', 'B', 'C', 'F', 'I', 'G', 'D', 'E', 'J'],\n",
              " ['A', 'B', 'C', 'F', 'I', 'G', 'D', 'J', 'E'],\n",
              " ['A', 'B', 'C', 'F', 'I', 'G', 'E', 'D', 'J'],\n",
              " ['A', 'B', 'C', 'F', 'I', 'G', 'E', 'J', 'D'],\n",
              " ['A', 'B', 'C', 'F', 'I', 'G', 'J', 'D', 'E'],\n",
              " ['A', 'B', 'C', 'F', 'I', 'G', 'J', 'E', 'D'],\n",
              " ['A', 'B', 'C', 'F', 'I', 'J', 'D', 'E', 'G'],\n",
              " ['A', 'B', 'C', 'F', 'I', 'J', 'D', 'G', 'E'],\n",
              " ['A', 'B', 'C', 'F', 'I', 'J', 'E', 'D', 'G'],\n",
              " ['A', 'B', 'C', 'F', 'I', 'J', 'E', 'G', 'D'],\n",
              " ['A', 'B', 'C', 'F', 'I', 'J', 'G', 'D', 'E'],\n",
              " ['A', 'B', 'C', 'F', 'I', 'J', 'G', 'E', 'D'],\n",
              " ['A', 'B', 'C', 'F', 'J', 'D', 'E', 'G', 'I'],\n",
              " ['A', 'B', 'C', 'F', 'J', 'D', 'E', 'I', 'G'],\n",
              " ['A', 'B', 'C', 'F', 'J', 'D', 'G', 'E', 'I'],\n",
              " ['A', 'B', 'C', 'F', 'J', 'D', 'G', 'I', 'E'],\n",
              " ['A', 'B', 'C', 'F', 'J', 'D', 'I', 'E', 'G'],\n",
              " ['A', 'B', 'C', 'F', 'J', 'D', 'I', 'G', 'E'],\n",
              " ['A', 'B', 'C', 'F', 'J', 'E', 'D', 'G', 'I'],\n",
              " ['A', 'B', 'C', 'F', 'J', 'E', 'D', 'I', 'G'],\n",
              " ['A', 'B', 'C', 'F', 'J', 'E', 'G', 'D', 'I'],\n",
              " ['A', 'B', 'C', 'F', 'J', 'E', 'G', 'I', 'D'],\n",
              " ['A', 'B', 'C', 'F', 'J', 'E', 'I', 'D', 'G'],\n",
              " ['A', 'B', 'C', 'F', 'J', 'E', 'I', 'G', 'D'],\n",
              " ['A', 'B', 'C', 'F', 'J', 'G', 'D', 'E', 'I'],\n",
              " ['A', 'B', 'C', 'F', 'J', 'G', 'D', 'I', 'E'],\n",
              " ['A', 'B', 'C', 'F', 'J', 'G', 'E', 'D', 'I'],\n",
              " ['A', 'B', 'C', 'F', 'J', 'G', 'E', 'I', 'D'],\n",
              " ['A', 'B', 'C', 'F', 'J', 'G', 'I', 'D', 'E'],\n",
              " ['A', 'B', 'C', 'F', 'J', 'G', 'I', 'E', 'D'],\n",
              " ['A', 'B', 'C', 'F', 'J', 'I', 'D', 'E', 'G'],\n",
              " ['A', 'B', 'C', 'F', 'J', 'I', 'D', 'G', 'E'],\n",
              " ['A', 'B', 'C', 'F', 'J', 'I', 'E', 'D', 'G'],\n",
              " ['A', 'B', 'C', 'F', 'J', 'I', 'E', 'G', 'D'],\n",
              " ['A', 'B', 'C', 'F', 'J', 'I', 'G', 'D', 'E'],\n",
              " ['A', 'B', 'C', 'F', 'J', 'I', 'G', 'E', 'D'],\n",
              " ['A', 'B', 'C', 'G', 'D', 'E', 'F', 'I', 'J'],\n",
              " ['A', 'B', 'C', 'G', 'D', 'E', 'F', 'J', 'I'],\n",
              " ['A', 'B', 'C', 'G', 'D', 'E', 'I', 'F', 'J'],\n",
              " ['A', 'B', 'C', 'G', 'D', 'E', 'I', 'J', 'F'],\n",
              " ['A', 'B', 'C', 'G', 'D', 'E', 'J', 'F', 'I'],\n",
              " ['A', 'B', 'C', 'G', 'D', 'E', 'J', 'I', 'F'],\n",
              " ['A', 'B', 'C', 'G', 'D', 'F', 'E', 'I', 'J'],\n",
              " ['A', 'B', 'C', 'G', 'D', 'F', 'E', 'J', 'I'],\n",
              " ['A', 'B', 'C', 'G', 'D', 'F', 'I', 'E', 'J'],\n",
              " ['A', 'B', 'C', 'G', 'D', 'F', 'I', 'J', 'E'],\n",
              " ['A', 'B', 'C', 'G', 'D', 'F', 'J', 'E', 'I'],\n",
              " ['A', 'B', 'C', 'G', 'D', 'F', 'J', 'I', 'E'],\n",
              " ['A', 'B', 'C', 'G', 'D', 'I', 'E', 'F', 'J'],\n",
              " ['A', 'B', 'C', 'G', 'D', 'I', 'E', 'J', 'F'],\n",
              " ['A', 'B', 'C', 'G', 'D', 'I', 'F', 'E', 'J'],\n",
              " ['A', 'B', 'C', 'G', 'D', 'I', 'F', 'J', 'E'],\n",
              " ['A', 'B', 'C', 'G', 'D', 'I', 'J', 'E', 'F'],\n",
              " ['A', 'B', 'C', 'G', 'D', 'I', 'J', 'F', 'E'],\n",
              " ['A', 'B', 'C', 'G', 'D', 'J', 'E', 'F', 'I'],\n",
              " ['A', 'B', 'C', 'G', 'D', 'J', 'E', 'I', 'F'],\n",
              " ['A', 'B', 'C', 'G', 'D', 'J', 'F', 'E', 'I'],\n",
              " ['A', 'B', 'C', 'G', 'D', 'J', 'F', 'I', 'E'],\n",
              " ['A', 'B', 'C', 'G', 'D', 'J', 'I', 'E', 'F'],\n",
              " ['A', 'B', 'C', 'G', 'D', 'J', 'I', 'F', 'E'],\n",
              " ['A', 'B', 'C', 'G', 'E', 'D', 'F', 'I', 'J'],\n",
              " ['A', 'B', 'C', 'G', 'E', 'D', 'F', 'J', 'I'],\n",
              " ['A', 'B', 'C', 'G', 'E', 'D', 'I', 'F', 'J'],\n",
              " ['A', 'B', 'C', 'G', 'E', 'D', 'I', 'J', 'F'],\n",
              " ['A', 'B', 'C', 'G', 'E', 'D', 'J', 'F', 'I'],\n",
              " ['A', 'B', 'C', 'G', 'E', 'D', 'J', 'I', 'F'],\n",
              " ['A', 'B', 'C', 'G', 'E', 'F', 'D', 'I', 'J'],\n",
              " ['A', 'B', 'C', 'G', 'E', 'F', 'D', 'J', 'I'],\n",
              " ['A', 'B', 'C', 'G', 'E', 'F', 'I', 'D', 'J'],\n",
              " ['A', 'B', 'C', 'G', 'E', 'F', 'I', 'J', 'D'],\n",
              " ['A', 'B', 'C', 'G', 'E', 'F', 'J', 'D', 'I'],\n",
              " ['A', 'B', 'C', 'G', 'E', 'F', 'J', 'I', 'D'],\n",
              " ['A', 'B', 'C', 'G', 'E', 'I', 'D', 'F', 'J'],\n",
              " ['A', 'B', 'C', 'G', 'E', 'I', 'D', 'J', 'F'],\n",
              " ['A', 'B', 'C', 'G', 'E', 'I', 'F', 'D', 'J'],\n",
              " ['A', 'B', 'C', 'G', 'E', 'I', 'F', 'J', 'D'],\n",
              " ['A', 'B', 'C', 'G', 'E', 'I', 'J', 'D', 'F'],\n",
              " ['A', 'B', 'C', 'G', 'E', 'I', 'J', 'F', 'D'],\n",
              " ['A', 'B', 'C', 'G', 'E', 'J', 'D', 'F', 'I'],\n",
              " ['A', 'B', 'C', 'G', 'E', 'J', 'D', 'I', 'F'],\n",
              " ['A', 'B', 'C', 'G', 'E', 'J', 'F', 'D', 'I'],\n",
              " ['A', 'B', 'C', 'G', 'E', 'J', 'F', 'I', 'D'],\n",
              " ['A', 'B', 'C', 'G', 'E', 'J', 'I', 'D', 'F'],\n",
              " ['A', 'B', 'C', 'G', 'E', 'J', 'I', 'F', 'D'],\n",
              " ['A', 'B', 'C', 'G', 'F', 'D', 'E', 'I', 'J'],\n",
              " ['A', 'B', 'C', 'G', 'F', 'D', 'E', 'J', 'I'],\n",
              " ['A', 'B', 'C', 'G', 'F', 'D', 'I', 'E', 'J'],\n",
              " ['A', 'B', 'C', 'G', 'F', 'D', 'I', 'J', 'E'],\n",
              " ['A', 'B', 'C', 'G', 'F', 'D', 'J', 'E', 'I'],\n",
              " ['A', 'B', 'C', 'G', 'F', 'D', 'J', 'I', 'E'],\n",
              " ['A', 'B', 'C', 'G', 'F', 'E', 'D', 'I', 'J'],\n",
              " ['A', 'B', 'C', 'G', 'F', 'E', 'D', 'J', 'I'],\n",
              " ['A', 'B', 'C', 'G', 'F', 'E', 'I', 'D', 'J'],\n",
              " ['A', 'B', 'C', 'G', 'F', 'E', 'I', 'J', 'D'],\n",
              " ['A', 'B', 'C', 'G', 'F', 'E', 'J', 'D', 'I'],\n",
              " ['A', 'B', 'C', 'G', 'F', 'E', 'J', 'I', 'D'],\n",
              " ['A', 'B', 'C', 'G', 'F', 'I', 'D', 'E', 'J'],\n",
              " ['A', 'B', 'C', 'G', 'F', 'I', 'D', 'J', 'E'],\n",
              " ['A', 'B', 'C', 'G', 'F', 'I', 'E', 'D', 'J'],\n",
              " ['A', 'B', 'C', 'G', 'F', 'I', 'E', 'J', 'D'],\n",
              " ['A', 'B', 'C', 'G', 'F', 'I', 'J', 'D', 'E'],\n",
              " ['A', 'B', 'C', 'G', 'F', 'I', 'J', 'E', 'D'],\n",
              " ['A', 'B', 'C', 'G', 'F', 'J', 'D', 'E', 'I'],\n",
              " ['A', 'B', 'C', 'G', 'F', 'J', 'D', 'I', 'E'],\n",
              " ['A', 'B', 'C', 'G', 'F', 'J', 'E', 'D', 'I'],\n",
              " ['A', 'B', 'C', 'G', 'F', 'J', 'E', 'I', 'D'],\n",
              " ['A', 'B', 'C', 'G', 'F', 'J', 'I', 'D', 'E'],\n",
              " ['A', 'B', 'C', 'G', 'F', 'J', 'I', 'E', 'D'],\n",
              " ['A', 'B', 'C', 'G', 'I', 'D', 'E', 'F', 'J'],\n",
              " ['A', 'B', 'C', 'G', 'I', 'D', 'E', 'J', 'F'],\n",
              " ['A', 'B', 'C', 'G', 'I', 'D', 'F', 'E', 'J'],\n",
              " ['A', 'B', 'C', 'G', 'I', 'D', 'F', 'J', 'E'],\n",
              " ['A', 'B', 'C', 'G', 'I', 'D', 'J', 'E', 'F'],\n",
              " ['A', 'B', 'C', 'G', 'I', 'D', 'J', 'F', 'E'],\n",
              " ['A', 'B', 'C', 'G', 'I', 'E', 'D', 'F', 'J'],\n",
              " ['A', 'B', 'C', 'G', 'I', 'E', 'D', 'J', 'F'],\n",
              " ['A', 'B', 'C', 'G', 'I', 'E', 'F', 'D', 'J'],\n",
              " ['A', 'B', 'C', 'G', 'I', 'E', 'F', 'J', 'D'],\n",
              " ['A', 'B', 'C', 'G', 'I', 'E', 'J', 'D', 'F'],\n",
              " ['A', 'B', 'C', 'G', 'I', 'E', 'J', 'F', 'D'],\n",
              " ['A', 'B', 'C', 'G', 'I', 'F', 'D', 'E', 'J'],\n",
              " ['A', 'B', 'C', 'G', 'I', 'F', 'D', 'J', 'E'],\n",
              " ['A', 'B', 'C', 'G', 'I', 'F', 'E', 'D', 'J'],\n",
              " ['A', 'B', 'C', 'G', 'I', 'F', 'E', 'J', 'D'],\n",
              " ['A', 'B', 'C', 'G', 'I', 'F', 'J', 'D', 'E'],\n",
              " ['A', 'B', 'C', 'G', 'I', 'F', 'J', 'E', 'D'],\n",
              " ['A', 'B', 'C', 'G', 'I', 'J', 'D', 'E', 'F'],\n",
              " ['A', 'B', 'C', 'G', 'I', 'J', 'D', 'F', 'E'],\n",
              " ['A', 'B', 'C', 'G', 'I', 'J', 'E', 'D', 'F'],\n",
              " ['A', 'B', 'C', 'G', 'I', 'J', 'E', 'F', 'D'],\n",
              " ['A', 'B', 'C', 'G', 'I', 'J', 'F', 'D', 'E'],\n",
              " ['A', 'B', 'C', 'G', 'I', 'J', 'F', 'E', 'D'],\n",
              " ['A', 'B', 'C', 'G', 'J', 'D', 'E', 'F', 'I'],\n",
              " ['A', 'B', 'C', 'G', 'J', 'D', 'E', 'I', 'F'],\n",
              " ['A', 'B', 'C', 'G', 'J', 'D', 'F', 'E', 'I'],\n",
              " ['A', 'B', 'C', 'G', 'J', 'D', 'F', 'I', 'E'],\n",
              " ['A', 'B', 'C', 'G', 'J', 'D', 'I', 'E', 'F'],\n",
              " ['A', 'B', 'C', 'G', 'J', 'D', 'I', 'F', 'E'],\n",
              " ['A', 'B', 'C', 'G', 'J', 'E', 'D', 'F', 'I'],\n",
              " ['A', 'B', 'C', 'G', 'J', 'E', 'D', 'I', 'F'],\n",
              " ['A', 'B', 'C', 'G', 'J', 'E', 'F', 'D', 'I'],\n",
              " ['A', 'B', 'C', 'G', 'J', 'E', 'F', 'I', 'D'],\n",
              " ['A', 'B', 'C', 'G', 'J', 'E', 'I', 'D', 'F'],\n",
              " ['A', 'B', 'C', 'G', 'J', 'E', 'I', 'F', 'D'],\n",
              " ['A', 'B', 'C', 'G', 'J', 'F', 'D', 'E', 'I'],\n",
              " ['A', 'B', 'C', 'G', 'J', 'F', 'D', 'I', 'E'],\n",
              " ['A', 'B', 'C', 'G', 'J', 'F', 'E', 'D', 'I'],\n",
              " ['A', 'B', 'C', 'G', 'J', 'F', 'E', 'I', 'D'],\n",
              " ['A', 'B', 'C', 'G', 'J', 'F', 'I', 'D', 'E'],\n",
              " ['A', 'B', 'C', 'G', 'J', 'F', 'I', 'E', 'D'],\n",
              " ['A', 'B', 'C', 'G', 'J', 'I', 'D', 'E', 'F'],\n",
              " ['A', 'B', 'C', 'G', 'J', 'I', 'D', 'F', 'E'],\n",
              " ['A', 'B', 'C', 'G', 'J', 'I', 'E', 'D', 'F'],\n",
              " ['A', 'B', 'C', 'G', 'J', 'I', 'E', 'F', 'D'],\n",
              " ['A', 'B', 'C', 'G', 'J', 'I', 'F', 'D', 'E'],\n",
              " ['A', 'B', 'C', 'G', 'J', 'I', 'F', 'E', 'D'],\n",
              " ['A', 'B', 'C', 'I', 'D', 'E', 'F', 'G', 'J'],\n",
              " ['A', 'B', 'C', 'I', 'D', 'E', 'F', 'J', 'G'],\n",
              " ['A', 'B', 'C', 'I', 'D', 'E', 'G', 'F', 'J'],\n",
              " ['A', 'B', 'C', 'I', 'D', 'E', 'G', 'J', 'F'],\n",
              " ['A', 'B', 'C', 'I', 'D', 'E', 'J', 'F', 'G'],\n",
              " ['A', 'B', 'C', 'I', 'D', 'E', 'J', 'G', 'F'],\n",
              " ['A', 'B', 'C', 'I', 'D', 'F', 'E', 'G', 'J'],\n",
              " ['A', 'B', 'C', 'I', 'D', 'F', 'E', 'J', 'G'],\n",
              " ['A', 'B', 'C', 'I', 'D', 'F', 'G', 'E', 'J'],\n",
              " ['A', 'B', 'C', 'I', 'D', 'F', 'G', 'J', 'E'],\n",
              " ['A', 'B', 'C', 'I', 'D', 'F', 'J', 'E', 'G'],\n",
              " ['A', 'B', 'C', 'I', 'D', 'F', 'J', 'G', 'E'],\n",
              " ['A', 'B', 'C', 'I', 'D', 'G', 'E', 'F', 'J'],\n",
              " ['A', 'B', 'C', 'I', 'D', 'G', 'E', 'J', 'F'],\n",
              " ['A', 'B', 'C', 'I', 'D', 'G', 'F', 'E', 'J'],\n",
              " ['A', 'B', 'C', 'I', 'D', 'G', 'F', 'J', 'E'],\n",
              " ['A', 'B', 'C', 'I', 'D', 'G', 'J', 'E', 'F'],\n",
              " ['A', 'B', 'C', 'I', 'D', 'G', 'J', 'F', 'E'],\n",
              " ['A', 'B', 'C', 'I', 'D', 'J', 'E', 'F', 'G'],\n",
              " ['A', 'B', 'C', 'I', 'D', 'J', 'E', 'G', 'F'],\n",
              " ['A', 'B', 'C', 'I', 'D', 'J', 'F', 'E', 'G'],\n",
              " ['A', 'B', 'C', 'I', 'D', 'J', 'F', 'G', 'E'],\n",
              " ['A', 'B', 'C', 'I', 'D', 'J', 'G', 'E', 'F'],\n",
              " ['A', 'B', 'C', 'I', 'D', 'J', 'G', 'F', 'E'],\n",
              " ['A', 'B', 'C', 'I', 'E', 'D', 'F', 'G', 'J'],\n",
              " ['A', 'B', 'C', 'I', 'E', 'D', 'F', 'J', 'G'],\n",
              " ['A', 'B', 'C', 'I', 'E', 'D', 'G', 'F', 'J'],\n",
              " ['A', 'B', 'C', 'I', 'E', 'D', 'G', 'J', 'F'],\n",
              " ['A', 'B', 'C', 'I', 'E', 'D', 'J', 'F', 'G'],\n",
              " ['A', 'B', 'C', 'I', 'E', 'D', 'J', 'G', 'F'],\n",
              " ['A', 'B', 'C', 'I', 'E', 'F', 'D', 'G', 'J'],\n",
              " ['A', 'B', 'C', 'I', 'E', 'F', 'D', 'J', 'G'],\n",
              " ['A', 'B', 'C', 'I', 'E', 'F', 'G', 'D', 'J'],\n",
              " ['A', 'B', 'C', 'I', 'E', 'F', 'G', 'J', 'D'],\n",
              " ['A', 'B', 'C', 'I', 'E', 'F', 'J', 'D', 'G'],\n",
              " ['A', 'B', 'C', 'I', 'E', 'F', 'J', 'G', 'D'],\n",
              " ['A', 'B', 'C', 'I', 'E', 'G', 'D', 'F', 'J'],\n",
              " ['A', 'B', 'C', 'I', 'E', 'G', 'D', 'J', 'F'],\n",
              " ['A', 'B', 'C', 'I', 'E', 'G', 'F', 'D', 'J'],\n",
              " ['A', 'B', 'C', 'I', 'E', 'G', 'F', 'J', 'D'],\n",
              " ['A', 'B', 'C', 'I', 'E', 'G', 'J', 'D', 'F'],\n",
              " ['A', 'B', 'C', 'I', 'E', 'G', 'J', 'F', 'D'],\n",
              " ['A', 'B', 'C', 'I', 'E', 'J', 'D', 'F', 'G'],\n",
              " ['A', 'B', 'C', 'I', 'E', 'J', 'D', 'G', 'F'],\n",
              " ['A', 'B', 'C', 'I', 'E', 'J', 'F', 'D', 'G'],\n",
              " ['A', 'B', 'C', 'I', 'E', 'J', 'F', 'G', 'D'],\n",
              " ['A', 'B', 'C', 'I', 'E', 'J', 'G', 'D', 'F'],\n",
              " ['A', 'B', 'C', 'I', 'E', 'J', 'G', 'F', 'D'],\n",
              " ['A', 'B', 'C', 'I', 'F', 'D', 'E', 'G', 'J'],\n",
              " ['A', 'B', 'C', 'I', 'F', 'D', 'E', 'J', 'G'],\n",
              " ['A', 'B', 'C', 'I', 'F', 'D', 'G', 'E', 'J'],\n",
              " ['A', 'B', 'C', 'I', 'F', 'D', 'G', 'J', 'E'],\n",
              " ['A', 'B', 'C', 'I', 'F', 'D', 'J', 'E', 'G'],\n",
              " ['A', 'B', 'C', 'I', 'F', 'D', 'J', 'G', 'E'],\n",
              " ['A', 'B', 'C', 'I', 'F', 'E', 'D', 'G', 'J'],\n",
              " ['A', 'B', 'C', 'I', 'F', 'E', 'D', 'J', 'G'],\n",
              " ['A', 'B', 'C', 'I', 'F', 'E', 'G', 'D', 'J'],\n",
              " ['A', 'B', 'C', 'I', 'F', 'E', 'G', 'J', 'D'],\n",
              " ['A', 'B', 'C', 'I', 'F', 'E', 'J', 'D', 'G'],\n",
              " ['A', 'B', 'C', 'I', 'F', 'E', 'J', 'G', 'D'],\n",
              " ['A', 'B', 'C', 'I', 'F', 'G', 'D', 'E', 'J'],\n",
              " ['A', 'B', 'C', 'I', 'F', 'G', 'D', 'J', 'E'],\n",
              " ['A', 'B', 'C', 'I', 'F', 'G', 'E', 'D', 'J'],\n",
              " ['A', 'B', 'C', 'I', 'F', 'G', 'E', 'J', 'D'],\n",
              " ['A', 'B', 'C', 'I', 'F', 'G', 'J', 'D', 'E'],\n",
              " ['A', 'B', 'C', 'I', 'F', 'G', 'J', 'E', 'D'],\n",
              " ['A', 'B', 'C', 'I', 'F', 'J', 'D', 'E', 'G'],\n",
              " ['A', 'B', 'C', 'I', 'F', 'J', 'D', 'G', 'E'],\n",
              " ['A', 'B', 'C', 'I', 'F', 'J', 'E', 'D', 'G'],\n",
              " ['A', 'B', 'C', 'I', 'F', 'J', 'E', 'G', 'D'],\n",
              " ['A', 'B', 'C', 'I', 'F', 'J', 'G', 'D', 'E'],\n",
              " ['A', 'B', 'C', 'I', 'F', 'J', 'G', 'E', 'D'],\n",
              " ['A', 'B', 'C', 'I', 'G', 'D', 'E', 'F', 'J'],\n",
              " ['A', 'B', 'C', 'I', 'G', 'D', 'E', 'J', 'F'],\n",
              " ['A', 'B', 'C', 'I', 'G', 'D', 'F', 'E', 'J'],\n",
              " ['A', 'B', 'C', 'I', 'G', 'D', 'F', 'J', 'E'],\n",
              " ['A', 'B', 'C', 'I', 'G', 'D', 'J', 'E', 'F'],\n",
              " ['A', 'B', 'C', 'I', 'G', 'D', 'J', 'F', 'E'],\n",
              " ['A', 'B', 'C', 'I', 'G', 'E', 'D', 'F', 'J'],\n",
              " ['A', 'B', 'C', 'I', 'G', 'E', 'D', 'J', 'F'],\n",
              " ['A', 'B', 'C', 'I', 'G', 'E', 'F', 'D', 'J'],\n",
              " ['A', 'B', 'C', 'I', 'G', 'E', 'F', 'J', 'D'],\n",
              " ['A', 'B', 'C', 'I', 'G', 'E', 'J', 'D', 'F'],\n",
              " ['A', 'B', 'C', 'I', 'G', 'E', 'J', 'F', 'D'],\n",
              " ['A', 'B', 'C', 'I', 'G', 'F', 'D', 'E', 'J'],\n",
              " ['A', 'B', 'C', 'I', 'G', 'F', 'D', 'J', 'E'],\n",
              " ['A', 'B', 'C', 'I', 'G', 'F', 'E', 'D', 'J'],\n",
              " ['A', 'B', 'C', 'I', 'G', 'F', 'E', 'J', 'D'],\n",
              " ['A', 'B', 'C', 'I', 'G', 'F', 'J', 'D', 'E'],\n",
              " ['A', 'B', 'C', 'I', 'G', 'F', 'J', 'E', 'D'],\n",
              " ['A', 'B', 'C', 'I', 'G', 'J', 'D', 'E', 'F'],\n",
              " ['A', 'B', 'C', 'I', 'G', 'J', 'D', 'F', 'E'],\n",
              " ['A', 'B', 'C', 'I', 'G', 'J', 'E', 'D', 'F'],\n",
              " ['A', 'B', 'C', 'I', 'G', 'J', 'E', 'F', 'D'],\n",
              " ['A', 'B', 'C', 'I', 'G', 'J', 'F', 'D', 'E'],\n",
              " ['A', 'B', 'C', 'I', 'G', 'J', 'F', 'E', 'D'],\n",
              " ['A', 'B', 'C', 'I', 'J', 'D', 'E', 'F', 'G'],\n",
              " ['A', 'B', 'C', 'I', 'J', 'D', 'E', 'G', 'F'],\n",
              " ['A', 'B', 'C', 'I', 'J', 'D', 'F', 'E', 'G'],\n",
              " ['A', 'B', 'C', 'I', 'J', 'D', 'F', 'G', 'E'],\n",
              " ['A', 'B', 'C', 'I', 'J', 'D', 'G', 'E', 'F'],\n",
              " ['A', 'B', 'C', 'I', 'J', 'D', 'G', 'F', 'E'],\n",
              " ['A', 'B', 'C', 'I', 'J', 'E', 'D', 'F', 'G'],\n",
              " ['A', 'B', 'C', 'I', 'J', 'E', 'D', 'G', 'F'],\n",
              " ['A', 'B', 'C', 'I', 'J', 'E', 'F', 'D', 'G'],\n",
              " ['A', 'B', 'C', 'I', 'J', 'E', 'F', 'G', 'D'],\n",
              " ['A', 'B', 'C', 'I', 'J', 'E', 'G', 'D', 'F'],\n",
              " ['A', 'B', 'C', 'I', 'J', 'E', 'G', 'F', 'D'],\n",
              " ['A', 'B', 'C', 'I', 'J', 'F', 'D', 'E', 'G'],\n",
              " ['A', 'B', 'C', 'I', 'J', 'F', 'D', 'G', 'E'],\n",
              " ['A', 'B', 'C', 'I', 'J', 'F', 'E', 'D', 'G'],\n",
              " ['A', 'B', 'C', 'I', 'J', 'F', 'E', 'G', 'D'],\n",
              " ['A', 'B', 'C', 'I', 'J', 'F', 'G', 'D', 'E'],\n",
              " ['A', 'B', 'C', 'I', 'J', 'F', 'G', 'E', 'D'],\n",
              " ['A', 'B', 'C', 'I', 'J', 'G', 'D', 'E', 'F'],\n",
              " ['A', 'B', 'C', 'I', 'J', 'G', 'D', 'F', 'E'],\n",
              " ['A', 'B', 'C', 'I', 'J', 'G', 'E', 'D', 'F'],\n",
              " ['A', 'B', 'C', 'I', 'J', 'G', 'E', 'F', 'D'],\n",
              " ['A', 'B', 'C', 'I', 'J', 'G', 'F', 'D', 'E'],\n",
              " ['A', 'B', 'C', 'I', 'J', 'G', 'F', 'E', 'D'],\n",
              " ['A', 'B', 'C', 'J', 'D', 'E', 'F', 'G', 'I'],\n",
              " ['A', 'B', 'C', 'J', 'D', 'E', 'F', 'I', 'G'],\n",
              " ['A', 'B', 'C', 'J', 'D', 'E', 'G', 'F', 'I'],\n",
              " ['A', 'B', 'C', 'J', 'D', 'E', 'G', 'I', 'F'],\n",
              " ['A', 'B', 'C', 'J', 'D', 'E', 'I', 'F', 'G'],\n",
              " ['A', 'B', 'C', 'J', 'D', 'E', 'I', 'G', 'F'],\n",
              " ['A', 'B', 'C', 'J', 'D', 'F', 'E', 'G', 'I'],\n",
              " ['A', 'B', 'C', 'J', 'D', 'F', 'E', 'I', 'G'],\n",
              " ['A', 'B', 'C', 'J', 'D', 'F', 'G', 'E', 'I'],\n",
              " ['A', 'B', 'C', 'J', 'D', 'F', 'G', 'I', 'E'],\n",
              " ['A', 'B', 'C', 'J', 'D', 'F', 'I', 'E', 'G'],\n",
              " ['A', 'B', 'C', 'J', 'D', 'F', 'I', 'G', 'E'],\n",
              " ['A', 'B', 'C', 'J', 'D', 'G', 'E', 'F', 'I'],\n",
              " ['A', 'B', 'C', 'J', 'D', 'G', 'E', 'I', 'F'],\n",
              " ['A', 'B', 'C', 'J', 'D', 'G', 'F', 'E', 'I'],\n",
              " ['A', 'B', 'C', 'J', 'D', 'G', 'F', 'I', 'E'],\n",
              " ['A', 'B', 'C', 'J', 'D', 'G', 'I', 'E', 'F'],\n",
              " ['A', 'B', 'C', 'J', 'D', 'G', 'I', 'F', 'E'],\n",
              " ['A', 'B', 'C', 'J', 'D', 'I', 'E', 'F', 'G'],\n",
              " ['A', 'B', 'C', 'J', 'D', 'I', 'E', 'G', 'F'],\n",
              " ['A', 'B', 'C', 'J', 'D', 'I', 'F', 'E', 'G'],\n",
              " ['A', 'B', 'C', 'J', 'D', 'I', 'F', 'G', 'E'],\n",
              " ['A', 'B', 'C', 'J', 'D', 'I', 'G', 'E', 'F'],\n",
              " ['A', 'B', 'C', 'J', 'D', 'I', 'G', 'F', 'E'],\n",
              " ['A', 'B', 'C', 'J', 'E', 'D', 'F', 'G', 'I'],\n",
              " ['A', 'B', 'C', 'J', 'E', 'D', 'F', 'I', 'G'],\n",
              " ['A', 'B', 'C', 'J', 'E', 'D', 'G', 'F', 'I'],\n",
              " ['A', 'B', 'C', 'J', 'E', 'D', 'G', 'I', 'F'],\n",
              " ['A', 'B', 'C', 'J', 'E', 'D', 'I', 'F', 'G'],\n",
              " ['A', 'B', 'C', 'J', 'E', 'D', 'I', 'G', 'F'],\n",
              " ['A', 'B', 'C', 'J', 'E', 'F', 'D', 'G', 'I'],\n",
              " ['A', 'B', 'C', 'J', 'E', 'F', 'D', 'I', 'G'],\n",
              " ['A', 'B', 'C', 'J', 'E', 'F', 'G', 'D', 'I'],\n",
              " ['A', 'B', 'C', 'J', 'E', 'F', 'G', 'I', 'D'],\n",
              " ['A', 'B', 'C', 'J', 'E', 'F', 'I', 'D', 'G'],\n",
              " ['A', 'B', 'C', 'J', 'E', 'F', 'I', 'G', 'D'],\n",
              " ['A', 'B', 'C', 'J', 'E', 'G', 'D', 'F', 'I'],\n",
              " ['A', 'B', 'C', 'J', 'E', 'G', 'D', 'I', 'F'],\n",
              " ['A', 'B', 'C', 'J', 'E', 'G', 'F', 'D', 'I'],\n",
              " ['A', 'B', 'C', 'J', 'E', 'G', 'F', 'I', 'D'],\n",
              " ['A', 'B', 'C', 'J', 'E', 'G', 'I', 'D', 'F'],\n",
              " ['A', 'B', 'C', 'J', 'E', 'G', 'I', 'F', 'D'],\n",
              " ['A', 'B', 'C', 'J', 'E', 'I', 'D', 'F', 'G'],\n",
              " ['A', 'B', 'C', 'J', 'E', 'I', 'D', 'G', 'F'],\n",
              " ['A', 'B', 'C', 'J', 'E', 'I', 'F', 'D', 'G'],\n",
              " ['A', 'B', 'C', 'J', 'E', 'I', 'F', 'G', 'D'],\n",
              " ['A', 'B', 'C', 'J', 'E', 'I', 'G', 'D', 'F'],\n",
              " ['A', 'B', 'C', 'J', 'E', 'I', 'G', 'F', 'D'],\n",
              " ['A', 'B', 'C', 'J', 'F', 'D', 'E', 'G', 'I'],\n",
              " ['A', 'B', 'C', 'J', 'F', 'D', 'E', 'I', 'G'],\n",
              " ['A', 'B', 'C', 'J', 'F', 'D', 'G', 'E', 'I'],\n",
              " ['A', 'B', 'C', 'J', 'F', 'D', 'G', 'I', 'E'],\n",
              " ['A', 'B', 'C', 'J', 'F', 'D', 'I', 'E', 'G'],\n",
              " ['A', 'B', 'C', 'J', 'F', 'D', 'I', 'G', 'E'],\n",
              " ['A', 'B', 'C', 'J', 'F', 'E', 'D', 'G', 'I'],\n",
              " ['A', 'B', 'C', 'J', 'F', 'E', 'D', 'I', 'G'],\n",
              " ['A', 'B', 'C', 'J', 'F', 'E', 'G', 'D', 'I'],\n",
              " ['A', 'B', 'C', 'J', 'F', 'E', 'G', 'I', 'D'],\n",
              " ['A', 'B', 'C', 'J', 'F', 'E', 'I', 'D', 'G'],\n",
              " ['A', 'B', 'C', 'J', 'F', 'E', 'I', 'G', 'D'],\n",
              " ['A', 'B', 'C', 'J', 'F', 'G', 'D', 'E', 'I'],\n",
              " ['A', 'B', 'C', 'J', 'F', 'G', 'D', 'I', 'E'],\n",
              " ['A', 'B', 'C', 'J', 'F', 'G', 'E', 'D', 'I'],\n",
              " ['A', 'B', 'C', 'J', 'F', 'G', 'E', 'I', 'D'],\n",
              " ['A', 'B', 'C', 'J', 'F', 'G', 'I', 'D', 'E'],\n",
              " ['A', 'B', 'C', 'J', 'F', 'G', 'I', 'E', 'D'],\n",
              " ['A', 'B', 'C', 'J', 'F', 'I', 'D', 'E', 'G'],\n",
              " ['A', 'B', 'C', 'J', 'F', 'I', 'D', 'G', 'E'],\n",
              " ['A', 'B', 'C', 'J', 'F', 'I', 'E', 'D', 'G'],\n",
              " ['A', 'B', 'C', 'J', 'F', 'I', 'E', 'G', 'D'],\n",
              " ['A', 'B', 'C', 'J', 'F', 'I', 'G', 'D', 'E'],\n",
              " ['A', 'B', 'C', 'J', 'F', 'I', 'G', 'E', 'D'],\n",
              " ['A', 'B', 'C', 'J', 'G', 'D', 'E', 'F', 'I'],\n",
              " ['A', 'B', 'C', 'J', 'G', 'D', 'E', 'I', 'F'],\n",
              " ['A', 'B', 'C', 'J', 'G', 'D', 'F', 'E', 'I'],\n",
              " ['A', 'B', 'C', 'J', 'G', 'D', 'F', 'I', 'E'],\n",
              " ['A', 'B', 'C', 'J', 'G', 'D', 'I', 'E', 'F'],\n",
              " ['A', 'B', 'C', 'J', 'G', 'D', 'I', 'F', 'E'],\n",
              " ['A', 'B', 'C', 'J', 'G', 'E', 'D', 'F', 'I'],\n",
              " ['A', 'B', 'C', 'J', 'G', 'E', 'D', 'I', 'F'],\n",
              " ['A', 'B', 'C', 'J', 'G', 'E', 'F', 'D', 'I'],\n",
              " ['A', 'B', 'C', 'J', 'G', 'E', 'F', 'I', 'D'],\n",
              " ['A', 'B', 'C', 'J', 'G', 'E', 'I', 'D', 'F'],\n",
              " ['A', 'B', 'C', 'J', 'G', 'E', 'I', 'F', 'D'],\n",
              " ['A', 'B', 'C', 'J', 'G', 'F', 'D', 'E', 'I'],\n",
              " ['A', 'B', 'C', 'J', 'G', 'F', 'D', 'I', 'E'],\n",
              " ['A', 'B', 'C', 'J', 'G', 'F', 'E', 'D', 'I'],\n",
              " ['A', 'B', 'C', 'J', 'G', 'F', 'E', 'I', 'D'],\n",
              " ['A', 'B', 'C', 'J', 'G', 'F', 'I', 'D', 'E'],\n",
              " ['A', 'B', 'C', 'J', 'G', 'F', 'I', 'E', 'D'],\n",
              " ['A', 'B', 'C', 'J', 'G', 'I', 'D', 'E', 'F'],\n",
              " ['A', 'B', 'C', 'J', 'G', 'I', 'D', 'F', 'E'],\n",
              " ['A', 'B', 'C', 'J', 'G', 'I', 'E', 'D', 'F'],\n",
              " ['A', 'B', 'C', 'J', 'G', 'I', 'E', 'F', 'D'],\n",
              " ['A', 'B', 'C', 'J', 'G', 'I', 'F', 'D', 'E'],\n",
              " ['A', 'B', 'C', 'J', 'G', 'I', 'F', 'E', 'D'],\n",
              " ['A', 'B', 'C', 'J', 'I', 'D', 'E', 'F', 'G'],\n",
              " ['A', 'B', 'C', 'J', 'I', 'D', 'E', 'G', 'F'],\n",
              " ['A', 'B', 'C', 'J', 'I', 'D', 'F', 'E', 'G'],\n",
              " ['A', 'B', 'C', 'J', 'I', 'D', 'F', 'G', 'E'],\n",
              " ['A', 'B', 'C', 'J', 'I', 'D', 'G', 'E', 'F'],\n",
              " ['A', 'B', 'C', 'J', 'I', 'D', 'G', 'F', 'E'],\n",
              " ['A', 'B', 'C', 'J', 'I', 'E', 'D', 'F', 'G'],\n",
              " ['A', 'B', 'C', 'J', 'I', 'E', 'D', 'G', 'F'],\n",
              " ['A', 'B', 'C', 'J', 'I', 'E', 'F', 'D', 'G'],\n",
              " ['A', 'B', 'C', 'J', 'I', 'E', 'F', 'G', 'D'],\n",
              " ['A', 'B', 'C', 'J', 'I', 'E', 'G', 'D', 'F'],\n",
              " ['A', 'B', 'C', 'J', 'I', 'E', 'G', 'F', 'D'],\n",
              " ['A', 'B', 'C', 'J', 'I', 'F', 'D', 'E', 'G'],\n",
              " ['A', 'B', 'C', 'J', 'I', 'F', 'D', 'G', 'E'],\n",
              " ['A', 'B', 'C', 'J', 'I', 'F', 'E', 'D', 'G'],\n",
              " ['A', 'B', 'C', 'J', 'I', 'F', 'E', 'G', 'D'],\n",
              " ['A', 'B', 'C', 'J', 'I', 'F', 'G', 'D', 'E'],\n",
              " ['A', 'B', 'C', 'J', 'I', 'F', 'G', 'E', 'D'],\n",
              " ['A', 'B', 'C', 'J', 'I', 'G', 'D', 'E', 'F'],\n",
              " ['A', 'B', 'C', 'J', 'I', 'G', 'D', 'F', 'E'],\n",
              " ['A', 'B', 'C', 'J', 'I', 'G', 'E', 'D', 'F'],\n",
              " ['A', 'B', 'C', 'J', 'I', 'G', 'E', 'F', 'D'],\n",
              " ['A', 'B', 'C', 'J', 'I', 'G', 'F', 'D', 'E'],\n",
              " ['A', 'B', 'C', 'J', 'I', 'G', 'F', 'E', 'D'],\n",
              " ['A', 'B', 'D', 'C', 'E', 'F', 'G', 'I', 'J'],\n",
              " ['A', 'B', 'D', 'C', 'E', 'F', 'G', 'J', 'I'],\n",
              " ['A', 'B', 'D', 'C', 'E', 'F', 'I', 'G', 'J'],\n",
              " ['A', 'B', 'D', 'C', 'E', 'F', 'I', 'J', 'G'],\n",
              " ['A', 'B', 'D', 'C', 'E', 'F', 'J', 'G', 'I'],\n",
              " ['A', 'B', 'D', 'C', 'E', 'F', 'J', 'I', 'G'],\n",
              " ['A', 'B', 'D', 'C', 'E', 'G', 'F', 'I', 'J'],\n",
              " ['A', 'B', 'D', 'C', 'E', 'G', 'F', 'J', 'I'],\n",
              " ['A', 'B', 'D', 'C', 'E', 'G', 'I', 'F', 'J'],\n",
              " ['A', 'B', 'D', 'C', 'E', 'G', 'I', 'J', 'F'],\n",
              " ['A', 'B', 'D', 'C', 'E', 'G', 'J', 'F', 'I'],\n",
              " ['A', 'B', 'D', 'C', 'E', 'G', 'J', 'I', 'F'],\n",
              " ['A', 'B', 'D', 'C', 'E', 'I', 'F', 'G', 'J'],\n",
              " ['A', 'B', 'D', 'C', 'E', 'I', 'F', 'J', 'G'],\n",
              " ['A', 'B', 'D', 'C', 'E', 'I', 'G', 'F', 'J'],\n",
              " ['A', 'B', 'D', 'C', 'E', 'I', 'G', 'J', 'F'],\n",
              " ['A', 'B', 'D', 'C', 'E', 'I', 'J', 'F', 'G'],\n",
              " ['A', 'B', 'D', 'C', 'E', 'I', 'J', 'G', 'F'],\n",
              " ['A', 'B', 'D', 'C', 'E', 'J', 'F', 'G', 'I'],\n",
              " ['A', 'B', 'D', 'C', 'E', 'J', 'F', 'I', 'G'],\n",
              " ['A', 'B', 'D', 'C', 'E', 'J', 'G', 'F', 'I'],\n",
              " ['A', 'B', 'D', 'C', 'E', 'J', 'G', 'I', 'F'],\n",
              " ['A', 'B', 'D', 'C', 'E', 'J', 'I', 'F', 'G'],\n",
              " ['A', 'B', 'D', 'C', 'E', 'J', 'I', 'G', 'F'],\n",
              " ['A', 'B', 'D', 'C', 'F', 'E', 'G', 'I', 'J'],\n",
              " ['A', 'B', 'D', 'C', 'F', 'E', 'G', 'J', 'I'],\n",
              " ['A', 'B', 'D', 'C', 'F', 'E', 'I', 'G', 'J'],\n",
              " ['A', 'B', 'D', 'C', 'F', 'E', 'I', 'J', 'G'],\n",
              " ['A', 'B', 'D', 'C', 'F', 'E', 'J', 'G', 'I'],\n",
              " ['A', 'B', 'D', 'C', 'F', 'E', 'J', 'I', 'G'],\n",
              " ['A', 'B', 'D', 'C', 'F', 'G', 'E', 'I', 'J'],\n",
              " ['A', 'B', 'D', 'C', 'F', 'G', 'E', 'J', 'I'],\n",
              " ['A', 'B', 'D', 'C', 'F', 'G', 'I', 'E', 'J'],\n",
              " ['A', 'B', 'D', 'C', 'F', 'G', 'I', 'J', 'E'],\n",
              " ['A', 'B', 'D', 'C', 'F', 'G', 'J', 'E', 'I'],\n",
              " ['A', 'B', 'D', 'C', 'F', 'G', 'J', 'I', 'E'],\n",
              " ['A', 'B', 'D', 'C', 'F', 'I', 'E', 'G', 'J'],\n",
              " ['A', 'B', 'D', 'C', 'F', 'I', 'E', 'J', 'G'],\n",
              " ['A', 'B', 'D', 'C', 'F', 'I', 'G', 'E', 'J'],\n",
              " ['A', 'B', 'D', 'C', 'F', 'I', 'G', 'J', 'E'],\n",
              " ['A', 'B', 'D', 'C', 'F', 'I', 'J', 'E', 'G'],\n",
              " ['A', 'B', 'D', 'C', 'F', 'I', 'J', 'G', 'E'],\n",
              " ['A', 'B', 'D', 'C', 'F', 'J', 'E', 'G', 'I'],\n",
              " ['A', 'B', 'D', 'C', 'F', 'J', 'E', 'I', 'G'],\n",
              " ['A', 'B', 'D', 'C', 'F', 'J', 'G', 'E', 'I'],\n",
              " ['A', 'B', 'D', 'C', 'F', 'J', 'G', 'I', 'E'],\n",
              " ['A', 'B', 'D', 'C', 'F', 'J', 'I', 'E', 'G'],\n",
              " ['A', 'B', 'D', 'C', 'F', 'J', 'I', 'G', 'E'],\n",
              " ['A', 'B', 'D', 'C', 'G', 'E', 'F', 'I', 'J'],\n",
              " ['A', 'B', 'D', 'C', 'G', 'E', 'F', 'J', 'I'],\n",
              " ['A', 'B', 'D', 'C', 'G', 'E', 'I', 'F', 'J'],\n",
              " ['A', 'B', 'D', 'C', 'G', 'E', 'I', 'J', 'F'],\n",
              " ['A', 'B', 'D', 'C', 'G', 'E', 'J', 'F', 'I'],\n",
              " ['A', 'B', 'D', 'C', 'G', 'E', 'J', 'I', 'F'],\n",
              " ['A', 'B', 'D', 'C', 'G', 'F', 'E', 'I', 'J'],\n",
              " ['A', 'B', 'D', 'C', 'G', 'F', 'E', 'J', 'I'],\n",
              " ['A', 'B', 'D', 'C', 'G', 'F', 'I', 'E', 'J'],\n",
              " ['A', 'B', 'D', 'C', 'G', 'F', 'I', 'J', 'E'],\n",
              " ['A', 'B', 'D', 'C', 'G', 'F', 'J', 'E', 'I'],\n",
              " ['A', 'B', 'D', 'C', 'G', 'F', 'J', 'I', 'E'],\n",
              " ['A', 'B', 'D', 'C', 'G', 'I', 'E', 'F', 'J'],\n",
              " ['A', 'B', 'D', 'C', 'G', 'I', 'E', 'J', 'F'],\n",
              " ['A', 'B', 'D', 'C', 'G', 'I', 'F', 'E', 'J'],\n",
              " ['A', 'B', 'D', 'C', 'G', 'I', 'F', 'J', 'E'],\n",
              " ['A', 'B', 'D', 'C', 'G', 'I', 'J', 'E', 'F'],\n",
              " ['A', 'B', 'D', 'C', 'G', 'I', 'J', 'F', 'E'],\n",
              " ['A', 'B', 'D', 'C', 'G', 'J', 'E', 'F', 'I'],\n",
              " ['A', 'B', 'D', 'C', 'G', 'J', 'E', 'I', 'F'],\n",
              " ['A', 'B', 'D', 'C', 'G', 'J', 'F', 'E', 'I'],\n",
              " ['A', 'B', 'D', 'C', 'G', 'J', 'F', 'I', 'E'],\n",
              " ['A', 'B', 'D', 'C', 'G', 'J', 'I', 'E', 'F'],\n",
              " ['A', 'B', 'D', 'C', 'G', 'J', 'I', 'F', 'E'],\n",
              " ['A', 'B', 'D', 'C', 'I', 'E', 'F', 'G', 'J'],\n",
              " ['A', 'B', 'D', 'C', 'I', 'E', 'F', 'J', 'G'],\n",
              " ['A', 'B', 'D', 'C', 'I', 'E', 'G', 'F', 'J'],\n",
              " ['A', 'B', 'D', 'C', 'I', 'E', 'G', 'J', 'F'],\n",
              " ['A', 'B', 'D', 'C', 'I', 'E', 'J', 'F', 'G'],\n",
              " ['A', 'B', 'D', 'C', 'I', 'E', 'J', 'G', 'F'],\n",
              " ['A', 'B', 'D', 'C', 'I', 'F', 'E', 'G', 'J'],\n",
              " ['A', 'B', 'D', 'C', 'I', 'F', 'E', 'J', 'G'],\n",
              " ['A', 'B', 'D', 'C', 'I', 'F', 'G', 'E', 'J'],\n",
              " ['A', 'B', 'D', 'C', 'I', 'F', 'G', 'J', 'E'],\n",
              " ['A', 'B', 'D', 'C', 'I', 'F', 'J', 'E', 'G'],\n",
              " ['A', 'B', 'D', 'C', 'I', 'F', 'J', 'G', 'E'],\n",
              " ['A', 'B', 'D', 'C', 'I', 'G', 'E', 'F', 'J'],\n",
              " ['A', 'B', 'D', 'C', 'I', 'G', 'E', 'J', 'F'],\n",
              " ['A', 'B', 'D', 'C', 'I', 'G', 'F', 'E', 'J'],\n",
              " ['A', 'B', 'D', 'C', 'I', 'G', 'F', 'J', 'E'],\n",
              " ['A', 'B', 'D', 'C', 'I', 'G', 'J', 'E', 'F'],\n",
              " ['A', 'B', 'D', 'C', 'I', 'G', 'J', 'F', 'E'],\n",
              " ['A', 'B', 'D', 'C', 'I', 'J', 'E', 'F', 'G'],\n",
              " ['A', 'B', 'D', 'C', 'I', 'J', 'E', 'G', 'F'],\n",
              " ['A', 'B', 'D', 'C', 'I', 'J', 'F', 'E', 'G'],\n",
              " ['A', 'B', 'D', 'C', 'I', 'J', 'F', 'G', 'E'],\n",
              " ['A', 'B', 'D', 'C', 'I', 'J', 'G', 'E', 'F'],\n",
              " ['A', 'B', 'D', 'C', 'I', 'J', 'G', 'F', 'E'],\n",
              " ['A', 'B', 'D', 'C', 'J', 'E', 'F', 'G', 'I'],\n",
              " ['A', 'B', 'D', 'C', 'J', 'E', 'F', 'I', 'G'],\n",
              " ['A', 'B', 'D', 'C', 'J', 'E', 'G', 'F', 'I'],\n",
              " ['A', 'B', 'D', 'C', 'J', 'E', 'G', 'I', 'F'],\n",
              " ['A', 'B', 'D', 'C', 'J', 'E', 'I', 'F', 'G'],\n",
              " ['A', 'B', 'D', 'C', 'J', 'E', 'I', 'G', 'F'],\n",
              " ['A', 'B', 'D', 'C', 'J', 'F', 'E', 'G', 'I'],\n",
              " ['A', 'B', 'D', 'C', 'J', 'F', 'E', 'I', 'G'],\n",
              " ['A', 'B', 'D', 'C', 'J', 'F', 'G', 'E', 'I'],\n",
              " ['A', 'B', 'D', 'C', 'J', 'F', 'G', 'I', 'E'],\n",
              " ['A', 'B', 'D', 'C', 'J', 'F', 'I', 'E', 'G'],\n",
              " ['A', 'B', 'D', 'C', 'J', 'F', 'I', 'G', 'E'],\n",
              " ['A', 'B', 'D', 'C', 'J', 'G', 'E', 'F', 'I'],\n",
              " ['A', 'B', 'D', 'C', 'J', 'G', 'E', 'I', 'F'],\n",
              " ['A', 'B', 'D', 'C', 'J', 'G', 'F', 'E', 'I'],\n",
              " ['A', 'B', 'D', 'C', 'J', 'G', 'F', 'I', 'E'],\n",
              " ['A', 'B', 'D', 'C', 'J', 'G', 'I', 'E', 'F'],\n",
              " ['A', 'B', 'D', 'C', 'J', 'G', 'I', 'F', 'E'],\n",
              " ['A', 'B', 'D', 'C', 'J', 'I', 'E', 'F', 'G'],\n",
              " ['A', 'B', 'D', 'C', 'J', 'I', 'E', 'G', 'F'],\n",
              " ['A', 'B', 'D', 'C', 'J', 'I', 'F', 'E', 'G'],\n",
              " ['A', 'B', 'D', 'C', 'J', 'I', 'F', 'G', 'E'],\n",
              " ['A', 'B', 'D', 'C', 'J', 'I', 'G', 'E', 'F'],\n",
              " ['A', 'B', 'D', 'C', 'J', 'I', 'G', 'F', 'E'],\n",
              " ['A', 'B', 'D', 'E', 'C', 'F', 'G', 'I', 'J'],\n",
              " ['A', 'B', 'D', 'E', 'C', 'F', 'G', 'J', 'I'],\n",
              " ['A', 'B', 'D', 'E', 'C', 'F', 'I', 'G', 'J'],\n",
              " ['A', 'B', 'D', 'E', 'C', 'F', 'I', 'J', 'G'],\n",
              " ['A', 'B', 'D', 'E', 'C', 'F', 'J', 'G', 'I'],\n",
              " ['A', 'B', 'D', 'E', 'C', 'F', 'J', 'I', 'G'],\n",
              " ['A', 'B', 'D', 'E', 'C', 'G', 'F', 'I', 'J'],\n",
              " ['A', 'B', 'D', 'E', 'C', 'G', 'F', 'J', 'I'],\n",
              " ['A', 'B', 'D', 'E', 'C', 'G', 'I', 'F', 'J'],\n",
              " ['A', 'B', 'D', 'E', 'C', 'G', 'I', 'J', 'F'],\n",
              " ['A', 'B', 'D', 'E', 'C', 'G', 'J', 'F', 'I'],\n",
              " ['A', 'B', 'D', 'E', 'C', 'G', 'J', 'I', 'F'],\n",
              " ['A', 'B', 'D', 'E', 'C', 'I', 'F', 'G', 'J'],\n",
              " ['A', 'B', 'D', 'E', 'C', 'I', 'F', 'J', 'G'],\n",
              " ['A', 'B', 'D', 'E', 'C', 'I', 'G', 'F', 'J'],\n",
              " ['A', 'B', 'D', 'E', 'C', 'I', 'G', 'J', 'F'],\n",
              " ['A', 'B', 'D', 'E', 'C', 'I', 'J', 'F', 'G'],\n",
              " ['A', 'B', 'D', 'E', 'C', 'I', 'J', 'G', 'F'],\n",
              " ['A', 'B', 'D', 'E', 'C', 'J', 'F', 'G', 'I'],\n",
              " ['A', 'B', 'D', 'E', 'C', 'J', 'F', 'I', 'G'],\n",
              " ['A', 'B', 'D', 'E', 'C', 'J', 'G', 'F', 'I'],\n",
              " ['A', 'B', 'D', 'E', 'C', 'J', 'G', 'I', 'F'],\n",
              " ['A', 'B', 'D', 'E', 'C', 'J', 'I', 'F', 'G'],\n",
              " ['A', 'B', 'D', 'E', 'C', 'J', 'I', 'G', 'F'],\n",
              " ['A', 'B', 'D', 'E', 'F', 'C', 'G', 'I', 'J'],\n",
              " ['A', 'B', 'D', 'E', 'F', 'C', 'G', 'J', 'I'],\n",
              " ['A', 'B', 'D', 'E', 'F', 'C', 'I', 'G', 'J'],\n",
              " ['A', 'B', 'D', 'E', 'F', 'C', 'I', 'J', 'G'],\n",
              " ['A', 'B', 'D', 'E', 'F', 'C', 'J', 'G', 'I'],\n",
              " ['A', 'B', 'D', 'E', 'F', 'C', 'J', 'I', 'G'],\n",
              " ['A', 'B', 'D', 'E', 'F', 'G', 'C', 'I', 'J'],\n",
              " ['A', 'B', 'D', 'E', 'F', 'G', 'C', 'J', 'I'],\n",
              " ['A', 'B', 'D', 'E', 'F', 'G', 'I', 'C', 'J'],\n",
              " ['A', 'B', 'D', 'E', 'F', 'G', 'I', 'J', 'C'],\n",
              " ['A', 'B', 'D', 'E', 'F', 'G', 'J', 'C', 'I'],\n",
              " ['A', 'B', 'D', 'E', 'F', 'G', 'J', 'I', 'C'],\n",
              " ['A', 'B', 'D', 'E', 'F', 'I', 'C', 'G', 'J'],\n",
              " ['A', 'B', 'D', 'E', 'F', 'I', 'C', 'J', 'G'],\n",
              " ['A', 'B', 'D', 'E', 'F', 'I', 'G', 'C', 'J'],\n",
              " ['A', 'B', 'D', 'E', 'F', 'I', 'G', 'J', 'C'],\n",
              " ['A', 'B', 'D', 'E', 'F', 'I', 'J', 'C', 'G'],\n",
              " ['A', 'B', 'D', 'E', 'F', 'I', 'J', 'G', 'C'],\n",
              " ['A', 'B', 'D', 'E', 'F', 'J', 'C', 'G', 'I'],\n",
              " ['A', 'B', 'D', 'E', 'F', 'J', 'C', 'I', 'G'],\n",
              " ['A', 'B', 'D', 'E', 'F', 'J', 'G', 'C', 'I'],\n",
              " ['A', 'B', 'D', 'E', 'F', 'J', 'G', 'I', 'C'],\n",
              " ['A', 'B', 'D', 'E', 'F', 'J', 'I', 'C', 'G'],\n",
              " ['A', 'B', 'D', 'E', 'F', 'J', 'I', 'G', 'C'],\n",
              " ['A', 'B', 'D', 'E', 'G', 'C', 'F', 'I', 'J'],\n",
              " ['A', 'B', 'D', 'E', 'G', 'C', 'F', 'J', 'I'],\n",
              " ['A', 'B', 'D', 'E', 'G', 'C', 'I', 'F', 'J'],\n",
              " ['A', 'B', 'D', 'E', 'G', 'C', 'I', 'J', 'F'],\n",
              " ['A', 'B', 'D', 'E', 'G', 'C', 'J', 'F', 'I'],\n",
              " ['A', 'B', 'D', 'E', 'G', 'C', 'J', 'I', 'F'],\n",
              " ['A', 'B', 'D', 'E', 'G', 'F', 'C', 'I', 'J'],\n",
              " ['A', 'B', 'D', 'E', 'G', 'F', 'C', 'J', 'I'],\n",
              " ['A', 'B', 'D', 'E', 'G', 'F', 'I', 'C', 'J'],\n",
              " ['A', 'B', 'D', 'E', 'G', 'F', 'I', 'J', 'C'],\n",
              " ['A', 'B', 'D', 'E', 'G', 'F', 'J', 'C', 'I'],\n",
              " ['A', 'B', 'D', 'E', 'G', 'F', 'J', 'I', 'C'],\n",
              " ['A', 'B', 'D', 'E', 'G', 'I', 'C', 'F', 'J'],\n",
              " ['A', 'B', 'D', 'E', 'G', 'I', 'C', 'J', 'F'],\n",
              " ['A', 'B', 'D', 'E', 'G', 'I', 'F', 'C', 'J'],\n",
              " ['A', 'B', 'D', 'E', 'G', 'I', 'F', 'J', 'C'],\n",
              " ['A', 'B', 'D', 'E', 'G', 'I', 'J', 'C', 'F'],\n",
              " ['A', 'B', 'D', 'E', 'G', 'I', 'J', 'F', 'C'],\n",
              " ['A', 'B', 'D', 'E', 'G', 'J', 'C', 'F', 'I'],\n",
              " ['A', 'B', 'D', 'E', 'G', 'J', 'C', 'I', 'F'],\n",
              " ['A', 'B', 'D', 'E', 'G', 'J', 'F', 'C', 'I'],\n",
              " ['A', 'B', 'D', 'E', 'G', 'J', 'F', 'I', 'C'],\n",
              " ['A', 'B', 'D', 'E', 'G', 'J', 'I', 'C', 'F'],\n",
              " ['A', 'B', 'D', 'E', 'G', 'J', 'I', 'F', 'C'],\n",
              " ['A', 'B', 'D', 'E', 'I', 'C', 'F', 'G', 'J'],\n",
              " ['A', 'B', 'D', 'E', 'I', 'C', 'F', 'J', 'G'],\n",
              " ['A', 'B', 'D', 'E', 'I', 'C', 'G', 'F', 'J'],\n",
              " ['A', 'B', 'D', 'E', 'I', 'C', 'G', 'J', 'F'],\n",
              " ['A', 'B', 'D', 'E', 'I', 'C', 'J', 'F', 'G'],\n",
              " ['A', 'B', 'D', 'E', 'I', 'C', 'J', 'G', 'F'],\n",
              " ['A', 'B', 'D', 'E', 'I', 'F', 'C', 'G', 'J'],\n",
              " ['A', 'B', 'D', 'E', 'I', 'F', 'C', 'J', 'G'],\n",
              " ['A', 'B', 'D', 'E', 'I', 'F', 'G', 'C', 'J'],\n",
              " ['A', 'B', 'D', 'E', 'I', 'F', 'G', 'J', 'C'],\n",
              " ['A', 'B', 'D', 'E', 'I', 'F', 'J', 'C', 'G'],\n",
              " ['A', 'B', 'D', 'E', 'I', 'F', 'J', 'G', 'C'],\n",
              " ['A', 'B', 'D', 'E', 'I', 'G', 'C', 'F', 'J'],\n",
              " ['A', 'B', 'D', 'E', 'I', 'G', 'C', 'J', 'F'],\n",
              " ['A', 'B', 'D', 'E', 'I', 'G', 'F', 'C', 'J'],\n",
              " ['A', 'B', 'D', 'E', 'I', 'G', 'F', 'J', 'C'],\n",
              " ['A', 'B', 'D', 'E', 'I', 'G', 'J', 'C', 'F'],\n",
              " ['A', 'B', 'D', 'E', 'I', 'G', 'J', 'F', 'C'],\n",
              " ['A', 'B', 'D', 'E', 'I', 'J', 'C', 'F', 'G'],\n",
              " ['A', 'B', 'D', 'E', 'I', 'J', 'C', 'G', 'F'],\n",
              " ['A', 'B', 'D', 'E', 'I', 'J', 'F', 'C', 'G'],\n",
              " ['A', 'B', 'D', 'E', 'I', 'J', 'F', 'G', 'C'],\n",
              " ['A', 'B', 'D', 'E', 'I', 'J', 'G', 'C', 'F'],\n",
              " ['A', 'B', 'D', 'E', 'I', 'J', 'G', 'F', 'C'],\n",
              " ['A', 'B', 'D', 'E', 'J', 'C', 'F', 'G', 'I'],\n",
              " ['A', 'B', 'D', 'E', 'J', 'C', 'F', 'I', 'G'],\n",
              " ['A', 'B', 'D', 'E', 'J', 'C', 'G', 'F', 'I'],\n",
              " ['A', 'B', 'D', 'E', 'J', 'C', 'G', 'I', 'F'],\n",
              " ['A', 'B', 'D', 'E', 'J', 'C', 'I', 'F', 'G'],\n",
              " ['A', 'B', 'D', 'E', 'J', 'C', 'I', 'G', 'F'],\n",
              " ['A', 'B', 'D', 'E', 'J', 'F', 'C', 'G', 'I'],\n",
              " ['A', 'B', 'D', 'E', 'J', 'F', 'C', 'I', 'G'],\n",
              " ['A', 'B', 'D', 'E', 'J', 'F', 'G', 'C', 'I'],\n",
              " ['A', 'B', 'D', 'E', 'J', 'F', 'G', 'I', 'C'],\n",
              " ['A', 'B', 'D', 'E', 'J', 'F', 'I', 'C', 'G'],\n",
              " ['A', 'B', 'D', 'E', 'J', 'F', 'I', 'G', 'C'],\n",
              " ['A', 'B', 'D', 'E', 'J', 'G', 'C', 'F', 'I'],\n",
              " ['A', 'B', 'D', 'E', 'J', 'G', 'C', 'I', 'F'],\n",
              " ['A', 'B', 'D', 'E', 'J', 'G', 'F', 'C', 'I'],\n",
              " ['A', 'B', 'D', 'E', 'J', 'G', 'F', 'I', 'C'],\n",
              " ['A', 'B', 'D', 'E', 'J', 'G', 'I', 'C', 'F'],\n",
              " ['A', 'B', 'D', 'E', 'J', 'G', 'I', 'F', 'C'],\n",
              " ['A', 'B', 'D', 'E', 'J', 'I', 'C', 'F', 'G'],\n",
              " ['A', 'B', 'D', 'E', 'J', 'I', 'C', 'G', 'F'],\n",
              " ['A', 'B', 'D', 'E', 'J', 'I', 'F', 'C', 'G'],\n",
              " ['A', 'B', 'D', 'E', 'J', 'I', 'F', 'G', 'C'],\n",
              " ['A', 'B', 'D', 'E', 'J', 'I', 'G', 'C', 'F'],\n",
              " ['A', 'B', 'D', 'E', 'J', 'I', 'G', 'F', 'C'],\n",
              " ['A', 'B', 'D', 'F', 'C', 'E', 'G', 'I', 'J'],\n",
              " ['A', 'B', 'D', 'F', 'C', 'E', 'G', 'J', 'I'],\n",
              " ['A', 'B', 'D', 'F', 'C', 'E', 'I', 'G', 'J'],\n",
              " ['A', 'B', 'D', 'F', 'C', 'E', 'I', 'J', 'G'],\n",
              " ['A', 'B', 'D', 'F', 'C', 'E', 'J', 'G', 'I'],\n",
              " ['A', 'B', 'D', 'F', 'C', 'E', 'J', 'I', 'G'],\n",
              " ['A', 'B', 'D', 'F', 'C', 'G', 'E', 'I', 'J'],\n",
              " ['A', 'B', 'D', 'F', 'C', 'G', 'E', 'J', 'I'],\n",
              " ['A', 'B', 'D', 'F', 'C', 'G', 'I', 'E', 'J'],\n",
              " ['A', 'B', 'D', 'F', 'C', 'G', 'I', 'J', 'E'],\n",
              " ['A', 'B', 'D', 'F', 'C', 'G', 'J', 'E', 'I'],\n",
              " ['A', 'B', 'D', 'F', 'C', 'G', 'J', 'I', 'E'],\n",
              " ['A', 'B', 'D', 'F', 'C', 'I', 'E', 'G', 'J'],\n",
              " ['A', 'B', 'D', 'F', 'C', 'I', 'E', 'J', 'G'],\n",
              " ['A', 'B', 'D', 'F', 'C', 'I', 'G', 'E', 'J'],\n",
              " ['A', 'B', 'D', 'F', 'C', 'I', 'G', 'J', 'E'],\n",
              " ['A', 'B', 'D', 'F', 'C', 'I', 'J', 'E', 'G'],\n",
              " ['A', 'B', 'D', 'F', 'C', 'I', 'J', 'G', 'E'],\n",
              " ['A', 'B', 'D', 'F', 'C', 'J', 'E', 'G', 'I'],\n",
              " ['A', 'B', 'D', 'F', 'C', 'J', 'E', 'I', 'G'],\n",
              " ['A', 'B', 'D', 'F', 'C', 'J', 'G', 'E', 'I'],\n",
              " ['A', 'B', 'D', 'F', 'C', 'J', 'G', 'I', 'E'],\n",
              " ['A', 'B', 'D', 'F', 'C', 'J', 'I', 'E', 'G'],\n",
              " ['A', 'B', 'D', 'F', 'C', 'J', 'I', 'G', 'E'],\n",
              " ['A', 'B', 'D', 'F', 'E', 'C', 'G', 'I', 'J'],\n",
              " ['A', 'B', 'D', 'F', 'E', 'C', 'G', 'J', 'I'],\n",
              " ['A', 'B', 'D', 'F', 'E', 'C', 'I', 'G', 'J'],\n",
              " ['A', 'B', 'D', 'F', 'E', 'C', 'I', 'J', 'G'],\n",
              " ['A', 'B', 'D', 'F', 'E', 'C', 'J', 'G', 'I'],\n",
              " ['A', 'B', 'D', 'F', 'E', 'C', 'J', 'I', 'G'],\n",
              " ['A', 'B', 'D', 'F', 'E', 'G', 'C', 'I', 'J'],\n",
              " ['A', 'B', 'D', 'F', 'E', 'G', 'C', 'J', 'I'],\n",
              " ['A', 'B', 'D', 'F', 'E', 'G', 'I', 'C', 'J'],\n",
              " ['A', 'B', 'D', 'F', 'E', 'G', 'I', 'J', 'C'],\n",
              " ['A', 'B', 'D', 'F', 'E', 'G', 'J', 'C', 'I'],\n",
              " ['A', 'B', 'D', 'F', 'E', 'G', 'J', 'I', 'C'],\n",
              " ['A', 'B', 'D', 'F', 'E', 'I', 'C', 'G', 'J'],\n",
              " ['A', 'B', 'D', 'F', 'E', 'I', 'C', 'J', 'G'],\n",
              " ['A', 'B', 'D', 'F', 'E', 'I', 'G', 'C', 'J'],\n",
              " ['A', 'B', 'D', 'F', 'E', 'I', 'G', 'J', 'C'],\n",
              " ...]"
            ]
          },
          "metadata": {
            "tags": []
          },
          "execution_count": 86
        }
      ]
    },
    {
      "cell_type": "code",
      "metadata": {
        "id": "v-e3xc2V7L10",
        "colab_type": "code",
        "outputId": "cb1b6def-78f3-461c-9f1a-9d3be4064a2d",
        "colab": {
          "base_uri": "https://localhost:8080/",
          "height": 119
        }
      },
      "source": [
        "lst = ['C', 'B', 'D', 'E', 'G', 'E', 'J', 'F', 'I']\n",
        "City = {\n",
        "        'A':[3,80],\n",
        "        'B':[4,85],\n",
        "        'C':[5,100],\n",
        "        'D':[2,45],\n",
        "        'E':[3,75],\n",
        "        'F':[1,25],\n",
        "        'G':[6,148],\n",
        "        'H':[8,205],\n",
        "        'I':[1,24],\n",
        "        'J':[7,200]\n",
        "        }\n",
        "day = 0\n",
        "cost = 0\n",
        "\n",
        "for i in lst:\n",
        "  if 14 > day:\n",
        "    day += City[i][0]\n",
        "    cost += City[i][1]\n",
        "    print(City[i][0],City[i][1])\n",
        "print(day)\n",
        "print(cost)"
      ],
      "execution_count": 0,
      "outputs": [
        {
          "output_type": "stream",
          "text": [
            "5 100\n",
            "4 85\n",
            "2 45\n",
            "3 75\n",
            "14\n",
            "305\n"
          ],
          "name": "stdout"
        }
      ]
    },
    {
      "cell_type": "markdown",
      "metadata": {
        "id": "WH9di5kUvBNY",
        "colab_type": "text"
      },
      "source": [
        "- Warshall's Algorithms"
      ]
    },
    {
      "cell_type": "code",
      "metadata": {
        "id": "DpQCMjhwqdWP",
        "colab_type": "code",
        "colab": {}
      },
      "source": [
        "import numpy as np\n",
        "\n",
        "\n",
        "class Warshall():\n",
        "    \n",
        "    def Warshall(self,A):\n",
        "        \n",
        "        n = len(A)+1\n",
        "        R = np.array([[[ 0 ]*(n-1) for i in range(n-1) ]  for k in range(n)])\n",
        "        R[0] = A\n",
        "        \n",
        "\n",
        "        for k in range(1,n):\n",
        "            for i in range(len(A)):\n",
        "                for j in range(len(A)):\n",
        "                    R[k][i,j] = R[k-1][i,j] or (R[k-1][i,k-1] and R[k-1][k-1,j])\n",
        "                    \n",
        "        return R\n",
        "    \n",
        "    \n",
        "    def showWarshall(self,A):\n",
        "        log = self.Warshall(A)\n",
        "        \n",
        "        print('---------------------------')\n",
        "        print('\\tWarshall algorithm')\n",
        "        print('---------------------------')\n",
        "        \n",
        "        for i in range(len(log)):\n",
        "            c = 0\n",
        "            for j in range(len(log[i])):\n",
        "                if(c == 0):\n",
        "                    print('R('+str(i)+')',end= '\\t')\n",
        "                    print(log[i][j])\n",
        "                    c+=1\n",
        "                else:\n",
        "                    print('',end= '\\t')\n",
        "                    print(log[i][j])\n",
        "            print('')\n",
        "            \n",
        "        print('---------------------------')\n",
        "        print('\\tFinal answer')\n",
        "        print('---------------------------')\n",
        "        print(log[len(A)])\n",
        "        print('')\n",
        "        print('')\n"
      ],
      "execution_count": 0,
      "outputs": []
    },
    {
      "cell_type": "code",
      "metadata": {
        "id": "FVHa9Yi9vrsv",
        "colab_type": "code",
        "outputId": "467532b9-00bb-479a-b590-740bac885b1f",
        "colab": {
          "base_uri": "https://localhost:8080/",
          "height": 646
        }
      },
      "source": [
        "W = Warshall()\n",
        "A = np.array([[0,1,0,0],[0,0,0,1],[0,0,0,0],[1,0,1,0]])\n",
        "W.showWarshall(A)"
      ],
      "execution_count": 0,
      "outputs": [
        {
          "output_type": "stream",
          "text": [
            "---------------------------\n",
            "\tWarshall algorithm\n",
            "---------------------------\n",
            "R(0)\t[0 1 0 0]\n",
            "\t[0 0 0 1]\n",
            "\t[0 0 0 0]\n",
            "\t[1 0 1 0]\n",
            "\n",
            "R(1)\t[0 1 0 0]\n",
            "\t[0 0 0 1]\n",
            "\t[0 0 0 0]\n",
            "\t[1 1 1 0]\n",
            "\n",
            "R(2)\t[0 1 0 1]\n",
            "\t[0 0 0 1]\n",
            "\t[0 0 0 0]\n",
            "\t[1 1 1 1]\n",
            "\n",
            "R(3)\t[0 1 0 1]\n",
            "\t[0 0 0 1]\n",
            "\t[0 0 0 0]\n",
            "\t[1 1 1 1]\n",
            "\n",
            "R(4)\t[1 1 1 1]\n",
            "\t[1 1 1 1]\n",
            "\t[0 0 0 0]\n",
            "\t[1 1 1 1]\n",
            "\n",
            "---------------------------\n",
            "\tFinal answer\n",
            "---------------------------\n",
            "[[1 1 1 1]\n",
            " [1 1 1 1]\n",
            " [0 0 0 0]\n",
            " [1 1 1 1]]\n",
            "\n",
            "\n"
          ],
          "name": "stdout"
        }
      ]
    },
    {
      "cell_type": "markdown",
      "metadata": {
        "id": "o8g2fU9Uvl27",
        "colab_type": "text"
      },
      "source": [
        "- Floyd's Algorithms"
      ]
    },
    {
      "cell_type": "code",
      "metadata": {
        "id": "1VcCzGWivltj",
        "colab_type": "code",
        "colab": {}
      },
      "source": [
        "import numpy as np\n",
        "\n",
        "\n",
        "class Floyd():\n",
        "\n",
        "    def Floyd(self,W):\n",
        "        n = len(W)\n",
        "        \n",
        "\n",
        "        for k in range(n):\n",
        "            for i in range(n):\n",
        "                for j in range(n):\n",
        "                    W[i,j] = min(W[i,j],W[i,k]+W[k,j])\n",
        "                    \n",
        "        return W\n",
        "    \n",
        "    def showFloyd(self,W):\n",
        "        log = self.Floyd(W)\n",
        "        \n",
        "        print('---------------------------')\n",
        "        print('\\tFloyd algorithm')\n",
        "        print('---------------------------')\n",
        "        print('\\tFinal answer')\n",
        "        print('---------------------------')\n",
        "        print(log)\n",
        "        print('')\n",
        "        print('')\n"
      ],
      "execution_count": 0,
      "outputs": []
    },
    {
      "cell_type": "code",
      "metadata": {
        "id": "WQ0_5mqbxLMn",
        "colab_type": "code",
        "outputId": "180c765f-2ba6-4559-d551-ec88662266e2",
        "colab": {
          "base_uri": "https://localhost:8080/",
          "height": 221
        }
      },
      "source": [
        "inf = -np.NINF\n",
        "A = np.array([[0, 3, inf, 2, 6],[5, 0, 4, 2, inf],[inf, inf, 0, 5, inf],[inf, inf, 1, 0, 4],[5, inf, inf, inf, 0]])\n",
        "F = Floyd()\n",
        "F.showFloyd(A)"
      ],
      "execution_count": 0,
      "outputs": [
        {
          "output_type": "stream",
          "text": [
            "---------------------------\n",
            "\tFloyd algorithm\n",
            "---------------------------\n",
            "\tFinal answer\n",
            "---------------------------\n",
            "[[ 0.  3.  3.  2.  6.]\n",
            " [ 5.  0.  3.  2.  6.]\n",
            " [14. 17.  0.  5.  9.]\n",
            " [ 9. 12.  1.  0.  4.]\n",
            " [ 5.  8.  8.  7.  0.]]\n",
            "\n",
            "\n"
          ],
          "name": "stdout"
        }
      ]
    },
    {
      "cell_type": "markdown",
      "metadata": {
        "id": "O8GexzZZ5TDH",
        "colab_type": "text"
      },
      "source": [
        "- Test"
      ]
    },
    {
      "cell_type": "code",
      "metadata": {
        "id": "B0sa0Lb75Sln",
        "colab_type": "code",
        "outputId": "3b64945b-0cf0-45aa-b8a2-1132d897bc86",
        "colab": {
          "base_uri": "https://localhost:8080/",
          "height": 34
        }
      },
      "source": [
        "\n",
        "INF = 1000000\n",
        "\n",
        "def MinimumCost(cost, n, W,weight): \n",
        "\n",
        "\tval = list() \n",
        "\twt= list() \n",
        "\tsize = 0\n",
        "\tfor i in range(n): \n",
        "\t\tif (cost[i] != -1): \n",
        "\t\t\tval.append(cost[i]) \n",
        "\t\t\twt.append(i+1) \n",
        "\t\t\tsize += 1\n",
        "\n",
        "\tn = size \n",
        "\tmin_cost = [[0 for i in range(W+1)] for j in range(n+1)] \n",
        "\n",
        "\tfor i in range(W+1): \n",
        "\t\tmin_cost[0][i] = INF \n",
        "\n",
        "\tfor i in range(1, n+1): \n",
        "\t\tmin_cost[i][0] = 0\n",
        "\n",
        "\tfor i in range(1, n+1): \n",
        "\t\tfor j in range(1, W+1): \n",
        "\t\t\tif (wt[i-1] > weight[j]): \n",
        "\t\t\t\tmin_cost[i][j] = min_cost[i-1][j] \n",
        "\n",
        "\t\t\telse: \n",
        "\t\t\t\tmin_cost[i][j] = min(min_cost[i-1][j], min_cost[i][j-wt[i-1]] + val[i-1]) \n",
        "\n",
        "\tif(min_cost[n][W] == INF): \n",
        "\t\treturn -1\n",
        "\telse: \n",
        "\t\treturn min_cost[n][W] \n",
        "\n",
        "# Driver program to run the test case \n",
        "cost = [1, 2, 3, 4, 5] \n",
        "weight = [0,2, 32, 4, 1, 2]\n",
        "W = 5\n",
        "n = len(cost) \n",
        "\n",
        "print(MinimumCost(cost, n, W,weight)) \n",
        "\n",
        "# This code is contributed by Soumen Ghosh. \n"
      ],
      "execution_count": 0,
      "outputs": [
        {
          "output_type": "stream",
          "text": [
            "5\n"
          ],
          "name": "stdout"
        }
      ]
    },
    {
      "cell_type": "markdown",
      "metadata": {
        "id": "cG3Vkcm0xvW7",
        "colab_type": "text"
      },
      "source": [
        "# Greedy Technique"
      ]
    },
    {
      "cell_type": "markdown",
      "metadata": {
        "id": "dj5IboB2yx0n",
        "colab_type": "text"
      },
      "source": [
        "- Minimum spanning tree"
      ]
    },
    {
      "cell_type": "markdown",
      "metadata": {
        "id": "MzsrBa8Qy2Mr",
        "colab_type": "text"
      },
      "source": [
        "> Prim's algorithms"
      ]
    },
    {
      "cell_type": "code",
      "metadata": {
        "id": "lkDl0htex102",
        "colab_type": "code",
        "colab": {}
      },
      "source": [
        "import numpy as np\n",
        "  \n",
        "class Graph(): \n",
        "  \n",
        "    def __init__(self, vertices): \n",
        "        self.V = vertices \n",
        "        self.graph = [[0 for column in range(vertices)]  \n",
        "                    for row in range(vertices)] \n",
        "  \n",
        "    def printMST(self, parent): \n",
        "        print( \"Edge \\tWeight\")\n",
        "        for i in range(1, self.V): \n",
        "            print (parent[i], \"-\", i, \"\\t\", self.graph[i][ parent[i] ] )\n",
        "\n",
        "    def minKey(self, key, mstSet): \n",
        "  \n",
        "        min = np.inf \n",
        "  \n",
        "        for v in range(self.V): \n",
        "            if key[v] < min and mstSet[v] == False: \n",
        "                min = key[v] \n",
        "                min_index = v \n",
        "  \n",
        "        return min_index \n",
        "   \n",
        "    def primMST(self): \n",
        "  \n",
        "        key = [np.inf] * self.V \n",
        "        parent = [None] * self.V \n",
        "        key[0] = 0 \n",
        "        mstSet = [False] * self.V \n",
        "  \n",
        "        parent[0] = -1 \n",
        "  \n",
        "        for cout in range(self.V): \n",
        "  \n",
        "            u = self.minKey(key, mstSet) \n",
        "            mstSet[u] = True\n",
        "  \n",
        "            for v in range(self.V): \n",
        "                if self.graph[u][v] > 0 and mstSet[v] == False and key[v] > self.graph[u][v]: \n",
        "                        key[v] = self.graph[u][v] \n",
        "                        parent[v] = u \n",
        "  \n",
        "        self.printMST(parent) \n",
        "  "
      ],
      "execution_count": 0,
      "outputs": []
    },
    {
      "cell_type": "code",
      "metadata": {
        "id": "hN9YDe1ozkDA",
        "colab_type": "code",
        "outputId": "542b6ad1-ab81-4b9a-a77b-5bd428c182db",
        "colab": {
          "base_uri": "https://localhost:8080/",
          "height": 102
        }
      },
      "source": [
        "g = Graph(5) \n",
        "g.graph = [ [0, 2, 0, 6, 0], \n",
        "            [2, 0, 3, 8, 5], \n",
        "            [0, 3, 0, 0, 7], \n",
        "            [6, 8, 0, 0, 9], \n",
        "            [0, 5, 7, 9, 0]] \n",
        "  \n",
        "g.primMST();"
      ],
      "execution_count": 0,
      "outputs": [
        {
          "output_type": "stream",
          "text": [
            "Edge \tWeight\n",
            "0 - 1 \t 2\n",
            "1 - 2 \t 3\n",
            "0 - 3 \t 6\n",
            "1 - 4 \t 5\n"
          ],
          "name": "stdout"
        }
      ]
    },
    {
      "cell_type": "markdown",
      "metadata": {
        "id": "Kc4zIFAHLOsn",
        "colab_type": "text"
      },
      "source": [
        "> Kruskal algorithms"
      ]
    },
    {
      "cell_type": "code",
      "metadata": {
        "id": "6qFCnMEozvDI",
        "colab_type": "code",
        "colab": {}
      },
      "source": [
        "  \n",
        "class Graph: \n",
        "  \n",
        "    def __init__(self,vertices): \n",
        "        self.V= vertices \n",
        "        self.graph = []\n",
        "          \n",
        "    def addEdge(self,u,v,w): \n",
        "        self.graph.append([u,v,w]) \n",
        "  \n",
        "    def find(self, parent, i): \n",
        "        if parent[i] == i: \n",
        "            return i \n",
        "        return self.find(parent, parent[i]) \n",
        "\n",
        "    def union(self, parent, rank, x, y): \n",
        "        xroot = self.find(parent, x) \n",
        "        yroot = self.find(parent, y) \n",
        "  \n",
        "        if rank[xroot] < rank[yroot]: \n",
        "            parent[xroot] = yroot \n",
        "        elif rank[xroot] > rank[yroot]: \n",
        "            parent[yroot] = xroot \n",
        "  \n",
        "        else : \n",
        "            parent[yroot] = xroot \n",
        "            rank[xroot] += 1\n",
        "  \n",
        "    def KruskalMST(self): \n",
        "  \n",
        "        result =[] \n",
        "  \n",
        "        i = 0 \n",
        "        e = 0 \n",
        "\n",
        "        self.graph =  sorted(self.graph,key=lambda item: item[2]) \n",
        "  \n",
        "        parent = [] ; rank = [] \n",
        "  \n",
        "        for node in range(self.V): \n",
        "            parent.append(node) \n",
        "            rank.append(0) \n",
        "      \n",
        "        while e < self.V -1 : \n",
        "\n",
        "            u,v,w =  self.graph[i] \n",
        "            i = i + 1\n",
        "            x = self.find(parent, u) \n",
        "            y = self.find(parent ,v) \n",
        "\n",
        "            if x != y: \n",
        "                e = e + 1     \n",
        "                result.append([u,v,w]) \n",
        "                self.union(parent, rank, x, y)             \n",
        "  \n",
        "        print(\"Following are the edges in the constructed MST\")\n",
        "        for u,v,weight  in result: \n",
        "            print (\"%d -- %d == %d\" % (u,v,weight)) "
      ],
      "execution_count": 0,
      "outputs": []
    },
    {
      "cell_type": "code",
      "metadata": {
        "id": "Lo0E1mRI8eB4",
        "colab_type": "code",
        "outputId": "938dc26a-3d4e-4261-f1fa-40cc4f1c481e",
        "colab": {
          "base_uri": "https://localhost:8080/",
          "height": 85
        }
      },
      "source": [
        "g = Graph(4) \n",
        "g.addEdge(0, 1, 10) \n",
        "g.addEdge(0, 2, 6) \n",
        "g.addEdge(0, 3, 5) \n",
        "g.addEdge(1, 3, 15) \n",
        "g.addEdge(2, 3, 4) \n",
        "  \n",
        "g.KruskalMST() "
      ],
      "execution_count": 0,
      "outputs": [
        {
          "output_type": "stream",
          "text": [
            "Following are the edges in the constructed MST\n",
            "2 -- 3 == 4\n",
            "0 -- 3 == 5\n",
            "0 -- 1 == 10\n"
          ],
          "name": "stdout"
        }
      ]
    },
    {
      "cell_type": "markdown",
      "metadata": {
        "id": "_jKwjYUPLVL7",
        "colab_type": "text"
      },
      "source": [
        "> Dijkstra algorithms"
      ]
    },
    {
      "cell_type": "code",
      "metadata": {
        "id": "TLFEdA628gI7",
        "colab_type": "code",
        "colab": {}
      },
      "source": [
        "from collections import deque, namedtuple\n",
        "inf = float('inf')\n",
        "Edge = namedtuple('Edge', 'start, end, cost')\n",
        "\n",
        "\n",
        "def make_edge(start, end, cost=1):\n",
        "  return Edge(start, end, cost)\n",
        "\n",
        "\n",
        "class Graph:\n",
        "    def __init__(self, edges):\n",
        "        wrong_edges = [i for i in edges if len(i) not in [2, 3]]\n",
        "        if wrong_edges:\n",
        "            raise ValueError('Wrong edges data: {}'.format(wrong_edges))\n",
        "\n",
        "        self.edges = [make_edge(*edge) for edge in edges]\n",
        "\n",
        "    @property\n",
        "    def vertices(self):\n",
        "        return set(\n",
        "            sum(\n",
        "                ([edge.start, edge.end] for edge in self.edges), []\n",
        "            )\n",
        "        )\n",
        "\n",
        "    def get_node_pairs(self, n1, n2, both_ends=True):\n",
        "        if both_ends:\n",
        "            node_pairs = [[n1, n2], [n2, n1]]\n",
        "        else:\n",
        "            node_pairs = [[n1, n2]]\n",
        "        return node_pairs\n",
        "\n",
        "    def add_edge(self, n1, n2, cost=1, both_ends=True):\n",
        "        node_pairs = self.get_node_pairs(n1, n2, both_ends)\n",
        "        for edge in self.edges:\n",
        "            if [edge.start, edge.end] in node_pairs:\n",
        "                return ValueError('Edge {} {} already exists'.format(n1, n2))\n",
        "\n",
        "        self.edges.append(Edge(start=n1, end=n2, cost=cost))\n",
        "        if both_ends:\n",
        "            self.edges.append(Edge(start=n2, end=n1, cost=cost))\n",
        "\n",
        "    @property\n",
        "    def neighbours(self):\n",
        "        neighbours = {vertex: set() for vertex in self.vertices}\n",
        "        for edge in self.edges:\n",
        "            neighbours[edge.start].add((edge.end, edge.cost))\n",
        "\n",
        "        return neighbours\n",
        "\n",
        "    def dijkstra(self, source, dest):\n",
        "        assert source in self.vertices, 'Such source node doesn\\'t exist'\n",
        "        distances = {vertex: inf for vertex in self.vertices}\n",
        "        previous_vertices = { vertex: None for vertex in self.vertices}\n",
        "        distances[source] = 0\n",
        "        vertices = self.vertices.copy()\n",
        "\n",
        "        while vertices:\n",
        "            current_vertex = min(\n",
        "                vertices, key=lambda vertex: distances[vertex])\n",
        "            vertices.remove(current_vertex)\n",
        "            if distances[current_vertex] == inf:\n",
        "                break\n",
        "            for neighbour, cost in self.neighbours[current_vertex]:\n",
        "                alternative_route = distances[current_vertex] + cost\n",
        "                if alternative_route < distances[neighbour]:\n",
        "                    distances[neighbour] = alternative_route\n",
        "                    previous_vertices[neighbour] = current_vertex\n",
        "\n",
        "        path, current_vertex = deque(), dest\n",
        "        while previous_vertices[current_vertex] is not None:\n",
        "            path.appendleft(current_vertex)\n",
        "            current_vertex = previous_vertices[current_vertex]\n",
        "        if path:\n",
        "            path.appendleft(current_vertex)\n",
        "        return path\n"
      ],
      "execution_count": 0,
      "outputs": []
    },
    {
      "cell_type": "code",
      "metadata": {
        "id": "i5gya7xHAAH4",
        "colab_type": "code",
        "outputId": "f5b2352c-1dca-4a0e-d472-1271f7116301",
        "colab": {
          "base_uri": "https://localhost:8080/",
          "height": 34
        }
      },
      "source": [
        "graph = Graph([\n",
        "    (\"a\", \"b\", 7),  (\"a\", \"c\", 9),  (\"a\", \"f\", 14), (\"b\", \"c\", 10),\n",
        "    (\"b\", \"d\", 15), (\"c\", \"d\", 11), (\"c\", \"f\", 2),  (\"d\", \"e\", 6),\n",
        "    (\"e\", \"f\", 9)])\n",
        "\n",
        "print(graph.dijkstra(\"a\", \"e\"))"
      ],
      "execution_count": 0,
      "outputs": [
        {
          "output_type": "stream",
          "text": [
            "deque(['a', 'c', 'd', 'e'])\n"
          ],
          "name": "stdout"
        }
      ]
    },
    {
      "cell_type": "markdown",
      "metadata": {
        "id": "Zg2z6J-XLEvh",
        "colab_type": "text"
      },
      "source": [
        "> HuffmanCodeTree algorithms"
      ]
    },
    {
      "cell_type": "code",
      "metadata": {
        "id": "dQhmWTPhAAyD",
        "colab_type": "code",
        "colab": {}
      },
      "source": [
        "class NodeTree(object):\n",
        "\n",
        "    def __init__(self, left=None, right=None):\n",
        "        self.left = left\n",
        "        self.right = right\n",
        "\n",
        "    def children(self):\n",
        "        return (self.left, self.right)\n",
        "\n",
        "    def nodes(self):\n",
        "        return (self.left, self.right)\n",
        "\n",
        "    def __str__(self):\n",
        "        return '%s_%s' % (self.left, self.right)\n",
        "\n",
        "\n",
        "def huffmanCodeTree(node, left=True, binString=''):\n",
        "    if type(node) is str:\n",
        "        return {node: binString}\n",
        "    (l, r) = node.children()\n",
        "    d = dict()\n",
        "    d.update(huffmanCodeTree(l, True, binString + '0'))\n",
        "    d.update(huffmanCodeTree(r, False, binString + '1'))\n",
        "    return d\n"
      ],
      "execution_count": 0,
      "outputs": []
    },
    {
      "cell_type": "code",
      "metadata": {
        "id": "HGD3BdDgGqM0",
        "colab_type": "code",
        "outputId": "78fb7058-94cf-4aac-bf1e-f1b8e95f268b",
        "colab": {
          "base_uri": "https://localhost:8080/",
          "height": 119
        }
      },
      "source": [
        "string = 'AABBAACCDDC'\n",
        "freq = {}\n",
        "\n",
        "for c in string:\n",
        "    if c in freq:\n",
        "        freq[c] += 1\n",
        "    else:\n",
        "        freq[c] = 1\n",
        "\n",
        "freq = sorted(freq.items(), key=lambda x: x[1], reverse=True)\n",
        "\n",
        "nodes = freq\n",
        "\n",
        "while len(nodes) > 1:\n",
        "    (key1, c1) = nodes[-1]\n",
        "    (key2, c2) = nodes[-2]\n",
        "    nodes = nodes[:-2]\n",
        "    node = NodeTree(key1, key2)\n",
        "    nodes.append((node, c1 + c2))\n",
        "\n",
        "    nodes = sorted(nodes, key=lambda x: x[1], reverse=True)\n",
        "\n",
        "huffmanCode = huffmanCodeTree(nodes[0][0])\n",
        "\n",
        "print(' Char | Huffman code ')\n",
        "print('----------------------')\n",
        "for (char, frequency) in freq:\n",
        "    print(' %-4r |%12s' % (char, huffmanCode[char]))"
      ],
      "execution_count": 0,
      "outputs": [
        {
          "output_type": "stream",
          "text": [
            " Char | Huffman code \n",
            "----------------------\n",
            " 'A'  |           0\n",
            " 'C'  |          10\n",
            " 'B'  |         111\n",
            " 'D'  |         110\n"
          ],
          "name": "stdout"
        }
      ]
    },
    {
      "cell_type": "code",
      "metadata": {
        "id": "0ZtpsFZtHKM9",
        "colab_type": "code",
        "outputId": "d6df914c-ce44-4ace-95fb-4dcff3b753da",
        "colab": {
          "base_uri": "https://localhost:8080/",
          "height": 34
        }
      },
      "source": [
        "huffmanDeCode = {huffmanCode[i]:i for i in huffmanCode}\n",
        "print(x)"
      ],
      "execution_count": 0,
      "outputs": [
        {
          "output_type": "stream",
          "text": [
            "{'0': 'A', '10': 'C', '110': 'D', '111': 'B'}\n"
          ],
          "name": "stdout"
        }
      ]
    },
    {
      "cell_type": "code",
      "metadata": {
        "id": "nPIzqV5RQlKl",
        "colab_type": "code",
        "colab": {}
      },
      "source": [
        "testString = ''\n",
        "\n",
        "for i in string:\n",
        "    testString = testString + huffmanCode[i]"
      ],
      "execution_count": 0,
      "outputs": []
    },
    {
      "cell_type": "code",
      "metadata": {
        "id": "hGoM03kAQo68",
        "colab_type": "code",
        "outputId": "98e62cfe-0660-415a-cd22-b1eedbfc6127",
        "colab": {
          "base_uri": "https://localhost:8080/",
          "height": 34
        }
      },
      "source": [
        "testString"
      ],
      "execution_count": 0,
      "outputs": [
        {
          "output_type": "execute_result",
          "data": {
            "text/plain": [
              "'0011111100101011011010'"
            ]
          },
          "metadata": {
            "tags": []
          },
          "execution_count": 121
        }
      ]
    },
    {
      "cell_type": "code",
      "metadata": {
        "id": "NRy9Gvi7Qf3J",
        "colab_type": "code",
        "colab": {}
      },
      "source": [
        "def huffmanDecode (dictionary, text):\n",
        "    res = \"\"\n",
        "    while text:\n",
        "        for k in dictionary:\n",
        "            if text.startswith(k):\n",
        "                res += dictionary[k]\n",
        "                text = text[len(k):]\n",
        "    return res"
      ],
      "execution_count": 0,
      "outputs": []
    },
    {
      "cell_type": "code",
      "metadata": {
        "id": "6iR6quWIQhA2",
        "colab_type": "code",
        "colab": {}
      },
      "source": [
        "x = huffmanDecode(huffmanDeCode,testString)"
      ],
      "execution_count": 0,
      "outputs": []
    },
    {
      "cell_type": "code",
      "metadata": {
        "id": "kbx9w2SNQudR",
        "colab_type": "code",
        "outputId": "9cd75e67-8011-4f12-c4d0-bf90be8d9763",
        "colab": {
          "base_uri": "https://localhost:8080/",
          "height": 34
        }
      },
      "source": [
        "x"
      ],
      "execution_count": 0,
      "outputs": [
        {
          "output_type": "execute_result",
          "data": {
            "text/plain": [
              "'AABBAACCDDC'"
            ]
          },
          "metadata": {
            "tags": []
          },
          "execution_count": 124
        }
      ]
    },
    {
      "cell_type": "markdown",
      "metadata": {
        "id": "5TaELw2cwand",
        "colab_type": "text"
      },
      "source": [
        "- Test"
      ]
    },
    {
      "cell_type": "code",
      "metadata": {
        "id": "hePKNqjBwaJE",
        "colab_type": "code",
        "colab": {}
      },
      "source": [
        "class ItemValue: \n",
        "      \n",
        "    \"\"\"Item Value DataClass\"\"\"\n",
        "    def __init__(self, wt, val, ind): \n",
        "        self.wt = wt \n",
        "        self.val = val \n",
        "        self.ind = ind \n",
        "        self.cost = val // wt \n",
        "  \n",
        "    def __lt__(self, other): \n",
        "        return self.cost < other.cost \n",
        "  \n",
        "# Greedy Approach \n",
        "class FractionalKnapSack: \n",
        "      \n",
        "    \"\"\"Time Complexity O(n log n)\"\"\"\n",
        "    @staticmethod\n",
        "    def getMaxValue(wt, val, capacity): \n",
        "          \n",
        "        \"\"\"function to get maximum value \"\"\"\n",
        "        iVal = [] \n",
        "        for i in range(len(wt)): \n",
        "            iVal.append(ItemValue(wt[i], val[i], i)) \n",
        "  \n",
        "        # sorting items by value \n",
        "        iVal.sort() \n",
        "        totalValue = 0\n",
        "        for i in iVal: \n",
        "            curWt = int(i.wt) \n",
        "            curVal = int(i.val) \n",
        "            if capacity - curWt >= 0: \n",
        "                capacity -= curWt \n",
        "                totalValue += curVal \n",
        "                print(curWt,curVal)\n",
        "                print(i.cost)\n",
        "                print(totalValue)\n",
        "        print(capacity)\n",
        "        return totalValue \n"
      ],
      "execution_count": 0,
      "outputs": []
    },
    {
      "cell_type": "code",
      "metadata": {
        "id": "Zt86VQEEwzbk",
        "colab_type": "code",
        "outputId": "c45c4416-774c-4b10-a496-0a68be23dc7d",
        "colab": {
          "base_uri": "https://localhost:8080/",
          "height": 306
        }
      },
      "source": [
        "W = [3,4,5,2,3,1,6,8,1,7]\n",
        "V = [80,85,100,45,75,25,148,205,24,200]\n",
        "C = 14\n",
        "  \n",
        "maxValue = FractionalKnapSack.getMaxValue(W, V, C) \n",
        "print(\"Maximum value in Knapsack =\", maxValue)"
      ],
      "execution_count": 0,
      "outputs": [
        {
          "output_type": "stream",
          "text": [
            "5 100\n",
            "20\n",
            "100\n",
            "4 85\n",
            "21\n",
            "185\n",
            "2 45\n",
            "22\n",
            "230\n",
            "1 24\n",
            "24\n",
            "254\n",
            "1 25\n",
            "25\n",
            "279\n",
            "1\n",
            "Maximum value in Knapsack = 279\n"
          ],
          "name": "stdout"
        }
      ]
    },
    {
      "cell_type": "markdown",
      "metadata": {
        "id": "d8pymzq2KneG",
        "colab_type": "text"
      },
      "source": [
        "# Lterative Improvement"
      ]
    },
    {
      "cell_type": "markdown",
      "metadata": {
        "id": "66goAdZRMX8o",
        "colab_type": "text"
      },
      "source": [
        "- Stable Marriage"
      ]
    },
    {
      "cell_type": "code",
      "metadata": {
        "id": "3hEJJuj5Kr1X",
        "colab_type": "code",
        "colab": {}
      },
      "source": [
        "def break_engagement(person):\n",
        "    breakingWith = is_engaged_to(person)\n",
        "    for m in males:\n",
        "        if m[\"name\"] == person:\n",
        "            if m[\"engaged_to\"] != \"\":\n",
        "                m[\"engaged_to\"] = \"\"\n",
        "                m[\"is_free\"] = True\n",
        "                print(\"{} is breaking with {}.\".format(person, breakingWith))\n",
        "\n",
        "    for f in females:\n",
        "        if f[\"name\"] == person:\n",
        "            if f[\"engaged_to\"] != \"\":\n",
        "                f[\"engaged_to\"] = \"\"\n",
        "                m[\"is_free\"] = True\n",
        "                print(\"{} is breaking with {}.\".format(person, breakingWith))\n",
        "\n",
        "\n",
        "def is_engaged_to(person):\n",
        "    for m in males:\n",
        "        if m[\"name\"] == person:\n",
        "            return m[\"engaged_to\"]\n",
        "\n",
        "    for f in females:\n",
        "        if f[\"name\"] == person:\n",
        "            return f[\"engaged_to\"]\n",
        "\n",
        "    return False\n",
        "\n",
        "\n",
        "def is_engaged(person):\n",
        "    for m in males:\n",
        "        if m[\"name\"] == person:\n",
        "            if m[\"engaged_to\"] != \"\":\n",
        "                return True\n",
        "\n",
        "    for f in females:\n",
        "        if f[\"name\"] == person:\n",
        "            if f[\"engaged_to\"] != \"\":\n",
        "                return True\n",
        "\n",
        "    return False\n",
        "\n",
        "\n",
        "def who_do_you_love_more(person, candidate1, candidate2):\n",
        "    for m in males:\n",
        "        if m[\"name\"] == person:\n",
        "            for x in range(0, len(males)):\n",
        "                if candidate1 == m[\"preferences\"][x]:\n",
        "                    return candidate1\n",
        "                if candidate2 == m[\"preferences\"][x]:\n",
        "                    return candidate2\n",
        "\n",
        "    for f in females:\n",
        "        if f[\"name\"] == person:\n",
        "            for x in range(0, len(males)):\n",
        "                if candidate1 == f[\"preferences\"][x]:\n",
        "                    return candidate1\n",
        "                if candidate2 == f[\"preferences\"][x]:\n",
        "                    return candidate2\n",
        "\n",
        "\n",
        "def engage(dramaKing, dramaQueen):\n",
        "    for m in males:\n",
        "        if m[\"name\"] == dramaKing:\n",
        "            m[\"engaged_to\"] = dramaQueen\n",
        "            m[\"is_free\"] = False\n",
        "\n",
        "    for f in females:\n",
        "        if f[\"name\"] == dramaQueen:\n",
        "            f[\"engaged_to\"] = dramaKing\n",
        "            f[\"is_free\"] = False\n",
        "\n",
        "\n",
        "def get_name_from_ranking(dramaKing, rank):\n",
        "    for m in males:\n",
        "        if m[\"name\"] == dramaKing:\n",
        "            return m[\"preferences\"][rank]\n",
        "\n",
        "\n",
        "def main():\n",
        "    while (True):\n",
        "        numberOfPairs = len(males)\n",
        "        good = 1\n",
        "        for m in males:\n",
        "            dramaKing = m[\"name\"]\n",
        "            if (m[\"is_free\"] == False) and (len(m[\"proposed_to\"]) != numberOfPairs):\n",
        "                good += 1\n",
        "                if good == numberOfPairs:\n",
        "                    print(\"\\n\\n\\nSuccess!\")\n",
        "                    return\n",
        "\n",
        "            for x in range(0, numberOfPairs):\n",
        "                if not is_engaged(dramaKing):\n",
        "                    if x not in m[\"proposed_to\"]:\n",
        "                        m[\"proposed_to\"].append(x)\n",
        "\n",
        "                        woman = get_name_from_ranking(dramaKing, x)\n",
        "\n",
        "                        if is_engaged(woman):\n",
        "                            currentManOfTheEngaged = is_engaged_to(woman)\n",
        "\n",
        "                            betterLover = who_do_you_love_more(\n",
        "                                woman, currentManOfTheEngaged, dramaKing)\n",
        "\n",
        "                            engage(betterLover, woman)\n",
        "\n",
        "                            if betterLover != currentManOfTheEngaged:\n",
        "                                break_engagement(currentManOfTheEngaged)\n",
        "                        else:\n",
        "                            engage(dramaKing, woman)\n",
        "\n",
        "\n",
        "def happyend():\n",
        "    print(\"Resolution:\\n\")\n",
        "    for m in males:\n",
        "        dramaKing = m[\"name\"]\n",
        "        dramaQueen = m[\"engaged_to\"]\n",
        "\n",
        "        print(\"{} <---> {}\".format(dramaKing, dramaQueen))"
      ],
      "execution_count": 0,
      "outputs": []
    },
    {
      "cell_type": "code",
      "metadata": {
        "id": "6ECsh7vjKu24",
        "colab_type": "code",
        "outputId": "62fcfefd-f99f-4ad5-c620-787e5661bd75",
        "colab": {
          "base_uri": "https://localhost:8080/",
          "height": 187
        }
      },
      "source": [
        "males = [\n",
        "    {\n",
        "        \"name\": \"Bob\",\n",
        "        \"is_free\": True,\n",
        "        \"gender\": \"male\",\n",
        "        \"preferences\": [\"Lea\", \"Ann\", \"Sue\"],\n",
        "        \"engaged_to\": \"\",\n",
        "        \"proposed_to\":[],\n",
        "    },\n",
        "    {\n",
        "        \"name\": \"Jim\",\n",
        "        \"is_free\": True,\n",
        "        \"gender\": \"male\",\n",
        "        \"preferences\": [\"Lea\", \"Sue\", \"Ann\"],\n",
        "        \"engaged_to\": \"\",\n",
        "        \"proposed_to\":[],\n",
        "    },\n",
        "    {\n",
        "        \"name\": \"Tom\",\n",
        "        \"is_free\": True,\n",
        "        \"gender\": \"male\",\n",
        "        \"preferences\": [\"Sue\", \"Lea\", \"Ann\"],\n",
        "        \"engaged_to\": \"\",\n",
        "        \"proposed_to\":[],\n",
        "    }\n",
        "]\n",
        "\n",
        "females = [\n",
        "    {\n",
        "        \"name\": \"Ann\",\n",
        "        \"is_free\": True,\n",
        "        \"gender\": \"female\",\n",
        "        \"preferences\": [\"Jim\", \"Tom\", \"Bob\"],\n",
        "        \"engaged_to\": \"\",\n",
        "        \"proposed_to\":[],\n",
        "    },\n",
        "    {\n",
        "        \"name\": \"Lea\",\n",
        "        \"is_free\": True,\n",
        "        \"gender\": \"female\",\n",
        "        \"preferences\": [\"Tom\", \"Bob\", \"Jim\"],\n",
        "        \"engaged_to\": \"\",\n",
        "        \"proposed_to\":[],\n",
        "    },\n",
        "    {\n",
        "        \"name\": \"Sue\",\n",
        "        \"is_free\": True,\n",
        "        \"gender\": \"female\",\n",
        "        \"preferences\": [\"Jim\", \"Tom\", \"Bob\"],\n",
        "        \"engaged_to\": \"\",\n",
        "        \"proposed_to\":[],\n",
        "    },\n",
        "]\n",
        "\n",
        "\n",
        "main()\n",
        "happyend()"
      ],
      "execution_count": 0,
      "outputs": [
        {
          "output_type": "stream",
          "text": [
            "Bob is breaking with Lea.\n",
            "\n",
            "\n",
            "\n",
            "Success!\n",
            "Resolution:\n",
            "\n",
            "Bob <---> Ann\n",
            "Jim <---> Sue\n",
            "Tom <---> Lea\n"
          ],
          "name": "stdout"
        }
      ]
    },
    {
      "cell_type": "code",
      "metadata": {
        "id": "1NPA5mKIKwAc",
        "colab_type": "code",
        "colab": {}
      },
      "source": [
        ""
      ],
      "execution_count": 0,
      "outputs": []
    }
  ]
}